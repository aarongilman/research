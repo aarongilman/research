{
 "cells": [
  {
   "cell_type": "markdown",
   "metadata": {
    "extensions": {
     "jupyter_dashboards": {
      "version": 1,
      "views": {
       "grid_default": {},
       "report_default": {
        "hidden": false
       }
      }
     }
    }
   },
   "source": [
    "## A Detailed Decomposition of the Market Composition"
   ]
  },
  {
   "cell_type": "code",
   "execution_count": 158,
   "metadata": {
    "extensions": {
     "jupyter_dashboards": {
      "version": 1,
      "views": {
       "grid_default": {},
       "report_default": {
        "hidden": true
       }
      }
     }
    },
    "slideshow": {
     "slide_type": "skip"
    }
   },
   "outputs": [],
   "source": [
    "import os\n",
    "os.environ['TIINGO_API_KEY'] = \"put your own key here\"\n",
    "finnhub_token = 'put your own key here'"
   ]
  },
  {
   "cell_type": "code",
   "execution_count": 159,
   "metadata": {
    "extensions": {
     "jupyter_dashboards": {
      "version": 1,
      "views": {
       "grid_default": {},
       "report_default": {
        "hidden": true
       }
      }
     }
    },
    "slideshow": {
     "slide_type": "fragment"
    }
   },
   "outputs": [],
   "source": [
    "import pandas as pd\n",
    "import requests\n",
    "from pandas_datareader import data as web\n",
    "import pandas as pd\n",
    "from dateutil.relativedelta import relativedelta\n",
    "from datetime import datetime\n",
    "%matplotlib inline"
   ]
  },
  {
   "cell_type": "markdown",
   "metadata": {
    "extensions": {
     "jupyter_dashboards": {
      "version": 1,
      "views": {
       "grid_default": {},
       "report_default": {
        "hidden": false
       }
      }
     }
    }
   },
   "source": [
    "**First we are going to gather the necessary data to perform our analysis.**\n",
    "\n",
    "**We need to get a list of all of the companies in the S&P 500, along with their size. I am going to use a dataset based on the holdings of the popular ETF, SPY, and use the weights as a proxy for their size. The ETF weights companies based on their market capitalization, so it should serve its purpose**"
   ]
  },
  {
   "cell_type": "code",
   "execution_count": 160,
   "metadata": {
    "extensions": {
     "jupyter_dashboards": {
      "version": 1,
      "views": {
       "grid_default": {},
       "report_default": {
        "hidden": false
       }
      }
     }
    }
   },
   "outputs": [],
   "source": [
    "constituents = requests.get('https://finnhub.io/api/v1/etf/holdings?symbol=SPY&token={}'.format(finnhub_token))"
   ]
  },
  {
   "cell_type": "code",
   "execution_count": 161,
   "metadata": {
    "extensions": {
     "jupyter_dashboards": {
      "version": 1,
      "views": {
       "grid_default": {},
       "report_default": {
        "hidden": false
       }
      }
     }
    }
   },
   "outputs": [],
   "source": [
    "constituents_df = pd.DataFrame.from_records(constituents.json()['holdings'])"
   ]
  },
  {
   "cell_type": "code",
   "execution_count": 162,
   "metadata": {
    "extensions": {
     "jupyter_dashboards": {
      "version": 1,
      "views": {
       "grid_default": {},
       "report_default": {
        "hidden": false
       }
      }
     }
    }
   },
   "outputs": [
    {
     "data": {
      "text/html": [
       "<div>\n",
       "<style scoped>\n",
       "    .dataframe tbody tr th:only-of-type {\n",
       "        vertical-align: middle;\n",
       "    }\n",
       "\n",
       "    .dataframe tbody tr th {\n",
       "        vertical-align: top;\n",
       "    }\n",
       "\n",
       "    .dataframe thead th {\n",
       "        text-align: right;\n",
       "    }\n",
       "</style>\n",
       "<table border=\"1\" class=\"dataframe\">\n",
       "  <thead>\n",
       "    <tr style=\"text-align: right;\">\n",
       "      <th></th>\n",
       "      <th>percent</th>\n",
       "      <th>share</th>\n",
       "      <th>symbol</th>\n",
       "    </tr>\n",
       "  </thead>\n",
       "  <tbody>\n",
       "    <tr>\n",
       "      <th>0</th>\n",
       "      <td>5.918711</td>\n",
       "      <td>43766308</td>\n",
       "      <td>AAPL</td>\n",
       "    </tr>\n",
       "    <tr>\n",
       "      <th>1</th>\n",
       "      <td>5.815551</td>\n",
       "      <td>81420240</td>\n",
       "      <td>MSFT</td>\n",
       "    </tr>\n",
       "    <tr>\n",
       "      <th>2</th>\n",
       "      <td>4.730508</td>\n",
       "      <td>4501968</td>\n",
       "      <td>AMZN</td>\n",
       "    </tr>\n",
       "    <tr>\n",
       "      <th>3</th>\n",
       "      <td>2.180427</td>\n",
       "      <td>25837586</td>\n",
       "      <td>FB</td>\n",
       "    </tr>\n",
       "    <tr>\n",
       "      <th>4</th>\n",
       "      <td>1.710792</td>\n",
       "      <td>3224102</td>\n",
       "      <td>GOOGL</td>\n",
       "    </tr>\n",
       "    <tr>\n",
       "      <th>5</th>\n",
       "      <td>1.670869</td>\n",
       "      <td>3142476</td>\n",
       "      <td>GOOG</td>\n",
       "    </tr>\n",
       "    <tr>\n",
       "      <th>6</th>\n",
       "      <td>1.479941</td>\n",
       "      <td>28309444</td>\n",
       "      <td>JNJ</td>\n",
       "    </tr>\n",
       "    <tr>\n",
       "      <th>7</th>\n",
       "      <td>1.397719</td>\n",
       "      <td>20891280</td>\n",
       "      <td>BRK.B</td>\n",
       "    </tr>\n",
       "    <tr>\n",
       "      <th>8</th>\n",
       "      <td>1.228678</td>\n",
       "      <td>18128360</td>\n",
       "      <td>V</td>\n",
       "    </tr>\n",
       "    <tr>\n",
       "      <th>9</th>\n",
       "      <td>1.162121</td>\n",
       "      <td>26593612</td>\n",
       "      <td>PG</td>\n",
       "    </tr>\n",
       "  </tbody>\n",
       "</table>\n",
       "</div>"
      ],
      "text/plain": [
       "    percent     share symbol\n",
       "0  5.918711  43766308   AAPL\n",
       "1  5.815551  81420240   MSFT\n",
       "2  4.730508   4501968   AMZN\n",
       "3  2.180427  25837586     FB\n",
       "4  1.710792   3224102  GOOGL\n",
       "5  1.670869   3142476   GOOG\n",
       "6  1.479941  28309444    JNJ\n",
       "7  1.397719  20891280  BRK.B\n",
       "8  1.228678  18128360      V\n",
       "9  1.162121  26593612     PG"
      ]
     },
     "execution_count": 162,
     "metadata": {},
     "output_type": "execute_result"
    }
   ],
   "source": [
    "constituents_df.head(10)"
   ]
  },
  {
   "cell_type": "markdown",
   "metadata": {
    "extensions": {
     "jupyter_dashboards": {
      "version": 1,
      "views": {
       "grid_default": {},
       "report_default": {
        "hidden": false
       }
      }
     }
    }
   },
   "source": [
    "**Now that we have a nice list of the companies along with weights, we need to get price data so we can calculate trailing returns for each company, before we move to the next step.**\n",
    "1. First we are going to drop the last row, which has None as the ticker, which means it is probably cash in the ETF\n",
    "2. We are going to use adjusted close prices instead of unadjusted, to account for any dividends or splits in the companies, to put every company on the same page."
   ]
  },
  {
   "cell_type": "code",
   "execution_count": 163,
   "metadata": {
    "extensions": {
     "jupyter_dashboards": {
      "version": 1,
      "views": {
       "grid_default": {},
       "report_default": {
        "hidden": true
       }
      }
     }
    }
   },
   "outputs": [],
   "source": [
    "constituents_df = constituents_df.iloc[:505]\n",
    "constituents_df.loc[:, 'symbol'] = constituents_df['symbol'].apply(lambda x: x.replace(\".\", \"-\"))"
   ]
  },
  {
   "cell_type": "code",
   "execution_count": 164,
   "metadata": {
    "extensions": {
     "jupyter_dashboards": {
      "version": 1,
      "views": {
       "grid_default": {},
       "report_default": {
        "hidden": true
       }
      }
     }
    }
   },
   "outputs": [],
   "source": [
    "tickers = list(set(constituents_df['symbol'].to_list()))"
   ]
  },
  {
   "cell_type": "code",
   "execution_count": 165,
   "metadata": {
    "extensions": {
     "jupyter_dashboards": {
      "version": 1,
      "views": {
       "grid_default": {},
       "report_default": {
        "hidden": true
       }
      }
     }
    }
   },
   "outputs": [],
   "source": [
    "adjusted_close = pd.DataFrame(columns=tickers)\n",
    "null_tickers = []\n",
    "\n",
    "for ticker in tickers:\n",
    "  try:\n",
    "    data_panel = web.DataReader([ticker], \"tiingo\").loc[ticker]['adjClose'].to_frame()\n",
    "    data_panel.columns = [ticker]\n",
    "    data_panel.index = pd.to_datetime(data_panel.index)\n",
    "    if data_panel.index.max().tz_localize(None) < datetime.today() - relativedelta(days=5):\n",
    "        print(\"{} most recent date is {}\".format(ticker, str(data_panel.index.max())))\n",
    "    else:\n",
    "        adjusted_close[ticker] = data_panel[ticker]\n",
    "  except:\n",
    "    null_tickers.append(ticker)\n",
    "    print(\"{} not found\".format(ticker))"
   ]
  },
  {
   "cell_type": "code",
   "execution_count": 166,
   "metadata": {
    "extensions": {
     "jupyter_dashboards": {
      "version": 1,
      "views": {
       "grid_default": {},
       "report_default": {
        "hidden": true
       }
      }
     }
    }
   },
   "outputs": [],
   "source": [
    "filtered_adjusted_close = adjusted_close.loc['2019-12-31':]"
   ]
  },
  {
   "cell_type": "code",
   "execution_count": 167,
   "metadata": {
    "extensions": {
     "jupyter_dashboards": {
      "version": 1,
      "views": {
       "grid_default": {},
       "report_default": {
        "hidden": true
       }
      }
     }
    }
   },
   "outputs": [],
   "source": [
    "constituents_df.set_index('symbol', inplace=True)"
   ]
  },
  {
   "cell_type": "markdown",
   "metadata": {
    "extensions": {
     "jupyter_dashboards": {
      "version": 1,
      "views": {
       "grid_default": {},
       "report_default": {
        "hidden": false
       }
      }
     }
    }
   },
   "source": [
    "**I am interested in breaking up the returns this year into 4 groups or intervals.**\n",
    "1. The return year-to-date (from the start of the year to today)\n",
    "2. The return peak-to-trough (from the peak of the market to the trough of the market this year)\n",
    "3. The return trough-to-date (from the market bottom to today)\n",
    "4. The return start-to-peak (from the start of the year to the peak, right before the crash)"
   ]
  },
  {
   "cell_type": "code",
   "execution_count": 168,
   "metadata": {
    "extensions": {
     "jupyter_dashboards": {
      "version": 1,
      "views": {
       "grid_default": {},
       "report_default": {
        "hidden": true
       }
      }
     }
    }
   },
   "outputs": [],
   "source": [
    "peak = '2020-02-19'\n",
    "trough = '2020-03-23'"
   ]
  },
  {
   "cell_type": "code",
   "execution_count": 169,
   "metadata": {
    "extensions": {
     "jupyter_dashboards": {
      "version": 1,
      "views": {
       "grid_default": {},
       "report_default": {
        "hidden": true
       }
      }
     }
    }
   },
   "outputs": [],
   "source": [
    "for ticker in filtered_adjusted_close.columns:\n",
    "    constituents_df.loc[ticker, 'ytd_return'] = (filtered_adjusted_close[ticker].iloc[-1] - filtered_adjusted_close[ticker].iloc[0])/filtered_adjusted_close[ticker].iloc[0]\n",
    "    constituents_df.loc[ticker, 'peak_to_trough'] = (filtered_adjusted_close[ticker].loc[trough] - filtered_adjusted_close[ticker].loc[peak])/filtered_adjusted_close[ticker].loc[peak]\n",
    "    constituents_df.loc[ticker, 'trough_to_date'] = (filtered_adjusted_close[ticker].iloc[-1] - filtered_adjusted_close[ticker].loc[trough])/filtered_adjusted_close[ticker].loc[trough]\n",
    "    constituents_df.loc[ticker, 'start_to_peak'] = (filtered_adjusted_close[ticker].loc[peak] - filtered_adjusted_close[ticker].iloc[0])/filtered_adjusted_close[ticker].iloc[0]"
   ]
  },
  {
   "cell_type": "code",
   "execution_count": 170,
   "metadata": {
    "extensions": {
     "jupyter_dashboards": {
      "version": 1,
      "views": {
       "grid_default": {},
       "report_default": {
        "hidden": false
       }
      }
     }
    }
   },
   "outputs": [
    {
     "data": {
      "text/html": [
       "<div>\n",
       "<style scoped>\n",
       "    .dataframe tbody tr th:only-of-type {\n",
       "        vertical-align: middle;\n",
       "    }\n",
       "\n",
       "    .dataframe tbody tr th {\n",
       "        vertical-align: top;\n",
       "    }\n",
       "\n",
       "    .dataframe thead th {\n",
       "        text-align: right;\n",
       "    }\n",
       "</style>\n",
       "<table border=\"1\" class=\"dataframe\">\n",
       "  <thead>\n",
       "    <tr style=\"text-align: right;\">\n",
       "      <th></th>\n",
       "      <th>percent</th>\n",
       "      <th>share</th>\n",
       "      <th>ytd_return</th>\n",
       "      <th>peak_to_trough</th>\n",
       "      <th>trough_to_date</th>\n",
       "      <th>start_to_peak</th>\n",
       "    </tr>\n",
       "    <tr>\n",
       "      <th>symbol</th>\n",
       "      <th></th>\n",
       "      <th></th>\n",
       "      <th></th>\n",
       "      <th></th>\n",
       "      <th></th>\n",
       "      <th></th>\n",
       "    </tr>\n",
       "  </thead>\n",
       "  <tbody>\n",
       "    <tr>\n",
       "      <th>AAPL</th>\n",
       "      <td>5.918711</td>\n",
       "      <td>43766308</td>\n",
       "      <td>0.469236</td>\n",
       "      <td>-0.306687</td>\n",
       "      <td>0.918285</td>\n",
       "      <td>0.104712</td>\n",
       "    </tr>\n",
       "    <tr>\n",
       "      <th>MSFT</th>\n",
       "      <td>5.815551</td>\n",
       "      <td>81420240</td>\n",
       "      <td>0.282050</td>\n",
       "      <td>-0.273921</td>\n",
       "      <td>0.482793</td>\n",
       "      <td>0.190805</td>\n",
       "    </tr>\n",
       "    <tr>\n",
       "      <th>AMZN</th>\n",
       "      <td>4.730508</td>\n",
       "      <td>4501968</td>\n",
       "      <td>0.623441</td>\n",
       "      <td>-0.123209</td>\n",
       "      <td>0.576525</td>\n",
       "      <td>0.174463</td>\n",
       "    </tr>\n",
       "    <tr>\n",
       "      <th>FB</th>\n",
       "      <td>2.180427</td>\n",
       "      <td>25837586</td>\n",
       "      <td>0.213252</td>\n",
       "      <td>-0.319049</td>\n",
       "      <td>0.681431</td>\n",
       "      <td>0.059635</td>\n",
       "    </tr>\n",
       "    <tr>\n",
       "      <th>GOOGL</th>\n",
       "      <td>1.710792</td>\n",
       "      <td>3224102</td>\n",
       "      <td>0.052263</td>\n",
       "      <td>-0.308708</td>\n",
       "      <td>0.337017</td>\n",
       "      <td>0.138481</td>\n",
       "    </tr>\n",
       "    <tr>\n",
       "      <th>GOOG</th>\n",
       "      <td>1.670869</td>\n",
       "      <td>3142476</td>\n",
       "      <td>0.058481</td>\n",
       "      <td>-0.307901</td>\n",
       "      <td>0.339375</td>\n",
       "      <td>0.141860</td>\n",
       "    </tr>\n",
       "    <tr>\n",
       "      <th>JNJ</th>\n",
       "      <td>1.479941</td>\n",
       "      <td>28309444</td>\n",
       "      <td>0.010278</td>\n",
       "      <td>-0.248935</td>\n",
       "      <td>0.317402</td>\n",
       "      <td>0.021046</td>\n",
       "    </tr>\n",
       "    <tr>\n",
       "      <th>BRK-B</th>\n",
       "      <td>1.397719</td>\n",
       "      <td>20891280</td>\n",
       "      <td>-0.074570</td>\n",
       "      <td>-0.292750</td>\n",
       "      <td>0.292851</td>\n",
       "      <td>0.012097</td>\n",
       "    </tr>\n",
       "    <tr>\n",
       "      <th>V</th>\n",
       "      <td>1.228678</td>\n",
       "      <td>18128360</td>\n",
       "      <td>0.044607</td>\n",
       "      <td>-0.363649</td>\n",
       "      <td>0.443923</td>\n",
       "      <td>0.136874</td>\n",
       "    </tr>\n",
       "    <tr>\n",
       "      <th>PG</th>\n",
       "      <td>1.162121</td>\n",
       "      <td>26593612</td>\n",
       "      <td>0.112063</td>\n",
       "      <td>-0.221142</td>\n",
       "      <td>0.413231</td>\n",
       "      <td>0.010317</td>\n",
       "    </tr>\n",
       "  </tbody>\n",
       "</table>\n",
       "</div>"
      ],
      "text/plain": [
       "         percent     share  ytd_return  peak_to_trough  trough_to_date  \\\n",
       "symbol                                                                   \n",
       "AAPL    5.918711  43766308    0.469236       -0.306687        0.918285   \n",
       "MSFT    5.815551  81420240    0.282050       -0.273921        0.482793   \n",
       "AMZN    4.730508   4501968    0.623441       -0.123209        0.576525   \n",
       "FB      2.180427  25837586    0.213252       -0.319049        0.681431   \n",
       "GOOGL   1.710792   3224102    0.052263       -0.308708        0.337017   \n",
       "GOOG    1.670869   3142476    0.058481       -0.307901        0.339375   \n",
       "JNJ     1.479941  28309444    0.010278       -0.248935        0.317402   \n",
       "BRK-B   1.397719  20891280   -0.074570       -0.292750        0.292851   \n",
       "V       1.228678  18128360    0.044607       -0.363649        0.443923   \n",
       "PG      1.162121  26593612    0.112063       -0.221142        0.413231   \n",
       "\n",
       "        start_to_peak  \n",
       "symbol                 \n",
       "AAPL         0.104712  \n",
       "MSFT         0.190805  \n",
       "AMZN         0.174463  \n",
       "FB           0.059635  \n",
       "GOOGL        0.138481  \n",
       "GOOG         0.141860  \n",
       "JNJ          0.021046  \n",
       "BRK-B        0.012097  \n",
       "V            0.136874  \n",
       "PG           0.010317  "
      ]
     },
     "execution_count": 170,
     "metadata": {},
     "output_type": "execute_result"
    }
   ],
   "source": [
    "constituents_df.head(10)"
   ]
  },
  {
   "cell_type": "markdown",
   "metadata": {
    "extensions": {
     "jupyter_dashboards": {
      "version": 1,
      "views": {
       "grid_default": {},
       "report_default": {
        "hidden": false
       }
      }
     }
    }
   },
   "source": [
    "**Next, we are going to split up the S&P 500 by market cap into deciles, which should give us around 50 companies per decile. We will be using these deciles to group the returns of the companies, to see if there is any pattern or information that may be interesting.**"
   ]
  },
  {
   "cell_type": "code",
   "execution_count": 171,
   "metadata": {
    "extensions": {
     "jupyter_dashboards": {
      "version": 1,
      "views": {
       "grid_default": {},
       "report_default": {
        "hidden": true
       }
      }
     }
    }
   },
   "outputs": [],
   "source": [
    "constituents_df.loc[:, 'decile'] = pd.qcut(constituents_df['percent'].to_list(), 10, labels=False)"
   ]
  },
  {
   "cell_type": "markdown",
   "metadata": {
    "extensions": {
     "jupyter_dashboards": {
      "version": 1,
      "views": {
       "grid_default": {},
       "report_default": {
        "hidden": false
       }
      }
     }
    }
   },
   "source": [
    "**Decile 9 is the 50 largest companies, while decile 0 represents the 50 smallest companies in the index**"
   ]
  },
  {
   "cell_type": "code",
   "execution_count": 172,
   "metadata": {
    "extensions": {
     "jupyter_dashboards": {
      "version": 1,
      "views": {
       "grid_default": {},
       "report_default": {
        "hidden": false
       }
      }
     }
    }
   },
   "outputs": [
    {
     "data": {
      "text/html": [
       "<div>\n",
       "<style scoped>\n",
       "    .dataframe tbody tr th:only-of-type {\n",
       "        vertical-align: middle;\n",
       "    }\n",
       "\n",
       "    .dataframe tbody tr th {\n",
       "        vertical-align: top;\n",
       "    }\n",
       "\n",
       "    .dataframe thead th {\n",
       "        text-align: right;\n",
       "    }\n",
       "</style>\n",
       "<table border=\"1\" class=\"dataframe\">\n",
       "  <thead>\n",
       "    <tr style=\"text-align: right;\">\n",
       "      <th></th>\n",
       "      <th>percent</th>\n",
       "      <th>share</th>\n",
       "      <th>ytd_return</th>\n",
       "      <th>peak_to_trough</th>\n",
       "      <th>trough_to_date</th>\n",
       "      <th>start_to_peak</th>\n",
       "      <th>decile</th>\n",
       "    </tr>\n",
       "    <tr>\n",
       "      <th>symbol</th>\n",
       "      <th></th>\n",
       "      <th></th>\n",
       "      <th></th>\n",
       "      <th></th>\n",
       "      <th></th>\n",
       "      <th></th>\n",
       "      <th></th>\n",
       "    </tr>\n",
       "  </thead>\n",
       "  <tbody>\n",
       "    <tr>\n",
       "      <th>AAPL</th>\n",
       "      <td>5.918711</td>\n",
       "      <td>43766308</td>\n",
       "      <td>0.469236</td>\n",
       "      <td>-0.306687</td>\n",
       "      <td>0.918285</td>\n",
       "      <td>0.104712</td>\n",
       "      <td>9</td>\n",
       "    </tr>\n",
       "    <tr>\n",
       "      <th>MSFT</th>\n",
       "      <td>5.815551</td>\n",
       "      <td>81420240</td>\n",
       "      <td>0.282050</td>\n",
       "      <td>-0.273921</td>\n",
       "      <td>0.482793</td>\n",
       "      <td>0.190805</td>\n",
       "      <td>9</td>\n",
       "    </tr>\n",
       "    <tr>\n",
       "      <th>AMZN</th>\n",
       "      <td>4.730508</td>\n",
       "      <td>4501968</td>\n",
       "      <td>0.623441</td>\n",
       "      <td>-0.123209</td>\n",
       "      <td>0.576525</td>\n",
       "      <td>0.174463</td>\n",
       "      <td>9</td>\n",
       "    </tr>\n",
       "    <tr>\n",
       "      <th>FB</th>\n",
       "      <td>2.180427</td>\n",
       "      <td>25837586</td>\n",
       "      <td>0.213252</td>\n",
       "      <td>-0.319049</td>\n",
       "      <td>0.681431</td>\n",
       "      <td>0.059635</td>\n",
       "      <td>9</td>\n",
       "    </tr>\n",
       "    <tr>\n",
       "      <th>GOOGL</th>\n",
       "      <td>1.710792</td>\n",
       "      <td>3224102</td>\n",
       "      <td>0.052263</td>\n",
       "      <td>-0.308708</td>\n",
       "      <td>0.337017</td>\n",
       "      <td>0.138481</td>\n",
       "      <td>9</td>\n",
       "    </tr>\n",
       "    <tr>\n",
       "      <th>...</th>\n",
       "      <td>...</td>\n",
       "      <td>...</td>\n",
       "      <td>...</td>\n",
       "      <td>...</td>\n",
       "      <td>...</td>\n",
       "      <td>...</td>\n",
       "      <td>...</td>\n",
       "    </tr>\n",
       "    <tr>\n",
       "      <th>GPS</th>\n",
       "      <td>0.010548</td>\n",
       "      <td>2304094</td>\n",
       "      <td>-0.051324</td>\n",
       "      <td>-0.634459</td>\n",
       "      <td>1.635350</td>\n",
       "      <td>-0.015211</td>\n",
       "      <td>0</td>\n",
       "    </tr>\n",
       "    <tr>\n",
       "      <th>UAA</th>\n",
       "      <td>0.007050</td>\n",
       "      <td>1942878</td>\n",
       "      <td>-0.470833</td>\n",
       "      <td>-0.513579</td>\n",
       "      <td>0.418114</td>\n",
       "      <td>-0.232870</td>\n",
       "      <td>0</td>\n",
       "    </tr>\n",
       "    <tr>\n",
       "      <th>UA</th>\n",
       "      <td>0.006668</td>\n",
       "      <td>2071528</td>\n",
       "      <td>-0.478624</td>\n",
       "      <td>-0.522727</td>\n",
       "      <td>0.400560</td>\n",
       "      <td>-0.220021</td>\n",
       "      <td>0</td>\n",
       "    </tr>\n",
       "    <tr>\n",
       "      <th>NWS</th>\n",
       "      <td>0.005914</td>\n",
       "      <td>1320019</td>\n",
       "      <td>-0.008832</td>\n",
       "      <td>-0.454246</td>\n",
       "      <td>0.750980</td>\n",
       "      <td>0.037216</td>\n",
       "      <td>0</td>\n",
       "    </tr>\n",
       "    <tr>\n",
       "      <th>COTY</th>\n",
       "      <td>0.004843</td>\n",
       "      <td>3215328</td>\n",
       "      <td>-0.737601</td>\n",
       "      <td>-0.551784</td>\n",
       "      <td>-0.433010</td>\n",
       "      <td>0.032522</td>\n",
       "      <td>0</td>\n",
       "    </tr>\n",
       "  </tbody>\n",
       "</table>\n",
       "<p>505 rows × 7 columns</p>\n",
       "</div>"
      ],
      "text/plain": [
       "         percent     share  ytd_return  peak_to_trough  trough_to_date  \\\n",
       "symbol                                                                   \n",
       "AAPL    5.918711  43766308    0.469236       -0.306687        0.918285   \n",
       "MSFT    5.815551  81420240    0.282050       -0.273921        0.482793   \n",
       "AMZN    4.730508   4501968    0.623441       -0.123209        0.576525   \n",
       "FB      2.180427  25837586    0.213252       -0.319049        0.681431   \n",
       "GOOGL   1.710792   3224102    0.052263       -0.308708        0.337017   \n",
       "...          ...       ...         ...             ...             ...   \n",
       "GPS     0.010548   2304094   -0.051324       -0.634459        1.635350   \n",
       "UAA     0.007050   1942878   -0.470833       -0.513579        0.418114   \n",
       "UA      0.006668   2071528   -0.478624       -0.522727        0.400560   \n",
       "NWS     0.005914   1320019   -0.008832       -0.454246        0.750980   \n",
       "COTY    0.004843   3215328   -0.737601       -0.551784       -0.433010   \n",
       "\n",
       "        start_to_peak  decile  \n",
       "symbol                         \n",
       "AAPL         0.104712       9  \n",
       "MSFT         0.190805       9  \n",
       "AMZN         0.174463       9  \n",
       "FB           0.059635       9  \n",
       "GOOGL        0.138481       9  \n",
       "...               ...     ...  \n",
       "GPS         -0.015211       0  \n",
       "UAA         -0.232870       0  \n",
       "UA          -0.220021       0  \n",
       "NWS          0.037216       0  \n",
       "COTY         0.032522       0  \n",
       "\n",
       "[505 rows x 7 columns]"
      ]
     },
     "execution_count": 172,
     "metadata": {},
     "output_type": "execute_result"
    }
   ],
   "source": [
    "constituents_df"
   ]
  },
  {
   "cell_type": "markdown",
   "metadata": {
    "extensions": {
     "jupyter_dashboards": {
      "version": 1,
      "views": {
       "grid_default": {},
       "report_default": {
        "hidden": false
       }
      }
     }
    }
   },
   "source": [
    "**Now that we have all of the data we need to start digging in, we are going to group the data by decile, and look at some descriptive statistics for each return interval. This will give us the average, min, max, standard deviation, etc. so it will be helpful to get a peak into the variation within each group.**"
   ]
  },
  {
   "cell_type": "code",
   "execution_count": 173,
   "metadata": {
    "extensions": {
     "jupyter_dashboards": {
      "version": 1,
      "views": {
       "grid_default": {},
       "report_default": {
        "hidden": false
       }
      }
     }
    }
   },
   "outputs": [
    {
     "data": {
      "text/html": [
       "<div>\n",
       "<style scoped>\n",
       "    .dataframe tbody tr th:only-of-type {\n",
       "        vertical-align: middle;\n",
       "    }\n",
       "\n",
       "    .dataframe tbody tr th {\n",
       "        vertical-align: top;\n",
       "    }\n",
       "\n",
       "    .dataframe thead th {\n",
       "        text-align: right;\n",
       "    }\n",
       "</style>\n",
       "<table border=\"1\" class=\"dataframe\">\n",
       "  <thead>\n",
       "    <tr style=\"text-align: right;\">\n",
       "      <th></th>\n",
       "      <th>count</th>\n",
       "      <th>mean</th>\n",
       "      <th>std</th>\n",
       "      <th>min</th>\n",
       "      <th>25%</th>\n",
       "      <th>50%</th>\n",
       "      <th>75%</th>\n",
       "      <th>max</th>\n",
       "    </tr>\n",
       "    <tr>\n",
       "      <th>decile</th>\n",
       "      <th></th>\n",
       "      <th></th>\n",
       "      <th></th>\n",
       "      <th></th>\n",
       "      <th></th>\n",
       "      <th></th>\n",
       "      <th></th>\n",
       "      <th></th>\n",
       "    </tr>\n",
       "  </thead>\n",
       "  <tbody>\n",
       "    <tr>\n",
       "      <th>0</th>\n",
       "      <td>51.0</td>\n",
       "      <td>-0.361757</td>\n",
       "      <td>0.275103</td>\n",
       "      <td>-0.740284</td>\n",
       "      <td>-0.533002</td>\n",
       "      <td>-0.415173</td>\n",
       "      <td>-0.290259</td>\n",
       "      <td>0.682426</td>\n",
       "    </tr>\n",
       "    <tr>\n",
       "      <th>1</th>\n",
       "      <td>50.0</td>\n",
       "      <td>-0.193704</td>\n",
       "      <td>0.233456</td>\n",
       "      <td>-0.718744</td>\n",
       "      <td>-0.323039</td>\n",
       "      <td>-0.210089</td>\n",
       "      <td>-0.114146</td>\n",
       "      <td>0.587410</td>\n",
       "    </tr>\n",
       "    <tr>\n",
       "      <th>2</th>\n",
       "      <td>51.0</td>\n",
       "      <td>-0.115670</td>\n",
       "      <td>0.236562</td>\n",
       "      <td>-0.649174</td>\n",
       "      <td>-0.261785</td>\n",
       "      <td>-0.121119</td>\n",
       "      <td>0.001729</td>\n",
       "      <td>0.524767</td>\n",
       "    </tr>\n",
       "    <tr>\n",
       "      <th>3</th>\n",
       "      <td>50.0</td>\n",
       "      <td>-0.102911</td>\n",
       "      <td>0.232186</td>\n",
       "      <td>-0.731030</td>\n",
       "      <td>-0.284916</td>\n",
       "      <td>-0.083619</td>\n",
       "      <td>0.068838</td>\n",
       "      <td>0.416864</td>\n",
       "    </tr>\n",
       "    <tr>\n",
       "      <th>4</th>\n",
       "      <td>51.0</td>\n",
       "      <td>-0.012489</td>\n",
       "      <td>0.256862</td>\n",
       "      <td>-0.562281</td>\n",
       "      <td>-0.178875</td>\n",
       "      <td>-0.017957</td>\n",
       "      <td>0.109715</td>\n",
       "      <td>0.789365</td>\n",
       "    </tr>\n",
       "    <tr>\n",
       "      <th>5</th>\n",
       "      <td>48.0</td>\n",
       "      <td>-0.086948</td>\n",
       "      <td>0.202346</td>\n",
       "      <td>-0.575181</td>\n",
       "      <td>-0.200709</td>\n",
       "      <td>-0.068079</td>\n",
       "      <td>0.046012</td>\n",
       "      <td>0.361301</td>\n",
       "    </tr>\n",
       "    <tr>\n",
       "      <th>6</th>\n",
       "      <td>50.0</td>\n",
       "      <td>-0.023803</td>\n",
       "      <td>0.260095</td>\n",
       "      <td>-0.556683</td>\n",
       "      <td>-0.210106</td>\n",
       "      <td>-0.003814</td>\n",
       "      <td>0.129845</td>\n",
       "      <td>0.491309</td>\n",
       "    </tr>\n",
       "    <tr>\n",
       "      <th>7</th>\n",
       "      <td>51.0</td>\n",
       "      <td>0.030680</td>\n",
       "      <td>0.238403</td>\n",
       "      <td>-0.479776</td>\n",
       "      <td>-0.131881</td>\n",
       "      <td>0.010095</td>\n",
       "      <td>0.137846</td>\n",
       "      <td>0.764972</td>\n",
       "    </tr>\n",
       "    <tr>\n",
       "      <th>8</th>\n",
       "      <td>50.0</td>\n",
       "      <td>0.018359</td>\n",
       "      <td>0.269111</td>\n",
       "      <td>-0.560666</td>\n",
       "      <td>-0.177307</td>\n",
       "      <td>0.001764</td>\n",
       "      <td>0.202872</td>\n",
       "      <td>0.631022</td>\n",
       "    </tr>\n",
       "    <tr>\n",
       "      <th>9</th>\n",
       "      <td>51.0</td>\n",
       "      <td>0.097196</td>\n",
       "      <td>0.275127</td>\n",
       "      <td>-0.480095</td>\n",
       "      <td>-0.063144</td>\n",
       "      <td>0.077347</td>\n",
       "      <td>0.205125</td>\n",
       "      <td>1.063830</td>\n",
       "    </tr>\n",
       "  </tbody>\n",
       "</table>\n",
       "</div>"
      ],
      "text/plain": [
       "        count      mean       std       min       25%       50%       75%  \\\n",
       "decile                                                                      \n",
       "0        51.0 -0.361757  0.275103 -0.740284 -0.533002 -0.415173 -0.290259   \n",
       "1        50.0 -0.193704  0.233456 -0.718744 -0.323039 -0.210089 -0.114146   \n",
       "2        51.0 -0.115670  0.236562 -0.649174 -0.261785 -0.121119  0.001729   \n",
       "3        50.0 -0.102911  0.232186 -0.731030 -0.284916 -0.083619  0.068838   \n",
       "4        51.0 -0.012489  0.256862 -0.562281 -0.178875 -0.017957  0.109715   \n",
       "5        48.0 -0.086948  0.202346 -0.575181 -0.200709 -0.068079  0.046012   \n",
       "6        50.0 -0.023803  0.260095 -0.556683 -0.210106 -0.003814  0.129845   \n",
       "7        51.0  0.030680  0.238403 -0.479776 -0.131881  0.010095  0.137846   \n",
       "8        50.0  0.018359  0.269111 -0.560666 -0.177307  0.001764  0.202872   \n",
       "9        51.0  0.097196  0.275127 -0.480095 -0.063144  0.077347  0.205125   \n",
       "\n",
       "             max  \n",
       "decile            \n",
       "0       0.682426  \n",
       "1       0.587410  \n",
       "2       0.524767  \n",
       "3       0.416864  \n",
       "4       0.789365  \n",
       "5       0.361301  \n",
       "6       0.491309  \n",
       "7       0.764972  \n",
       "8       0.631022  \n",
       "9       1.063830  "
      ]
     },
     "execution_count": 173,
     "metadata": {},
     "output_type": "execute_result"
    }
   ],
   "source": [
    "constituents_df.groupby('decile')['ytd_return'].describe()"
   ]
  },
  {
   "cell_type": "markdown",
   "metadata": {
    "extensions": {
     "jupyter_dashboards": {
      "version": 1,
      "views": {
       "grid_default": {},
       "report_default": {
        "hidden": false
       }
      }
     }
    }
   },
   "source": [
    "Interesting, so far this year there has been an almost linear relationship between size and the magnitude of return for each batch of companies. The 51 largest companies (decile 9) have return roughly 8.25% on average, while the bottom 51 (decile 0) have returned -37.2% roughly. The second largest group, for comparison, return 3.24% on average and the second smallest group returned -16.73% on average.\n",
    "\n",
    "One thing to note, is that the standard deviation was actually higher for the 51 largest companies, relative to the 51 smallest, which means not every company in the top 51 benefited as much as the average implies. The worst of the top 51 is down 37.6% YTD, while the best is up 81.26%!"
   ]
  },
  {
   "cell_type": "code",
   "execution_count": 174,
   "metadata": {
    "extensions": {
     "jupyter_dashboards": {
      "version": 1,
      "views": {
       "grid_default": {},
       "report_default": {
        "hidden": false
       }
      }
     }
    }
   },
   "outputs": [
    {
     "data": {
      "text/html": [
       "<div>\n",
       "<style scoped>\n",
       "    .dataframe tbody tr th:only-of-type {\n",
       "        vertical-align: middle;\n",
       "    }\n",
       "\n",
       "    .dataframe tbody tr th {\n",
       "        vertical-align: top;\n",
       "    }\n",
       "\n",
       "    .dataframe thead th {\n",
       "        text-align: right;\n",
       "    }\n",
       "</style>\n",
       "<table border=\"1\" class=\"dataframe\">\n",
       "  <thead>\n",
       "    <tr style=\"text-align: right;\">\n",
       "      <th></th>\n",
       "      <th>count</th>\n",
       "      <th>mean</th>\n",
       "      <th>std</th>\n",
       "      <th>min</th>\n",
       "      <th>25%</th>\n",
       "      <th>50%</th>\n",
       "      <th>75%</th>\n",
       "      <th>max</th>\n",
       "    </tr>\n",
       "    <tr>\n",
       "      <th>decile</th>\n",
       "      <th></th>\n",
       "      <th></th>\n",
       "      <th></th>\n",
       "      <th></th>\n",
       "      <th></th>\n",
       "      <th></th>\n",
       "      <th></th>\n",
       "      <th></th>\n",
       "    </tr>\n",
       "  </thead>\n",
       "  <tbody>\n",
       "    <tr>\n",
       "      <th>0</th>\n",
       "      <td>51.0</td>\n",
       "      <td>-0.544885</td>\n",
       "      <td>0.124625</td>\n",
       "      <td>-0.848613</td>\n",
       "      <td>-0.632865</td>\n",
       "      <td>-0.533997</td>\n",
       "      <td>-0.458527</td>\n",
       "      <td>-0.235627</td>\n",
       "    </tr>\n",
       "    <tr>\n",
       "      <th>1</th>\n",
       "      <td>50.0</td>\n",
       "      <td>-0.426122</td>\n",
       "      <td>0.152007</td>\n",
       "      <td>-0.743048</td>\n",
       "      <td>-0.505031</td>\n",
       "      <td>-0.432222</td>\n",
       "      <td>-0.334520</td>\n",
       "      <td>-0.093590</td>\n",
       "    </tr>\n",
       "    <tr>\n",
       "      <th>2</th>\n",
       "      <td>51.0</td>\n",
       "      <td>-0.418262</td>\n",
       "      <td>0.138979</td>\n",
       "      <td>-0.762157</td>\n",
       "      <td>-0.505906</td>\n",
       "      <td>-0.421385</td>\n",
       "      <td>-0.331606</td>\n",
       "      <td>-0.132745</td>\n",
       "    </tr>\n",
       "    <tr>\n",
       "      <th>3</th>\n",
       "      <td>50.0</td>\n",
       "      <td>-0.400695</td>\n",
       "      <td>0.154246</td>\n",
       "      <td>-0.757659</td>\n",
       "      <td>-0.471202</td>\n",
       "      <td>-0.400703</td>\n",
       "      <td>-0.316084</td>\n",
       "      <td>0.092786</td>\n",
       "    </tr>\n",
       "    <tr>\n",
       "      <th>4</th>\n",
       "      <td>51.0</td>\n",
       "      <td>-0.346275</td>\n",
       "      <td>0.138485</td>\n",
       "      <td>-0.633895</td>\n",
       "      <td>-0.440915</td>\n",
       "      <td>-0.352053</td>\n",
       "      <td>-0.258753</td>\n",
       "      <td>-0.002328</td>\n",
       "    </tr>\n",
       "    <tr>\n",
       "      <th>5</th>\n",
       "      <td>48.0</td>\n",
       "      <td>-0.411574</td>\n",
       "      <td>0.118316</td>\n",
       "      <td>-0.711908</td>\n",
       "      <td>-0.499475</td>\n",
       "      <td>-0.418547</td>\n",
       "      <td>-0.318803</td>\n",
       "      <td>-0.169801</td>\n",
       "    </tr>\n",
       "    <tr>\n",
       "      <th>6</th>\n",
       "      <td>50.0</td>\n",
       "      <td>-0.374610</td>\n",
       "      <td>0.127997</td>\n",
       "      <td>-0.605005</td>\n",
       "      <td>-0.457082</td>\n",
       "      <td>-0.381765</td>\n",
       "      <td>-0.315632</td>\n",
       "      <td>0.052133</td>\n",
       "    </tr>\n",
       "    <tr>\n",
       "      <th>7</th>\n",
       "      <td>51.0</td>\n",
       "      <td>-0.335487</td>\n",
       "      <td>0.107150</td>\n",
       "      <td>-0.585724</td>\n",
       "      <td>-0.403734</td>\n",
       "      <td>-0.331818</td>\n",
       "      <td>-0.286962</td>\n",
       "      <td>-0.095206</td>\n",
       "    </tr>\n",
       "    <tr>\n",
       "      <th>8</th>\n",
       "      <td>50.0</td>\n",
       "      <td>-0.334608</td>\n",
       "      <td>0.144594</td>\n",
       "      <td>-0.687792</td>\n",
       "      <td>-0.423223</td>\n",
       "      <td>-0.351906</td>\n",
       "      <td>-0.280180</td>\n",
       "      <td>0.136773</td>\n",
       "    </tr>\n",
       "    <tr>\n",
       "      <th>9</th>\n",
       "      <td>51.0</td>\n",
       "      <td>-0.291236</td>\n",
       "      <td>0.099796</td>\n",
       "      <td>-0.510385</td>\n",
       "      <td>-0.359144</td>\n",
       "      <td>-0.304407</td>\n",
       "      <td>-0.250737</td>\n",
       "      <td>-0.024502</td>\n",
       "    </tr>\n",
       "  </tbody>\n",
       "</table>\n",
       "</div>"
      ],
      "text/plain": [
       "        count      mean       std       min       25%       50%       75%  \\\n",
       "decile                                                                      \n",
       "0        51.0 -0.544885  0.124625 -0.848613 -0.632865 -0.533997 -0.458527   \n",
       "1        50.0 -0.426122  0.152007 -0.743048 -0.505031 -0.432222 -0.334520   \n",
       "2        51.0 -0.418262  0.138979 -0.762157 -0.505906 -0.421385 -0.331606   \n",
       "3        50.0 -0.400695  0.154246 -0.757659 -0.471202 -0.400703 -0.316084   \n",
       "4        51.0 -0.346275  0.138485 -0.633895 -0.440915 -0.352053 -0.258753   \n",
       "5        48.0 -0.411574  0.118316 -0.711908 -0.499475 -0.418547 -0.318803   \n",
       "6        50.0 -0.374610  0.127997 -0.605005 -0.457082 -0.381765 -0.315632   \n",
       "7        51.0 -0.335487  0.107150 -0.585724 -0.403734 -0.331818 -0.286962   \n",
       "8        50.0 -0.334608  0.144594 -0.687792 -0.423223 -0.351906 -0.280180   \n",
       "9        51.0 -0.291236  0.099796 -0.510385 -0.359144 -0.304407 -0.250737   \n",
       "\n",
       "             max  \n",
       "decile            \n",
       "0      -0.235627  \n",
       "1      -0.093590  \n",
       "2      -0.132745  \n",
       "3       0.092786  \n",
       "4      -0.002328  \n",
       "5      -0.169801  \n",
       "6       0.052133  \n",
       "7      -0.095206  \n",
       "8       0.136773  \n",
       "9      -0.024502  "
      ]
     },
     "execution_count": 174,
     "metadata": {},
     "output_type": "execute_result"
    }
   ],
   "source": [
    "constituents_df.groupby('decile')['peak_to_trough'].describe()"
   ]
  },
  {
   "cell_type": "markdown",
   "metadata": {
    "extensions": {
     "jupyter_dashboards": {
      "version": 1,
      "views": {
       "grid_default": {},
       "report_default": {
        "hidden": false
       }
      }
     }
    }
   },
   "source": [
    "Now, from the peak on 2-19-2020 to the trough on 3-23-2020, the hardest hit companies were definitely in the lower deciles, again, almost in perfect linear fashion. The 51 largest companies on average fell 29%, while the 51 smallest companies fell by 54% on average. This may explain the disconnect in performance YTD across the deciles, but lets keep going."
   ]
  },
  {
   "cell_type": "code",
   "execution_count": 175,
   "metadata": {
    "extensions": {
     "jupyter_dashboards": {
      "version": 1,
      "views": {
       "grid_default": {},
       "report_default": {
        "hidden": false
       }
      }
     }
    }
   },
   "outputs": [
    {
     "data": {
      "text/html": [
       "<div>\n",
       "<style scoped>\n",
       "    .dataframe tbody tr th:only-of-type {\n",
       "        vertical-align: middle;\n",
       "    }\n",
       "\n",
       "    .dataframe tbody tr th {\n",
       "        vertical-align: top;\n",
       "    }\n",
       "\n",
       "    .dataframe thead th {\n",
       "        text-align: right;\n",
       "    }\n",
       "</style>\n",
       "<table border=\"1\" class=\"dataframe\">\n",
       "  <thead>\n",
       "    <tr style=\"text-align: right;\">\n",
       "      <th></th>\n",
       "      <th>count</th>\n",
       "      <th>mean</th>\n",
       "      <th>std</th>\n",
       "      <th>min</th>\n",
       "      <th>25%</th>\n",
       "      <th>50%</th>\n",
       "      <th>75%</th>\n",
       "      <th>max</th>\n",
       "    </tr>\n",
       "    <tr>\n",
       "      <th>decile</th>\n",
       "      <th></th>\n",
       "      <th></th>\n",
       "      <th></th>\n",
       "      <th></th>\n",
       "      <th></th>\n",
       "      <th></th>\n",
       "      <th></th>\n",
       "      <th></th>\n",
       "    </tr>\n",
       "  </thead>\n",
       "  <tbody>\n",
       "    <tr>\n",
       "      <th>0</th>\n",
       "      <td>51.0</td>\n",
       "      <td>0.486848</td>\n",
       "      <td>0.467512</td>\n",
       "      <td>-0.433010</td>\n",
       "      <td>0.162753</td>\n",
       "      <td>0.416067</td>\n",
       "      <td>0.638598</td>\n",
       "      <td>2.282443</td>\n",
       "    </tr>\n",
       "    <tr>\n",
       "      <th>1</th>\n",
       "      <td>50.0</td>\n",
       "      <td>0.436507</td>\n",
       "      <td>0.418166</td>\n",
       "      <td>-0.087039</td>\n",
       "      <td>0.184367</td>\n",
       "      <td>0.302439</td>\n",
       "      <td>0.563996</td>\n",
       "      <td>1.785619</td>\n",
       "    </tr>\n",
       "    <tr>\n",
       "      <th>2</th>\n",
       "      <td>51.0</td>\n",
       "      <td>0.520162</td>\n",
       "      <td>0.313662</td>\n",
       "      <td>0.035517</td>\n",
       "      <td>0.272221</td>\n",
       "      <td>0.483365</td>\n",
       "      <td>0.688861</td>\n",
       "      <td>1.429400</td>\n",
       "    </tr>\n",
       "    <tr>\n",
       "      <th>3</th>\n",
       "      <td>50.0</td>\n",
       "      <td>0.494735</td>\n",
       "      <td>0.345187</td>\n",
       "      <td>-0.033762</td>\n",
       "      <td>0.241289</td>\n",
       "      <td>0.476579</td>\n",
       "      <td>0.649846</td>\n",
       "      <td>1.602583</td>\n",
       "    </tr>\n",
       "    <tr>\n",
       "      <th>4</th>\n",
       "      <td>51.0</td>\n",
       "      <td>0.489281</td>\n",
       "      <td>0.354146</td>\n",
       "      <td>0.004595</td>\n",
       "      <td>0.256936</td>\n",
       "      <td>0.431013</td>\n",
       "      <td>0.612724</td>\n",
       "      <td>1.740260</td>\n",
       "    </tr>\n",
       "    <tr>\n",
       "      <th>5</th>\n",
       "      <td>50.0</td>\n",
       "      <td>0.558957</td>\n",
       "      <td>0.328029</td>\n",
       "      <td>-0.149710</td>\n",
       "      <td>0.362342</td>\n",
       "      <td>0.511366</td>\n",
       "      <td>0.678417</td>\n",
       "      <td>1.531908</td>\n",
       "    </tr>\n",
       "    <tr>\n",
       "      <th>6</th>\n",
       "      <td>50.0</td>\n",
       "      <td>0.502220</td>\n",
       "      <td>0.268148</td>\n",
       "      <td>-0.177481</td>\n",
       "      <td>0.288539</td>\n",
       "      <td>0.501251</td>\n",
       "      <td>0.700160</td>\n",
       "      <td>1.120552</td>\n",
       "    </tr>\n",
       "    <tr>\n",
       "      <th>7</th>\n",
       "      <td>51.0</td>\n",
       "      <td>0.464633</td>\n",
       "      <td>0.249492</td>\n",
       "      <td>0.011182</td>\n",
       "      <td>0.293393</td>\n",
       "      <td>0.439894</td>\n",
       "      <td>0.627419</td>\n",
       "      <td>1.177345</td>\n",
       "    </tr>\n",
       "    <tr>\n",
       "      <th>8</th>\n",
       "      <td>50.0</td>\n",
       "      <td>0.450687</td>\n",
       "      <td>0.262648</td>\n",
       "      <td>-0.114010</td>\n",
       "      <td>0.295203</td>\n",
       "      <td>0.419168</td>\n",
       "      <td>0.607576</td>\n",
       "      <td>1.362199</td>\n",
       "    </tr>\n",
       "    <tr>\n",
       "      <th>9</th>\n",
       "      <td>51.0</td>\n",
       "      <td>0.461017</td>\n",
       "      <td>0.264327</td>\n",
       "      <td>-0.003111</td>\n",
       "      <td>0.292151</td>\n",
       "      <td>0.393949</td>\n",
       "      <td>0.609720</td>\n",
       "      <td>1.281780</td>\n",
       "    </tr>\n",
       "  </tbody>\n",
       "</table>\n",
       "</div>"
      ],
      "text/plain": [
       "        count      mean       std       min       25%       50%       75%  \\\n",
       "decile                                                                      \n",
       "0        51.0  0.486848  0.467512 -0.433010  0.162753  0.416067  0.638598   \n",
       "1        50.0  0.436507  0.418166 -0.087039  0.184367  0.302439  0.563996   \n",
       "2        51.0  0.520162  0.313662  0.035517  0.272221  0.483365  0.688861   \n",
       "3        50.0  0.494735  0.345187 -0.033762  0.241289  0.476579  0.649846   \n",
       "4        51.0  0.489281  0.354146  0.004595  0.256936  0.431013  0.612724   \n",
       "5        50.0  0.558957  0.328029 -0.149710  0.362342  0.511366  0.678417   \n",
       "6        50.0  0.502220  0.268148 -0.177481  0.288539  0.501251  0.700160   \n",
       "7        51.0  0.464633  0.249492  0.011182  0.293393  0.439894  0.627419   \n",
       "8        50.0  0.450687  0.262648 -0.114010  0.295203  0.419168  0.607576   \n",
       "9        51.0  0.461017  0.264327 -0.003111  0.292151  0.393949  0.609720   \n",
       "\n",
       "             max  \n",
       "decile            \n",
       "0       2.282443  \n",
       "1       1.785619  \n",
       "2       1.429400  \n",
       "3       1.602583  \n",
       "4       1.740260  \n",
       "5       1.531908  \n",
       "6       1.120552  \n",
       "7       1.177345  \n",
       "8       1.362199  \n",
       "9       1.281780  "
      ]
     },
     "execution_count": 175,
     "metadata": {},
     "output_type": "execute_result"
    }
   ],
   "source": [
    "constituents_df.groupby('decile')['trough_to_date'].describe()"
   ]
  },
  {
   "cell_type": "markdown",
   "metadata": {
    "extensions": {
     "jupyter_dashboards": {
      "version": 1,
      "views": {
       "grid_default": {},
       "report_default": {
        "hidden": false
       }
      }
     }
    }
   },
   "source": [
    "Looking at the deciles from the market bottom on 3-23 to today, it is much more even. The standard deviation is about 50% lower for the largest companies relative to the smallest, which means there was a very wide dispersion amongst the smallest 51 companies. The best performer in the smallest companies returned 262%, while the worst fell another 22% from the bottom.."
   ]
  },
  {
   "cell_type": "code",
   "execution_count": 176,
   "metadata": {
    "extensions": {
     "jupyter_dashboards": {
      "version": 1,
      "views": {
       "grid_default": {},
       "report_default": {
        "hidden": false
       }
      }
     }
    }
   },
   "outputs": [
    {
     "data": {
      "text/html": [
       "<div>\n",
       "<style scoped>\n",
       "    .dataframe tbody tr th:only-of-type {\n",
       "        vertical-align: middle;\n",
       "    }\n",
       "\n",
       "    .dataframe tbody tr th {\n",
       "        vertical-align: top;\n",
       "    }\n",
       "\n",
       "    .dataframe thead th {\n",
       "        text-align: right;\n",
       "    }\n",
       "</style>\n",
       "<table border=\"1\" class=\"dataframe\">\n",
       "  <thead>\n",
       "    <tr style=\"text-align: right;\">\n",
       "      <th></th>\n",
       "      <th>count</th>\n",
       "      <th>mean</th>\n",
       "      <th>std</th>\n",
       "      <th>min</th>\n",
       "      <th>25%</th>\n",
       "      <th>50%</th>\n",
       "      <th>75%</th>\n",
       "      <th>max</th>\n",
       "    </tr>\n",
       "    <tr>\n",
       "      <th>decile</th>\n",
       "      <th></th>\n",
       "      <th></th>\n",
       "      <th></th>\n",
       "      <th></th>\n",
       "      <th></th>\n",
       "      <th></th>\n",
       "      <th></th>\n",
       "      <th></th>\n",
       "    </tr>\n",
       "  </thead>\n",
       "  <tbody>\n",
       "    <tr>\n",
       "      <th>0</th>\n",
       "      <td>51.0</td>\n",
       "      <td>-0.045662</td>\n",
       "      <td>0.110187</td>\n",
       "      <td>-0.233767</td>\n",
       "      <td>-0.120562</td>\n",
       "      <td>-0.029722</td>\n",
       "      <td>0.025701</td>\n",
       "      <td>0.357616</td>\n",
       "    </tr>\n",
       "    <tr>\n",
       "      <th>1</th>\n",
       "      <td>50.0</td>\n",
       "      <td>0.014358</td>\n",
       "      <td>0.100328</td>\n",
       "      <td>-0.198018</td>\n",
       "      <td>-0.055254</td>\n",
       "      <td>0.006523</td>\n",
       "      <td>0.079673</td>\n",
       "      <td>0.223165</td>\n",
       "    </tr>\n",
       "    <tr>\n",
       "      <th>2</th>\n",
       "      <td>51.0</td>\n",
       "      <td>0.019718</td>\n",
       "      <td>0.100213</td>\n",
       "      <td>-0.181313</td>\n",
       "      <td>-0.050403</td>\n",
       "      <td>0.017610</td>\n",
       "      <td>0.073119</td>\n",
       "      <td>0.378682</td>\n",
       "    </tr>\n",
       "    <tr>\n",
       "      <th>3</th>\n",
       "      <td>50.0</td>\n",
       "      <td>0.025327</td>\n",
       "      <td>0.091033</td>\n",
       "      <td>-0.152274</td>\n",
       "      <td>-0.055989</td>\n",
       "      <td>0.020843</td>\n",
       "      <td>0.104207</td>\n",
       "      <td>0.225563</td>\n",
       "    </tr>\n",
       "    <tr>\n",
       "      <th>4</th>\n",
       "      <td>51.0</td>\n",
       "      <td>0.032224</td>\n",
       "      <td>0.096794</td>\n",
       "      <td>-0.163155</td>\n",
       "      <td>-0.043005</td>\n",
       "      <td>0.049676</td>\n",
       "      <td>0.099346</td>\n",
       "      <td>0.264938</td>\n",
       "    </tr>\n",
       "    <tr>\n",
       "      <th>5</th>\n",
       "      <td>48.0</td>\n",
       "      <td>0.023937</td>\n",
       "      <td>0.087010</td>\n",
       "      <td>-0.150016</td>\n",
       "      <td>-0.026984</td>\n",
       "      <td>0.011011</td>\n",
       "      <td>0.077885</td>\n",
       "      <td>0.214647</td>\n",
       "    </tr>\n",
       "    <tr>\n",
       "      <th>6</th>\n",
       "      <td>50.0</td>\n",
       "      <td>0.041920</td>\n",
       "      <td>0.100891</td>\n",
       "      <td>-0.198915</td>\n",
       "      <td>-0.035336</td>\n",
       "      <td>0.055233</td>\n",
       "      <td>0.114250</td>\n",
       "      <td>0.286351</td>\n",
       "    </tr>\n",
       "    <tr>\n",
       "      <th>7</th>\n",
       "      <td>51.0</td>\n",
       "      <td>0.062912</td>\n",
       "      <td>0.088798</td>\n",
       "      <td>-0.166667</td>\n",
       "      <td>0.015278</td>\n",
       "      <td>0.065670</td>\n",
       "      <td>0.107925</td>\n",
       "      <td>0.333455</td>\n",
       "    </tr>\n",
       "    <tr>\n",
       "      <th>8</th>\n",
       "      <td>50.0</td>\n",
       "      <td>0.059398</td>\n",
       "      <td>0.084855</td>\n",
       "      <td>-0.115417</td>\n",
       "      <td>0.022958</td>\n",
       "      <td>0.065255</td>\n",
       "      <td>0.107521</td>\n",
       "      <td>0.284344</td>\n",
       "    </tr>\n",
       "    <tr>\n",
       "      <th>9</th>\n",
       "      <td>51.0</td>\n",
       "      <td>0.057052</td>\n",
       "      <td>0.087140</td>\n",
       "      <td>-0.122736</td>\n",
       "      <td>0.000888</td>\n",
       "      <td>0.044998</td>\n",
       "      <td>0.121244</td>\n",
       "      <td>0.337442</td>\n",
       "    </tr>\n",
       "  </tbody>\n",
       "</table>\n",
       "</div>"
      ],
      "text/plain": [
       "        count      mean       std       min       25%       50%       75%  \\\n",
       "decile                                                                      \n",
       "0        51.0 -0.045662  0.110187 -0.233767 -0.120562 -0.029722  0.025701   \n",
       "1        50.0  0.014358  0.100328 -0.198018 -0.055254  0.006523  0.079673   \n",
       "2        51.0  0.019718  0.100213 -0.181313 -0.050403  0.017610  0.073119   \n",
       "3        50.0  0.025327  0.091033 -0.152274 -0.055989  0.020843  0.104207   \n",
       "4        51.0  0.032224  0.096794 -0.163155 -0.043005  0.049676  0.099346   \n",
       "5        48.0  0.023937  0.087010 -0.150016 -0.026984  0.011011  0.077885   \n",
       "6        50.0  0.041920  0.100891 -0.198915 -0.035336  0.055233  0.114250   \n",
       "7        51.0  0.062912  0.088798 -0.166667  0.015278  0.065670  0.107925   \n",
       "8        50.0  0.059398  0.084855 -0.115417  0.022958  0.065255  0.107521   \n",
       "9        51.0  0.057052  0.087140 -0.122736  0.000888  0.044998  0.121244   \n",
       "\n",
       "             max  \n",
       "decile            \n",
       "0       0.357616  \n",
       "1       0.223165  \n",
       "2       0.378682  \n",
       "3       0.225563  \n",
       "4       0.264938  \n",
       "5       0.214647  \n",
       "6       0.286351  \n",
       "7       0.333455  \n",
       "8       0.284344  \n",
       "9       0.337442  "
      ]
     },
     "execution_count": 176,
     "metadata": {},
     "output_type": "execute_result"
    }
   ],
   "source": [
    "constituents_df.groupby('decile')['start_to_peak'].describe()"
   ]
  },
  {
   "cell_type": "markdown",
   "metadata": {
    "extensions": {
     "jupyter_dashboards": {
      "version": 1,
      "views": {
       "grid_default": {},
       "report_default": {
        "hidden": false
       }
      }
     }
    }
   },
   "source": [
    "Finally, looking at the deciles from the start of the year to the peak on 2-19, we can see that the largest companies were doing the best going into the market drop and the smaller companies were off to a fairly rocky 2020. "
   ]
  },
  {
   "cell_type": "markdown",
   "metadata": {
    "extensions": {
     "jupyter_dashboards": {
      "version": 1,
      "views": {
       "grid_default": {},
       "report_default": {
        "hidden": false
       }
      }
     }
    }
   },
   "source": [
    "To recap, the bigger companies:\n",
    "\n",
    "1. Were off to the best start before the COVID market crash.\n",
    "2. Declined the least, on average, compared to smaller companies.\n",
    "3. Recovered around the same on average, from the trough of the market to today.\n",
    "4. Have the best returns on average, from the start of the year to date."
   ]
  },
  {
   "cell_type": "markdown",
   "metadata": {
    "extensions": {
     "jupyter_dashboards": {
      "version": 1,
      "views": {
       "grid_default": {},
       "report_default": {
        "hidden": false
       }
      }
     }
    }
   },
   "source": [
    "Next, we are going to look at the actual return contribution of each company and decile. To calculate this, we are going to multiply each return series by the companies corresponding weight in the index (as approximated by the weight in the SPY ETF). We will then be able to see what the effect has been on the total index return in each time period."
   ]
  },
  {
   "cell_type": "code",
   "execution_count": 177,
   "metadata": {
    "extensions": {
     "jupyter_dashboards": {
      "version": 1,
      "views": {
       "grid_default": {},
       "report_default": {
        "hidden": true
       }
      }
     }
    }
   },
   "outputs": [],
   "source": [
    "constituents_df.loc[:, 'weight'] = constituents_df['percent'].apply(lambda x: x/constituents_df['percent'].sum())"
   ]
  },
  {
   "cell_type": "code",
   "execution_count": 178,
   "metadata": {
    "extensions": {
     "jupyter_dashboards": {
      "version": 1,
      "views": {
       "grid_default": {},
       "report_default": {
        "hidden": false
       }
      }
     }
    }
   },
   "outputs": [
    {
     "data": {
      "text/html": [
       "<div>\n",
       "<style scoped>\n",
       "    .dataframe tbody tr th:only-of-type {\n",
       "        vertical-align: middle;\n",
       "    }\n",
       "\n",
       "    .dataframe tbody tr th {\n",
       "        vertical-align: top;\n",
       "    }\n",
       "\n",
       "    .dataframe thead th {\n",
       "        text-align: right;\n",
       "    }\n",
       "</style>\n",
       "<table border=\"1\" class=\"dataframe\">\n",
       "  <thead>\n",
       "    <tr style=\"text-align: right;\">\n",
       "      <th></th>\n",
       "      <th>percent</th>\n",
       "      <th>share</th>\n",
       "      <th>ytd_return</th>\n",
       "      <th>peak_to_trough</th>\n",
       "      <th>trough_to_date</th>\n",
       "      <th>start_to_peak</th>\n",
       "      <th>decile</th>\n",
       "      <th>weight</th>\n",
       "    </tr>\n",
       "    <tr>\n",
       "      <th>symbol</th>\n",
       "      <th></th>\n",
       "      <th></th>\n",
       "      <th></th>\n",
       "      <th></th>\n",
       "      <th></th>\n",
       "      <th></th>\n",
       "      <th></th>\n",
       "      <th></th>\n",
       "    </tr>\n",
       "  </thead>\n",
       "  <tbody>\n",
       "    <tr>\n",
       "      <th>AAPL</th>\n",
       "      <td>5.918711</td>\n",
       "      <td>43766308</td>\n",
       "      <td>0.469236</td>\n",
       "      <td>-0.306687</td>\n",
       "      <td>0.918285</td>\n",
       "      <td>0.104712</td>\n",
       "      <td>9</td>\n",
       "      <td>0.059189</td>\n",
       "    </tr>\n",
       "    <tr>\n",
       "      <th>MSFT</th>\n",
       "      <td>5.815551</td>\n",
       "      <td>81420240</td>\n",
       "      <td>0.282050</td>\n",
       "      <td>-0.273921</td>\n",
       "      <td>0.482793</td>\n",
       "      <td>0.190805</td>\n",
       "      <td>9</td>\n",
       "      <td>0.058157</td>\n",
       "    </tr>\n",
       "    <tr>\n",
       "      <th>AMZN</th>\n",
       "      <td>4.730508</td>\n",
       "      <td>4501968</td>\n",
       "      <td>0.623441</td>\n",
       "      <td>-0.123209</td>\n",
       "      <td>0.576525</td>\n",
       "      <td>0.174463</td>\n",
       "      <td>9</td>\n",
       "      <td>0.047307</td>\n",
       "    </tr>\n",
       "    <tr>\n",
       "      <th>FB</th>\n",
       "      <td>2.180427</td>\n",
       "      <td>25837586</td>\n",
       "      <td>0.213252</td>\n",
       "      <td>-0.319049</td>\n",
       "      <td>0.681431</td>\n",
       "      <td>0.059635</td>\n",
       "      <td>9</td>\n",
       "      <td>0.021805</td>\n",
       "    </tr>\n",
       "    <tr>\n",
       "      <th>GOOGL</th>\n",
       "      <td>1.710792</td>\n",
       "      <td>3224102</td>\n",
       "      <td>0.052263</td>\n",
       "      <td>-0.308708</td>\n",
       "      <td>0.337017</td>\n",
       "      <td>0.138481</td>\n",
       "      <td>9</td>\n",
       "      <td>0.017108</td>\n",
       "    </tr>\n",
       "    <tr>\n",
       "      <th>...</th>\n",
       "      <td>...</td>\n",
       "      <td>...</td>\n",
       "      <td>...</td>\n",
       "      <td>...</td>\n",
       "      <td>...</td>\n",
       "      <td>...</td>\n",
       "      <td>...</td>\n",
       "      <td>...</td>\n",
       "    </tr>\n",
       "    <tr>\n",
       "      <th>GPS</th>\n",
       "      <td>0.010548</td>\n",
       "      <td>2304094</td>\n",
       "      <td>-0.051324</td>\n",
       "      <td>-0.634459</td>\n",
       "      <td>1.635350</td>\n",
       "      <td>-0.015211</td>\n",
       "      <td>0</td>\n",
       "      <td>0.000105</td>\n",
       "    </tr>\n",
       "    <tr>\n",
       "      <th>UAA</th>\n",
       "      <td>0.007050</td>\n",
       "      <td>1942878</td>\n",
       "      <td>-0.470833</td>\n",
       "      <td>-0.513579</td>\n",
       "      <td>0.418114</td>\n",
       "      <td>-0.232870</td>\n",
       "      <td>0</td>\n",
       "      <td>0.000071</td>\n",
       "    </tr>\n",
       "    <tr>\n",
       "      <th>UA</th>\n",
       "      <td>0.006668</td>\n",
       "      <td>2071528</td>\n",
       "      <td>-0.478624</td>\n",
       "      <td>-0.522727</td>\n",
       "      <td>0.400560</td>\n",
       "      <td>-0.220021</td>\n",
       "      <td>0</td>\n",
       "      <td>0.000067</td>\n",
       "    </tr>\n",
       "    <tr>\n",
       "      <th>NWS</th>\n",
       "      <td>0.005914</td>\n",
       "      <td>1320019</td>\n",
       "      <td>-0.008832</td>\n",
       "      <td>-0.454246</td>\n",
       "      <td>0.750980</td>\n",
       "      <td>0.037216</td>\n",
       "      <td>0</td>\n",
       "      <td>0.000059</td>\n",
       "    </tr>\n",
       "    <tr>\n",
       "      <th>COTY</th>\n",
       "      <td>0.004843</td>\n",
       "      <td>3215328</td>\n",
       "      <td>-0.737601</td>\n",
       "      <td>-0.551784</td>\n",
       "      <td>-0.433010</td>\n",
       "      <td>0.032522</td>\n",
       "      <td>0</td>\n",
       "      <td>0.000048</td>\n",
       "    </tr>\n",
       "  </tbody>\n",
       "</table>\n",
       "<p>505 rows × 8 columns</p>\n",
       "</div>"
      ],
      "text/plain": [
       "         percent     share  ytd_return  peak_to_trough  trough_to_date  \\\n",
       "symbol                                                                   \n",
       "AAPL    5.918711  43766308    0.469236       -0.306687        0.918285   \n",
       "MSFT    5.815551  81420240    0.282050       -0.273921        0.482793   \n",
       "AMZN    4.730508   4501968    0.623441       -0.123209        0.576525   \n",
       "FB      2.180427  25837586    0.213252       -0.319049        0.681431   \n",
       "GOOGL   1.710792   3224102    0.052263       -0.308708        0.337017   \n",
       "...          ...       ...         ...             ...             ...   \n",
       "GPS     0.010548   2304094   -0.051324       -0.634459        1.635350   \n",
       "UAA     0.007050   1942878   -0.470833       -0.513579        0.418114   \n",
       "UA      0.006668   2071528   -0.478624       -0.522727        0.400560   \n",
       "NWS     0.005914   1320019   -0.008832       -0.454246        0.750980   \n",
       "COTY    0.004843   3215328   -0.737601       -0.551784       -0.433010   \n",
       "\n",
       "        start_to_peak  decile    weight  \n",
       "symbol                                   \n",
       "AAPL         0.104712       9  0.059189  \n",
       "MSFT         0.190805       9  0.058157  \n",
       "AMZN         0.174463       9  0.047307  \n",
       "FB           0.059635       9  0.021805  \n",
       "GOOGL        0.138481       9  0.017108  \n",
       "...               ...     ...       ...  \n",
       "GPS         -0.015211       0  0.000105  \n",
       "UAA         -0.232870       0  0.000071  \n",
       "UA          -0.220021       0  0.000067  \n",
       "NWS          0.037216       0  0.000059  \n",
       "COTY         0.032522       0  0.000048  \n",
       "\n",
       "[505 rows x 8 columns]"
      ]
     },
     "execution_count": 178,
     "metadata": {},
     "output_type": "execute_result"
    }
   ],
   "source": [
    "constituents_df"
   ]
  },
  {
   "cell_type": "code",
   "execution_count": 179,
   "metadata": {
    "extensions": {
     "jupyter_dashboards": {
      "version": 1,
      "views": {
       "grid_default": {},
       "report_default": {
        "hidden": true
       }
      }
     }
    }
   },
   "outputs": [],
   "source": [
    "constituents_df.loc[:, 'return_contribution_ytd'] = constituents_df['weight'] * constituents_df['ytd_return']\n",
    "constituents_df.loc[:, 'return_contribution_ptt'] = constituents_df['weight'] * constituents_df['peak_to_trough']\n",
    "constituents_df.loc[:, 'return_contribution_ttd'] = constituents_df['weight'] * constituents_df['trough_to_date']\n",
    "constituents_df.loc[:, 'return_contribution_stp'] = constituents_df['weight'] * constituents_df['start_to_peak']"
   ]
  },
  {
   "cell_type": "code",
   "execution_count": 180,
   "metadata": {
    "extensions": {
     "jupyter_dashboards": {
      "version": 1,
      "views": {
       "grid_default": {},
       "report_default": {
        "hidden": false
       }
      }
     }
    }
   },
   "outputs": [
    {
     "data": {
      "text/plain": [
       "<matplotlib.axes._subplots.AxesSubplot at 0x7f4e24e5f550>"
      ]
     },
     "execution_count": 180,
     "metadata": {},
     "output_type": "execute_result"
    },
    {
     "data": {
      "image/png": "[encoded data removed]",
      "text/plain": [
       "<Figure size 864x432 with 1 Axes>"
      ]
     },
     "metadata": {
      "needs_background": "light"
     },
     "output_type": "display_data"
    }
   ],
   "source": [
    "constituents_df.groupby('decile')['return_contribution_ytd'].sum().plot(kind='barh', figsize=[12,6], legend=True) # alpha for transparency"
   ]
  },
  {
   "cell_type": "code",
   "execution_count": 181,
   "metadata": {
    "extensions": {
     "jupyter_dashboards": {
      "version": 1,
      "views": {
       "grid_default": {},
       "report_default": {
        "hidden": true
       }
      }
     }
    }
   },
   "outputs": [
    {
     "data": {
      "text/plain": [
       "0.08961325361431384"
      ]
     },
     "execution_count": 181,
     "metadata": {},
     "output_type": "execute_result"
    }
   ],
   "source": [
    "constituents_df['return_contribution_ytd'].sum()"
   ]
  },
  {
   "cell_type": "code",
   "execution_count": 182,
   "metadata": {
    "extensions": {
     "jupyter_dashboards": {
      "version": 1,
      "views": {
       "grid_default": {},
       "report_default": {
        "hidden": false
       }
      }
     }
    }
   },
   "outputs": [
    {
     "data": {
      "text/plain": [
       "decile\n",
       "0   -0.033660\n",
       "1   -0.033130\n",
       "2   -0.026311\n",
       "3   -0.029485\n",
       "4   -0.005181\n",
       "5   -0.042286\n",
       "6   -0.016872\n",
       "7    0.026067\n",
       "8    0.020668\n",
       "9    1.140191\n",
       "Name: return_contribution_ytd, dtype: float64"
      ]
     },
     "execution_count": 182,
     "metadata": {},
     "output_type": "execute_result"
    }
   ],
   "source": [
    "constituents_df.groupby('decile')['return_contribution_ytd'].sum() / constituents_df['return_contribution_ytd'].sum()"
   ]
  },
  {
   "cell_type": "markdown",
   "metadata": {
    "extensions": {
     "jupyter_dashboards": {
      "version": 1,
      "views": {
       "grid_default": {},
       "report_default": {
        "hidden": false
       }
      }
     }
    }
   },
   "source": [
    "The results are very interesting, you can see in the chart that the only meaningful return when accounting for the weights has come from the top 51 companies. When you total the return for decile 9, and put it over the total of the return for the whole index, it accounts for 104.6% of the index return to-date! Meaning the top 51 companies are pulling up the index performance drastically.."
   ]
  },
  {
   "cell_type": "code",
   "execution_count": 183,
   "metadata": {
    "extensions": {
     "jupyter_dashboards": {
      "version": 1,
      "views": {
       "grid_default": {},
       "report_default": {
        "hidden": false
       }
      }
     }
    }
   },
   "outputs": [
    {
     "data": {
      "text/plain": [
       "<matplotlib.axes._subplots.AxesSubplot at 0x7f4e24d1f588>"
      ]
     },
     "execution_count": 183,
     "metadata": {},
     "output_type": "execute_result"
    },
    {
     "data": {
      "image/png": "[encoded data removed]",
      "text/plain": [
       "<Figure size 864x432 with 1 Axes>"
      ]
     },
     "metadata": {
      "needs_background": "light"
     },
     "output_type": "display_data"
    }
   ],
   "source": [
    "constituents_df.groupby('decile')['return_contribution_ptt'].sum().plot(kind='barh', figsize=[12,6], legend=True) # alpha for transparency"
   ]
  },
  {
   "cell_type": "code",
   "execution_count": 184,
   "metadata": {
    "extensions": {
     "jupyter_dashboards": {
      "version": 1,
      "views": {
       "grid_default": {},
       "report_default": {
        "hidden": false
       }
      }
     }
    }
   },
   "outputs": [
    {
     "data": {
      "text/plain": [
       "decile\n",
       "0    0.014632\n",
       "1    0.020735\n",
       "2    0.027868\n",
       "3    0.033228\n",
       "4    0.038980\n",
       "5    0.055400\n",
       "6    0.066126\n",
       "7    0.097248\n",
       "8    0.157604\n",
       "9    0.488179\n",
       "Name: return_contribution_ptt, dtype: float64"
      ]
     },
     "execution_count": 184,
     "metadata": {},
     "output_type": "execute_result"
    }
   ],
   "source": [
    "constituents_df.groupby('decile')['return_contribution_ptt'].sum() / constituents_df['return_contribution_ptt'].sum()"
   ]
  },
  {
   "cell_type": "markdown",
   "metadata": {
    "extensions": {
     "jupyter_dashboards": {
      "version": 1,
      "views": {
       "grid_default": {},
       "report_default": {
        "hidden": false
       }
      }
     }
    }
   },
   "source": [
    "On the flipside, while the top 51 companies declined the least during the market drop, their weights in the index had them contribute the most to the negative performance. This is purely a function of their weights in the index and not much else."
   ]
  },
  {
   "cell_type": "code",
   "execution_count": 185,
   "metadata": {
    "extensions": {
     "jupyter_dashboards": {
      "version": 1,
      "views": {
       "grid_default": {},
       "report_default": {
        "hidden": false
       }
      }
     }
    }
   },
   "outputs": [
    {
     "data": {
      "text/plain": [
       "<matplotlib.axes._subplots.AxesSubplot at 0x7f4e24c7d240>"
      ]
     },
     "execution_count": 185,
     "metadata": {},
     "output_type": "execute_result"
    },
    {
     "data": {
      "image/png": "[encoded data removed]",
      "text/plain": [
       "<Figure size 864x432 with 1 Axes>"
      ]
     },
     "metadata": {
      "needs_background": "light"
     },
     "output_type": "display_data"
    }
   ],
   "source": [
    "constituents_df.groupby('decile')['return_contribution_ttd'].sum().plot(kind='barh', figsize=[12,6], legend=True) # alpha for transparency"
   ]
  },
  {
   "cell_type": "code",
   "execution_count": 186,
   "metadata": {
    "extensions": {
     "jupyter_dashboards": {
      "version": 1,
      "views": {
       "grid_default": {},
       "report_default": {
        "hidden": false
       }
      }
     }
    }
   },
   "outputs": [
    {
     "data": {
      "text/plain": [
       "decile\n",
       "0    0.008497\n",
       "1    0.013830\n",
       "2    0.022387\n",
       "3    0.026453\n",
       "4    0.035411\n",
       "5    0.049885\n",
       "6    0.056228\n",
       "7    0.085021\n",
       "8    0.136124\n",
       "9    0.566164\n",
       "Name: return_contribution_ttd, dtype: float64"
      ]
     },
     "execution_count": 186,
     "metadata": {},
     "output_type": "execute_result"
    }
   ],
   "source": [
    "constituents_df.groupby('decile')['return_contribution_ttd'].sum() / constituents_df['return_contribution_ttd'].sum()"
   ]
  },
  {
   "cell_type": "markdown",
   "metadata": {
    "extensions": {
     "jupyter_dashboards": {
      "version": 1,
      "views": {
       "grid_default": {},
       "report_default": {
        "hidden": false
       }
      }
     }
    }
   },
   "source": [
    "From the bottom of the market in March, no surprises here, the top 51 companies contributed the most because of their weight and positive performance."
   ]
  },
  {
   "cell_type": "code",
   "execution_count": 187,
   "metadata": {
    "extensions": {
     "jupyter_dashboards": {
      "version": 1,
      "views": {
       "grid_default": {},
       "report_default": {
        "hidden": false
       }
      }
     }
    }
   },
   "outputs": [
    {
     "data": {
      "text/plain": [
       "<matplotlib.axes._subplots.AxesSubplot at 0x7f4e24f847b8>"
      ]
     },
     "execution_count": 187,
     "metadata": {},
     "output_type": "execute_result"
    },
    {
     "data": {
      "image/png": "[encoded data removed]",
      "text/plain": [
       "<Figure size 864x432 with 1 Axes>"
      ]
     },
     "metadata": {
      "needs_background": "light"
     },
     "output_type": "display_data"
    }
   ],
   "source": [
    "constituents_df.groupby('decile')['return_contribution_stp'].sum().plot(kind='barh', figsize=[12,6], legend=True) # alpha for transparency"
   ]
  },
  {
   "cell_type": "code",
   "execution_count": 188,
   "metadata": {
    "extensions": {
     "jupyter_dashboards": {
      "version": 1,
      "views": {
       "grid_default": {},
       "report_default": {
        "hidden": false
       }
      }
     }
    }
   },
   "outputs": [
    {
     "data": {
      "text/plain": [
       "decile\n",
       "0   -0.005149\n",
       "1    0.003750\n",
       "2    0.006610\n",
       "3    0.010232\n",
       "4    0.017272\n",
       "5    0.014333\n",
       "6    0.035481\n",
       "7    0.086102\n",
       "8    0.122381\n",
       "9    0.708988\n",
       "Name: return_contribution_stp, dtype: float64"
      ]
     },
     "execution_count": 188,
     "metadata": {},
     "output_type": "execute_result"
    }
   ],
   "source": [
    "constituents_df.groupby('decile')['return_contribution_stp'].sum() / constituents_df['return_contribution_stp'].sum()"
   ]
  },
  {
   "cell_type": "markdown",
   "metadata": {
    "extensions": {
     "jupyter_dashboards": {
      "version": 1,
      "views": {
       "grid_default": {},
       "report_default": {
        "hidden": false
       }
      }
     }
    }
   },
   "source": [
    "Finally, from the start of the year to the day before the market started on it's downward spiral, 70% of the market's positive performance came from the top 51 companies."
   ]
  },
  {
   "cell_type": "code",
   "execution_count": 189,
   "metadata": {
    "extensions": {
     "jupyter_dashboards": {
      "version": 1,
      "views": {
       "grid_default": {},
       "report_default": {
        "hidden": false
       }
      }
     }
    }
   },
   "outputs": [
    {
     "data": {
      "image/png": "[encoded data removed]",
      "text/plain": [
       "<Figure size 1728x864 with 1 Axes>"
      ]
     },
     "metadata": {
      "needs_background": "light"
     },
     "output_type": "display_data"
    }
   ],
   "source": [
    "boxplot = constituents_df.boxplot(column=['ytd_return'], by=['decile'], figsize=[24,12])"
   ]
  },
  {
   "cell_type": "code",
   "execution_count": 190,
   "metadata": {
    "extensions": {
     "jupyter_dashboards": {
      "version": 1,
      "views": {
       "grid_default": {},
       "report_default": {
        "hidden": false
       }
      }
     }
    }
   },
   "outputs": [
    {
     "data": {
      "image/png": "[encoded data removed]",
      "text/plain": [
       "<Figure size 1728x864 with 1 Axes>"
      ]
     },
     "metadata": {
      "needs_background": "light"
     },
     "output_type": "display_data"
    }
   ],
   "source": [
    "boxplot = constituents_df.boxplot(column=['peak_to_trough'], by=['decile'], figsize=[24,12])"
   ]
  },
  {
   "cell_type": "code",
   "execution_count": 191,
   "metadata": {
    "extensions": {
     "jupyter_dashboards": {
      "version": 1,
      "views": {
       "grid_default": {},
       "report_default": {
        "hidden": false
       }
      }
     }
    }
   },
   "outputs": [
    {
     "data": {
      "image/png": "[encoded data removed]",
      "text/plain": [
       "<Figure size 1728x864 with 1 Axes>"
      ]
     },
     "metadata": {
      "needs_background": "light"
     },
     "output_type": "display_data"
    }
   ],
   "source": [
    "boxplot = constituents_df.boxplot(column=['trough_to_date'], by=['decile'], figsize=[24,12])"
   ]
  },
  {
   "cell_type": "code",
   "execution_count": 192,
   "metadata": {
    "extensions": {
     "jupyter_dashboards": {
      "version": 1,
      "views": {
       "grid_default": {},
       "report_default": {
        "hidden": false
       }
      }
     }
    }
   },
   "outputs": [
    {
     "data": {
      "image/png": "[encoded data removed]",
      "text/plain": [
       "<Figure size 1728x864 with 1 Axes>"
      ]
     },
     "metadata": {
      "needs_background": "light"
     },
     "output_type": "display_data"
    }
   ],
   "source": [
    "boxplot = constituents_df.boxplot(column=['start_to_peak'], by=['decile'], figsize=[24,12])"
   ]
  },
  {
   "cell_type": "markdown",
   "metadata": {
    "extensions": {
     "jupyter_dashboards": {
      "version": 1,
      "views": {
       "grid_default": {},
       "report_default": {
        "hidden": false
       }
      }
     }
    }
   },
   "source": [
    "What about more broadly? Lets dive into the Russell 3000 constituents to see if we can find similar distributions of returns."
   ]
  },
  {
   "cell_type": "code",
   "execution_count": 193,
   "metadata": {
    "extensions": {
     "jupyter_dashboards": {
      "version": 1,
      "views": {
       "grid_default": {},
       "report_default": {
        "hidden": true
       }
      }
     }
    }
   },
   "outputs": [],
   "source": [
    "russell_3000 = pd.read_csv('russell_3000.csv')"
   ]
  },
  {
   "cell_type": "code",
   "execution_count": 194,
   "metadata": {
    "extensions": {
     "jupyter_dashboards": {
      "version": 1,
      "views": {
       "grid_default": {},
       "report_default": {
        "hidden": true
       }
      }
     }
    }
   },
   "outputs": [],
   "source": [
    "russell_3000.loc[:, 'mcap_decile'] = pd.qcut(russell_3000['market_cap'].to_list(), 10, labels=False)"
   ]
  },
  {
   "cell_type": "code",
   "execution_count": 195,
   "metadata": {
    "extensions": {
     "jupyter_dashboards": {
      "version": 1,
      "views": {
       "grid_default": {},
       "report_default": {
        "hidden": true
       }
      }
     }
    }
   },
   "outputs": [],
   "source": [
    "russell_3000.loc[:, 'pe_decile'] = pd.qcut(russell_3000['pe_ratio'].to_list(), 10, labels=False, duplicates='drop')"
   ]
  },
  {
   "cell_type": "code",
   "execution_count": 196,
   "metadata": {
    "extensions": {
     "jupyter_dashboards": {
      "version": 1,
      "views": {
       "grid_default": {},
       "report_default": {
        "hidden": true
       }
      }
     }
    }
   },
   "outputs": [],
   "source": [
    "russell_3000.loc[russell_3000['pe_decile'] == 0, 'pe_decile'] = 'no_earnings'\n",
    "russell_3000['pe_decile'] = russell_3000['pe_decile'].astype(str)"
   ]
  },
  {
   "cell_type": "code",
   "execution_count": 197,
   "metadata": {
    "extensions": {
     "jupyter_dashboards": {
      "version": 1,
      "views": {
       "grid_default": {},
       "report_default": {
        "hidden": false
       }
      }
     }
    }
   },
   "outputs": [
    {
     "data": {
      "text/html": [
       "<div>\n",
       "<style scoped>\n",
       "    .dataframe tbody tr th:only-of-type {\n",
       "        vertical-align: middle;\n",
       "    }\n",
       "\n",
       "    .dataframe tbody tr th {\n",
       "        vertical-align: top;\n",
       "    }\n",
       "\n",
       "    .dataframe thead th {\n",
       "        text-align: right;\n",
       "    }\n",
       "</style>\n",
       "<table border=\"1\" class=\"dataframe\">\n",
       "  <thead>\n",
       "    <tr style=\"text-align: right;\">\n",
       "      <th></th>\n",
       "      <th>count</th>\n",
       "      <th>mean</th>\n",
       "      <th>std</th>\n",
       "      <th>min</th>\n",
       "      <th>25%</th>\n",
       "      <th>50%</th>\n",
       "      <th>75%</th>\n",
       "      <th>max</th>\n",
       "    </tr>\n",
       "    <tr>\n",
       "      <th>mcap_decile</th>\n",
       "      <th></th>\n",
       "      <th></th>\n",
       "      <th></th>\n",
       "      <th></th>\n",
       "      <th></th>\n",
       "      <th></th>\n",
       "      <th></th>\n",
       "      <th></th>\n",
       "    </tr>\n",
       "  </thead>\n",
       "  <tbody>\n",
       "    <tr>\n",
       "      <th>0</th>\n",
       "      <td>270.0</td>\n",
       "      <td>-0.392259</td>\n",
       "      <td>0.281965</td>\n",
       "      <td>-0.92</td>\n",
       "      <td>-0.5375</td>\n",
       "      <td>-0.440</td>\n",
       "      <td>-0.3100</td>\n",
       "      <td>1.15</td>\n",
       "    </tr>\n",
       "    <tr>\n",
       "      <th>1</th>\n",
       "      <td>270.0</td>\n",
       "      <td>-0.228704</td>\n",
       "      <td>0.390330</td>\n",
       "      <td>-0.90</td>\n",
       "      <td>-0.5000</td>\n",
       "      <td>-0.285</td>\n",
       "      <td>-0.0925</td>\n",
       "      <td>2.43</td>\n",
       "    </tr>\n",
       "    <tr>\n",
       "      <th>2</th>\n",
       "      <td>270.0</td>\n",
       "      <td>-0.094370</td>\n",
       "      <td>1.240263</td>\n",
       "      <td>-0.87</td>\n",
       "      <td>-0.4675</td>\n",
       "      <td>-0.305</td>\n",
       "      <td>-0.0700</td>\n",
       "      <td>14.23</td>\n",
       "    </tr>\n",
       "    <tr>\n",
       "      <th>3</th>\n",
       "      <td>269.0</td>\n",
       "      <td>-0.030929</td>\n",
       "      <td>1.313641</td>\n",
       "      <td>-0.80</td>\n",
       "      <td>-0.4300</td>\n",
       "      <td>-0.210</td>\n",
       "      <td>0.0800</td>\n",
       "      <td>19.86</td>\n",
       "    </tr>\n",
       "    <tr>\n",
       "      <th>4</th>\n",
       "      <td>270.0</td>\n",
       "      <td>-0.098370</td>\n",
       "      <td>0.512600</td>\n",
       "      <td>-0.71</td>\n",
       "      <td>-0.4100</td>\n",
       "      <td>-0.220</td>\n",
       "      <td>0.0075</td>\n",
       "      <td>3.09</td>\n",
       "    </tr>\n",
       "    <tr>\n",
       "      <th>5</th>\n",
       "      <td>270.0</td>\n",
       "      <td>-0.077889</td>\n",
       "      <td>0.567776</td>\n",
       "      <td>-0.76</td>\n",
       "      <td>-0.3500</td>\n",
       "      <td>-0.180</td>\n",
       "      <td>0.0275</td>\n",
       "      <td>6.39</td>\n",
       "    </tr>\n",
       "    <tr>\n",
       "      <th>6</th>\n",
       "      <td>269.0</td>\n",
       "      <td>0.046506</td>\n",
       "      <td>0.883623</td>\n",
       "      <td>-0.74</td>\n",
       "      <td>-0.3100</td>\n",
       "      <td>-0.130</td>\n",
       "      <td>0.1400</td>\n",
       "      <td>9.13</td>\n",
       "    </tr>\n",
       "    <tr>\n",
       "      <th>7</th>\n",
       "      <td>270.0</td>\n",
       "      <td>0.096778</td>\n",
       "      <td>1.569675</td>\n",
       "      <td>-0.68</td>\n",
       "      <td>-0.2500</td>\n",
       "      <td>-0.100</td>\n",
       "      <td>0.1000</td>\n",
       "      <td>24.55</td>\n",
       "    </tr>\n",
       "    <tr>\n",
       "      <th>8</th>\n",
       "      <td>270.0</td>\n",
       "      <td>0.072000</td>\n",
       "      <td>0.569468</td>\n",
       "      <td>-0.75</td>\n",
       "      <td>-0.2300</td>\n",
       "      <td>-0.045</td>\n",
       "      <td>0.1700</td>\n",
       "      <td>4.38</td>\n",
       "    </tr>\n",
       "    <tr>\n",
       "      <th>9</th>\n",
       "      <td>270.0</td>\n",
       "      <td>0.129704</td>\n",
       "      <td>0.601798</td>\n",
       "      <td>-0.59</td>\n",
       "      <td>-0.1100</td>\n",
       "      <td>0.030</td>\n",
       "      <td>0.2100</td>\n",
       "      <td>6.36</td>\n",
       "    </tr>\n",
       "  </tbody>\n",
       "</table>\n",
       "</div>"
      ],
      "text/plain": [
       "             count      mean       std   min     25%    50%     75%    max\n",
       "mcap_decile                                                               \n",
       "0            270.0 -0.392259  0.281965 -0.92 -0.5375 -0.440 -0.3100   1.15\n",
       "1            270.0 -0.228704  0.390330 -0.90 -0.5000 -0.285 -0.0925   2.43\n",
       "2            270.0 -0.094370  1.240263 -0.87 -0.4675 -0.305 -0.0700  14.23\n",
       "3            269.0 -0.030929  1.313641 -0.80 -0.4300 -0.210  0.0800  19.86\n",
       "4            270.0 -0.098370  0.512600 -0.71 -0.4100 -0.220  0.0075   3.09\n",
       "5            270.0 -0.077889  0.567776 -0.76 -0.3500 -0.180  0.0275   6.39\n",
       "6            269.0  0.046506  0.883623 -0.74 -0.3100 -0.130  0.1400   9.13\n",
       "7            270.0  0.096778  1.569675 -0.68 -0.2500 -0.100  0.1000  24.55\n",
       "8            270.0  0.072000  0.569468 -0.75 -0.2300 -0.045  0.1700   4.38\n",
       "9            270.0  0.129704  0.601798 -0.59 -0.1100  0.030  0.2100   6.36"
      ]
     },
     "execution_count": 197,
     "metadata": {},
     "output_type": "execute_result"
    }
   ],
   "source": [
    "mcap_decile_stats = russell_3000.groupby('mcap_decile')['ytd_return'].describe()\n",
    "mcap_decile_stats"
   ]
  },
  {
   "cell_type": "code",
   "execution_count": 198,
   "metadata": {
    "extensions": {
     "jupyter_dashboards": {
      "version": 1,
      "views": {
       "grid_default": {},
       "report_default": {
        "hidden": false
       }
      }
     }
    }
   },
   "outputs": [
    {
     "data": {
      "text/plain": [
       "<matplotlib.axes._subplots.AxesSubplot at 0x7f4e246bd470>"
      ]
     },
     "execution_count": 198,
     "metadata": {},
     "output_type": "execute_result"
    },
    {
     "data": {
      "image/png": "[encoded data removed]",
      "text/plain": [
       "<Figure size 864x432 with 1 Axes>"
      ]
     },
     "metadata": {
      "needs_background": "light"
     },
     "output_type": "display_data"
    }
   ],
   "source": [
    "russell_3000.groupby('mcap_decile')['ytd_return'].mean().sort_index().plot(kind='barh', figsize=[12,6], legend=True)"
   ]
  },
  {
   "cell_type": "markdown",
   "metadata": {
    "extensions": {
     "jupyter_dashboards": {
      "version": 1,
      "views": {
       "grid_default": {},
       "report_default": {
        "hidden": false
       }
      }
     }
    }
   },
   "source": [
    "Nothing too shocking here. Year-to-date, the largest 270 companies by market cap have outperformed the smallest 270 companies by over 50%. What is somewhat surprising to me is, if you look at the standard deviation for each decile, it is much lower (less than half) for the bottom decile than for the top decile. This means that in the bottom decile, the companies have all performed relatively poorly, and in the top decile, you have a much wider range of returns. That makes sense intuitively, since we uncovered a similar amount of dispersion between the deciles of the S&P 500 earlier in this notebook. In this example, the best performer year-to-date (the max column shows this) returned 636% while the worst performer returned -59% for the top decile. Conversely, the bottom decile's best performer returned 115%, while the worst was -92%. So it appears that the distribution may be skewed to the right for the megacap companies in the US while the smallest companies looks more evenly distributed around the mean, which makes sense given the data we have examined so far."
   ]
  },
  {
   "cell_type": "code",
   "execution_count": 199,
   "metadata": {
    "extensions": {
     "jupyter_dashboards": {
      "version": 1,
      "views": {
       "grid_default": {},
       "report_default": {
        "hidden": false
       }
      }
     }
    }
   },
   "outputs": [
    {
     "data": {
      "text/html": [
       "<div>\n",
       "<style scoped>\n",
       "    .dataframe tbody tr th:only-of-type {\n",
       "        vertical-align: middle;\n",
       "    }\n",
       "\n",
       "    .dataframe tbody tr th {\n",
       "        vertical-align: top;\n",
       "    }\n",
       "\n",
       "    .dataframe thead th {\n",
       "        text-align: right;\n",
       "    }\n",
       "</style>\n",
       "<table border=\"1\" class=\"dataframe\">\n",
       "  <thead>\n",
       "    <tr style=\"text-align: right;\">\n",
       "      <th></th>\n",
       "      <th>count</th>\n",
       "      <th>mean</th>\n",
       "      <th>std</th>\n",
       "      <th>min</th>\n",
       "      <th>25%</th>\n",
       "      <th>50%</th>\n",
       "      <th>75%</th>\n",
       "      <th>max</th>\n",
       "    </tr>\n",
       "    <tr>\n",
       "      <th>pe_decile</th>\n",
       "      <th></th>\n",
       "      <th></th>\n",
       "      <th></th>\n",
       "      <th></th>\n",
       "      <th></th>\n",
       "      <th></th>\n",
       "      <th></th>\n",
       "      <th></th>\n",
       "    </tr>\n",
       "  </thead>\n",
       "  <tbody>\n",
       "    <tr>\n",
       "      <th>1</th>\n",
       "      <td>269.0</td>\n",
       "      <td>-0.369591</td>\n",
       "      <td>0.221672</td>\n",
       "      <td>-0.78</td>\n",
       "      <td>-0.4900</td>\n",
       "      <td>-0.430</td>\n",
       "      <td>-0.3100</td>\n",
       "      <td>0.70</td>\n",
       "    </tr>\n",
       "    <tr>\n",
       "      <th>2</th>\n",
       "      <td>270.0</td>\n",
       "      <td>-0.250889</td>\n",
       "      <td>0.243552</td>\n",
       "      <td>-0.74</td>\n",
       "      <td>-0.4200</td>\n",
       "      <td>-0.280</td>\n",
       "      <td>-0.1600</td>\n",
       "      <td>0.73</td>\n",
       "    </tr>\n",
       "    <tr>\n",
       "      <th>3</th>\n",
       "      <td>270.0</td>\n",
       "      <td>-0.177444</td>\n",
       "      <td>0.270350</td>\n",
       "      <td>-0.76</td>\n",
       "      <td>-0.3300</td>\n",
       "      <td>-0.210</td>\n",
       "      <td>-0.0425</td>\n",
       "      <td>1.13</td>\n",
       "    </tr>\n",
       "    <tr>\n",
       "      <th>4</th>\n",
       "      <td>269.0</td>\n",
       "      <td>-0.111599</td>\n",
       "      <td>0.236732</td>\n",
       "      <td>-0.67</td>\n",
       "      <td>-0.2700</td>\n",
       "      <td>-0.110</td>\n",
       "      <td>0.0200</td>\n",
       "      <td>0.63</td>\n",
       "    </tr>\n",
       "    <tr>\n",
       "      <th>5</th>\n",
       "      <td>270.0</td>\n",
       "      <td>-0.051370</td>\n",
       "      <td>0.275376</td>\n",
       "      <td>-0.88</td>\n",
       "      <td>-0.2000</td>\n",
       "      <td>-0.060</td>\n",
       "      <td>0.0875</td>\n",
       "      <td>1.21</td>\n",
       "    </tr>\n",
       "    <tr>\n",
       "      <th>6</th>\n",
       "      <td>270.0</td>\n",
       "      <td>0.016852</td>\n",
       "      <td>0.389380</td>\n",
       "      <td>-0.67</td>\n",
       "      <td>-0.2175</td>\n",
       "      <td>-0.030</td>\n",
       "      <td>0.1875</td>\n",
       "      <td>1.75</td>\n",
       "    </tr>\n",
       "    <tr>\n",
       "      <th>7</th>\n",
       "      <td>270.0</td>\n",
       "      <td>0.170185</td>\n",
       "      <td>1.134109</td>\n",
       "      <td>-0.71</td>\n",
       "      <td>-0.2875</td>\n",
       "      <td>-0.050</td>\n",
       "      <td>0.2800</td>\n",
       "      <td>14.23</td>\n",
       "    </tr>\n",
       "    <tr>\n",
       "      <th>no_earnings</th>\n",
       "      <td>810.0</td>\n",
       "      <td>0.064827</td>\n",
       "      <td>1.439242</td>\n",
       "      <td>-0.92</td>\n",
       "      <td>-0.4700</td>\n",
       "      <td>-0.205</td>\n",
       "      <td>0.1700</td>\n",
       "      <td>24.55</td>\n",
       "    </tr>\n",
       "  </tbody>\n",
       "</table>\n",
       "</div>"
      ],
      "text/plain": [
       "             count      mean       std   min     25%    50%     75%    max\n",
       "pe_decile                                                                 \n",
       "1            269.0 -0.369591  0.221672 -0.78 -0.4900 -0.430 -0.3100   0.70\n",
       "2            270.0 -0.250889  0.243552 -0.74 -0.4200 -0.280 -0.1600   0.73\n",
       "3            270.0 -0.177444  0.270350 -0.76 -0.3300 -0.210 -0.0425   1.13\n",
       "4            269.0 -0.111599  0.236732 -0.67 -0.2700 -0.110  0.0200   0.63\n",
       "5            270.0 -0.051370  0.275376 -0.88 -0.2000 -0.060  0.0875   1.21\n",
       "6            270.0  0.016852  0.389380 -0.67 -0.2175 -0.030  0.1875   1.75\n",
       "7            270.0  0.170185  1.134109 -0.71 -0.2875 -0.050  0.2800  14.23\n",
       "no_earnings  810.0  0.064827  1.439242 -0.92 -0.4700 -0.205  0.1700  24.55"
      ]
     },
     "execution_count": 199,
     "metadata": {},
     "output_type": "execute_result"
    }
   ],
   "source": [
    "pe_decile_stats = russell_3000.groupby('pe_decile')['ytd_return'].describe()\n",
    "pe_decile_stats"
   ]
  },
  {
   "cell_type": "code",
   "execution_count": 200,
   "metadata": {
    "extensions": {
     "jupyter_dashboards": {
      "version": 1,
      "views": {
       "grid_default": {},
       "report_default": {
        "hidden": false
       }
      }
     }
    }
   },
   "outputs": [
    {
     "data": {
      "text/plain": [
       "<matplotlib.axes._subplots.AxesSubplot at 0x7f4e24630b38>"
      ]
     },
     "execution_count": 200,
     "metadata": {},
     "output_type": "execute_result"
    },
    {
     "data": {
      "image/png": "[encoded data removed]",
      "text/plain": [
       "<Figure size 864x432 with 1 Axes>"
      ]
     },
     "metadata": {
      "needs_background": "light"
     },
     "output_type": "display_data"
    }
   ],
   "source": [
    "russell_3000.groupby('pe_decile')['ytd_return'].mean().sort_index().plot(kind='barh', figsize=[12,6], legend=True)"
   ]
  },
  {
   "cell_type": "markdown",
   "metadata": {
    "extensions": {
     "jupyter_dashboards": {
      "version": 1,
      "views": {
       "grid_default": {},
       "report_default": {
        "hidden": false
       }
      }
     }
    }
   },
   "source": [
    "I decided to take this example one step further, by breaking down the same data into deciles by Price-to-earnings ratio to see if we find anything interesting. One thing to note - this was not as clean of an exercise as when we broke out deciles by market cap. Due to the fact that the P/E ratio can only be calculated if a company has earnings (shocker), it appears as though 810 companies for the 2700 or so examined do not have earnings. So, rather than exclude them altogether, I decided to put them into their own group for comparison purposes. The results are not surprising, given the fact that by now, most investors are aware of the chronic underperformance of value vs. growth stocks. The cheapest 269 companies underperformed the most expensive 270 companies year-to-date by almost 54%! Whats more, companies with negative or zero earnings have outperformed the cheapest stocks by over 42%. The distribution of returns for the expensive and no-earnings groups is much wider than that of the cheapest, with standard deviations of returns within the group roughly 5-6X greater than the low P/E companies."
   ]
  },
  {
   "cell_type": "code",
   "execution_count": 201,
   "metadata": {
    "extensions": {
     "jupyter_dashboards": {
      "version": 1,
      "views": {
       "grid_default": {},
       "report_default": {
        "hidden": false
       }
      }
     }
    }
   },
   "outputs": [
    {
     "data": {
      "text/html": [
       "<div>\n",
       "<style scoped>\n",
       "    .dataframe tbody tr th:only-of-type {\n",
       "        vertical-align: middle;\n",
       "    }\n",
       "\n",
       "    .dataframe tbody tr th {\n",
       "        vertical-align: top;\n",
       "    }\n",
       "\n",
       "    .dataframe thead th {\n",
       "        text-align: right;\n",
       "    }\n",
       "</style>\n",
       "<table border=\"1\" class=\"dataframe\">\n",
       "  <thead>\n",
       "    <tr style=\"text-align: right;\">\n",
       "      <th></th>\n",
       "      <th>count</th>\n",
       "      <th>mean</th>\n",
       "      <th>std</th>\n",
       "      <th>min</th>\n",
       "      <th>25%</th>\n",
       "      <th>50%</th>\n",
       "      <th>75%</th>\n",
       "      <th>max</th>\n",
       "    </tr>\n",
       "    <tr>\n",
       "      <th>sector</th>\n",
       "      <th></th>\n",
       "      <th></th>\n",
       "      <th></th>\n",
       "      <th></th>\n",
       "      <th></th>\n",
       "      <th></th>\n",
       "      <th></th>\n",
       "      <th></th>\n",
       "    </tr>\n",
       "  </thead>\n",
       "  <tbody>\n",
       "    <tr>\n",
       "      <th>Communication Services</th>\n",
       "      <td>98.0</td>\n",
       "      <td>-0.081531</td>\n",
       "      <td>0.433112</td>\n",
       "      <td>-0.81</td>\n",
       "      <td>-0.3500</td>\n",
       "      <td>-0.180</td>\n",
       "      <td>0.1350</td>\n",
       "      <td>1.54</td>\n",
       "    </tr>\n",
       "    <tr>\n",
       "      <th>Consumer Discretionary</th>\n",
       "      <td>304.0</td>\n",
       "      <td>0.120592</td>\n",
       "      <td>1.101363</td>\n",
       "      <td>-0.86</td>\n",
       "      <td>-0.3100</td>\n",
       "      <td>-0.090</td>\n",
       "      <td>0.2100</td>\n",
       "      <td>9.19</td>\n",
       "    </tr>\n",
       "    <tr>\n",
       "      <th>Consumer Staples</th>\n",
       "      <td>100.0</td>\n",
       "      <td>-0.011800</td>\n",
       "      <td>0.467783</td>\n",
       "      <td>-0.74</td>\n",
       "      <td>-0.2425</td>\n",
       "      <td>-0.075</td>\n",
       "      <td>0.0925</td>\n",
       "      <td>3.09</td>\n",
       "    </tr>\n",
       "    <tr>\n",
       "      <th>Energy</th>\n",
       "      <td>104.0</td>\n",
       "      <td>-0.485962</td>\n",
       "      <td>0.288365</td>\n",
       "      <td>-0.90</td>\n",
       "      <td>-0.6725</td>\n",
       "      <td>-0.555</td>\n",
       "      <td>-0.3975</td>\n",
       "      <td>0.70</td>\n",
       "    </tr>\n",
       "    <tr>\n",
       "      <th>Financials</th>\n",
       "      <td>478.0</td>\n",
       "      <td>-0.314163</td>\n",
       "      <td>0.253560</td>\n",
       "      <td>-0.74</td>\n",
       "      <td>-0.4600</td>\n",
       "      <td>-0.390</td>\n",
       "      <td>-0.2400</td>\n",
       "      <td>1.15</td>\n",
       "    </tr>\n",
       "    <tr>\n",
       "      <th>Health Care</th>\n",
       "      <td>491.0</td>\n",
       "      <td>0.234481</td>\n",
       "      <td>1.695760</td>\n",
       "      <td>-0.88</td>\n",
       "      <td>-0.2700</td>\n",
       "      <td>-0.060</td>\n",
       "      <td>0.3200</td>\n",
       "      <td>24.55</td>\n",
       "    </tr>\n",
       "    <tr>\n",
       "      <th>Industrials</th>\n",
       "      <td>365.0</td>\n",
       "      <td>-0.104356</td>\n",
       "      <td>0.441116</td>\n",
       "      <td>-0.92</td>\n",
       "      <td>-0.3400</td>\n",
       "      <td>-0.150</td>\n",
       "      <td>0.0300</td>\n",
       "      <td>3.66</td>\n",
       "    </tr>\n",
       "    <tr>\n",
       "      <th>Information Technology</th>\n",
       "      <td>354.0</td>\n",
       "      <td>0.101610</td>\n",
       "      <td>0.608896</td>\n",
       "      <td>-0.78</td>\n",
       "      <td>-0.1900</td>\n",
       "      <td>-0.015</td>\n",
       "      <td>0.2375</td>\n",
       "      <td>6.36</td>\n",
       "    </tr>\n",
       "    <tr>\n",
       "      <th>Materials</th>\n",
       "      <td>119.0</td>\n",
       "      <td>-0.162437</td>\n",
       "      <td>0.219772</td>\n",
       "      <td>-0.63</td>\n",
       "      <td>-0.3100</td>\n",
       "      <td>-0.150</td>\n",
       "      <td>-0.0600</td>\n",
       "      <td>0.63</td>\n",
       "    </tr>\n",
       "    <tr>\n",
       "      <th>Real Estate</th>\n",
       "      <td>215.0</td>\n",
       "      <td>-0.295442</td>\n",
       "      <td>0.320547</td>\n",
       "      <td>-0.88</td>\n",
       "      <td>-0.5100</td>\n",
       "      <td>-0.320</td>\n",
       "      <td>-0.1300</td>\n",
       "      <td>2.30</td>\n",
       "    </tr>\n",
       "    <tr>\n",
       "      <th>Utilities</th>\n",
       "      <td>70.0</td>\n",
       "      <td>-0.184143</td>\n",
       "      <td>0.227140</td>\n",
       "      <td>-0.44</td>\n",
       "      <td>-0.3000</td>\n",
       "      <td>-0.210</td>\n",
       "      <td>-0.1225</td>\n",
       "      <td>1.32</td>\n",
       "    </tr>\n",
       "  </tbody>\n",
       "</table>\n",
       "</div>"
      ],
      "text/plain": [
       "                        count      mean       std   min     25%    50%  \\\n",
       "sector                                                                   \n",
       "Communication Services   98.0 -0.081531  0.433112 -0.81 -0.3500 -0.180   \n",
       "Consumer Discretionary  304.0  0.120592  1.101363 -0.86 -0.3100 -0.090   \n",
       "Consumer Staples        100.0 -0.011800  0.467783 -0.74 -0.2425 -0.075   \n",
       "Energy                  104.0 -0.485962  0.288365 -0.90 -0.6725 -0.555   \n",
       "Financials              478.0 -0.314163  0.253560 -0.74 -0.4600 -0.390   \n",
       "Health Care             491.0  0.234481  1.695760 -0.88 -0.2700 -0.060   \n",
       "Industrials             365.0 -0.104356  0.441116 -0.92 -0.3400 -0.150   \n",
       "Information Technology  354.0  0.101610  0.608896 -0.78 -0.1900 -0.015   \n",
       "Materials               119.0 -0.162437  0.219772 -0.63 -0.3100 -0.150   \n",
       "Real Estate             215.0 -0.295442  0.320547 -0.88 -0.5100 -0.320   \n",
       "Utilities                70.0 -0.184143  0.227140 -0.44 -0.3000 -0.210   \n",
       "\n",
       "                           75%    max  \n",
       "sector                                 \n",
       "Communication Services  0.1350   1.54  \n",
       "Consumer Discretionary  0.2100   9.19  \n",
       "Consumer Staples        0.0925   3.09  \n",
       "Energy                 -0.3975   0.70  \n",
       "Financials             -0.2400   1.15  \n",
       "Health Care             0.3200  24.55  \n",
       "Industrials             0.0300   3.66  \n",
       "Information Technology  0.2375   6.36  \n",
       "Materials              -0.0600   0.63  \n",
       "Real Estate            -0.1300   2.30  \n",
       "Utilities              -0.1225   1.32  "
      ]
     },
     "execution_count": 201,
     "metadata": {},
     "output_type": "execute_result"
    }
   ],
   "source": [
    "sector_stats = russell_3000.groupby('sector')['ytd_return'].describe()\n",
    "sector_stats"
   ]
  },
  {
   "cell_type": "code",
   "execution_count": 202,
   "metadata": {
    "extensions": {
     "jupyter_dashboards": {
      "version": 1,
      "views": {
       "grid_default": {},
       "report_default": {
        "hidden": false
       }
      }
     }
    }
   },
   "outputs": [
    {
     "data": {
      "text/plain": [
       "<matplotlib.axes._subplots.AxesSubplot at 0x7f4e2461ba58>"
      ]
     },
     "execution_count": 202,
     "metadata": {},
     "output_type": "execute_result"
    },
    {
     "data": {
      "image/png": "[encoded data removed]",
      "text/plain": [
       "<Figure size 864x432 with 1 Axes>"
      ]
     },
     "metadata": {
      "needs_background": "light"
     },
     "output_type": "display_data"
    }
   ],
   "source": [
    "russell_3000.groupby('sector')['ytd_return'].mean().sort_values().plot(kind='barh', figsize=[12,6], legend=True)"
   ]
  },
  {
   "cell_type": "markdown",
   "metadata": {
    "extensions": {
     "jupyter_dashboards": {
      "version": 1,
      "views": {
       "grid_default": {},
       "report_default": {
        "hidden": false
       }
      }
     }
    }
   },
   "source": [
    "What about sectors? Nothing shocking here, but wanted to show it anyway. Health care has been the best performer while Energy has been the clear loser. The health care performance looks like it may be due to a few outliers to the upside, which may have brought up the performance a bit. For this reason, it is sometimes helpful to use the median performance to examine further, which is done below."
   ]
  },
  {
   "cell_type": "code",
   "execution_count": 203,
   "metadata": {
    "extensions": {
     "jupyter_dashboards": {
      "version": 1,
      "views": {
       "grid_default": {},
       "report_default": {
        "hidden": false
       }
      }
     }
    }
   },
   "outputs": [
    {
     "data": {
      "text/plain": [
       "<matplotlib.axes._subplots.AxesSubplot at 0x7f4e24599828>"
      ]
     },
     "execution_count": 203,
     "metadata": {},
     "output_type": "execute_result"
    },
    {
     "data": {
      "image/png": "[encoded data removed]",
      "text/plain": [
       "<Figure size 864x432 with 1 Axes>"
      ]
     },
     "metadata": {
      "needs_background": "light"
     },
     "output_type": "display_data"
    }
   ],
   "source": [
    "russell_3000.groupby('sector')['ytd_return'].describe()['50%'].sort_values().plot(kind='barh', figsize=[12,6], legend=True)"
   ]
  },
  {
   "cell_type": "markdown",
   "metadata": {
    "extensions": {
     "jupyter_dashboards": {
      "version": 1,
      "views": {
       "grid_default": {},
       "report_default": {
        "hidden": false
       }
      }
     }
    }
   },
   "source": [
    "Interestingly enough, it appears that the rankings held up for the most part, but it did knock off healthcare from the leader to 2nd behind IT. It is somewhat troubling that the median for each sector has been negative across the board to varying degrees. As shown in all of the data above, the indexes (market-cap weighted) have been a horrible representation of the overall performance of the stock market year-to-date, as performance has been inflated upwards by a handful of outliers in each grouping we have examined. Referring back to the market cap decile example a few cells earlier, we can also see that the only decile with a positive median year-to-date performance has been the top decile by market cap. "
   ]
  },
  {
   "cell_type": "code",
   "execution_count": 204,
   "metadata": {
    "extensions": {
     "jupyter_dashboards": {
      "version": 1,
      "views": {
       "grid_default": {},
       "report_default": {
        "hidden": false
       }
      }
     }
    }
   },
   "outputs": [
    {
     "data": {
      "text/html": [
       "<div>\n",
       "<style scoped>\n",
       "    .dataframe tbody tr th:only-of-type {\n",
       "        vertical-align: middle;\n",
       "    }\n",
       "\n",
       "    .dataframe tbody tr th {\n",
       "        vertical-align: top;\n",
       "    }\n",
       "\n",
       "    .dataframe thead th {\n",
       "        text-align: right;\n",
       "    }\n",
       "</style>\n",
       "<table border=\"1\" class=\"dataframe\">\n",
       "  <thead>\n",
       "    <tr style=\"text-align: right;\">\n",
       "      <th></th>\n",
       "      <th>count</th>\n",
       "      <th>mean</th>\n",
       "      <th>std</th>\n",
       "      <th>min</th>\n",
       "      <th>25%</th>\n",
       "      <th>50%</th>\n",
       "      <th>75%</th>\n",
       "      <th>max</th>\n",
       "    </tr>\n",
       "    <tr>\n",
       "      <th>industry</th>\n",
       "      <th></th>\n",
       "      <th></th>\n",
       "      <th></th>\n",
       "      <th></th>\n",
       "      <th></th>\n",
       "      <th></th>\n",
       "      <th></th>\n",
       "      <th></th>\n",
       "    </tr>\n",
       "  </thead>\n",
       "  <tbody>\n",
       "    <tr>\n",
       "      <th>0</th>\n",
       "      <td>2.0</td>\n",
       "      <td>-0.075000</td>\n",
       "      <td>0.190919</td>\n",
       "      <td>-0.21</td>\n",
       "      <td>-0.1425</td>\n",
       "      <td>-0.075</td>\n",
       "      <td>-0.0075</td>\n",
       "      <td>0.06</td>\n",
       "    </tr>\n",
       "    <tr>\n",
       "      <th>Aerospace &amp; Defense</th>\n",
       "      <td>29.0</td>\n",
       "      <td>-0.252414</td>\n",
       "      <td>0.265096</td>\n",
       "      <td>-0.76</td>\n",
       "      <td>-0.4400</td>\n",
       "      <td>-0.190</td>\n",
       "      <td>-0.0700</td>\n",
       "      <td>0.18</td>\n",
       "    </tr>\n",
       "    <tr>\n",
       "      <th>Automobiles &amp; Auto Parts</th>\n",
       "      <td>31.0</td>\n",
       "      <td>0.135484</td>\n",
       "      <td>1.376108</td>\n",
       "      <td>-0.60</td>\n",
       "      <td>-0.3400</td>\n",
       "      <td>-0.210</td>\n",
       "      <td>-0.1100</td>\n",
       "      <td>6.48</td>\n",
       "    </tr>\n",
       "    <tr>\n",
       "      <th>Banking Services</th>\n",
       "      <td>317.0</td>\n",
       "      <td>-0.395710</td>\n",
       "      <td>0.173159</td>\n",
       "      <td>-0.74</td>\n",
       "      <td>-0.4800</td>\n",
       "      <td>-0.430</td>\n",
       "      <td>-0.3500</td>\n",
       "      <td>1.07</td>\n",
       "    </tr>\n",
       "    <tr>\n",
       "      <th>Beverages</th>\n",
       "      <td>13.0</td>\n",
       "      <td>0.316923</td>\n",
       "      <td>0.939365</td>\n",
       "      <td>-0.39</td>\n",
       "      <td>-0.1300</td>\n",
       "      <td>-0.020</td>\n",
       "      <td>0.2200</td>\n",
       "      <td>3.09</td>\n",
       "    </tr>\n",
       "    <tr>\n",
       "      <th>Biotechnology &amp; Medical Research</th>\n",
       "      <td>230.0</td>\n",
       "      <td>0.339652</td>\n",
       "      <td>2.210579</td>\n",
       "      <td>-0.75</td>\n",
       "      <td>-0.2900</td>\n",
       "      <td>-0.045</td>\n",
       "      <td>0.3675</td>\n",
       "      <td>24.55</td>\n",
       "    </tr>\n",
       "    <tr>\n",
       "      <th>Chemicals</th>\n",
       "      <td>55.0</td>\n",
       "      <td>-0.102727</td>\n",
       "      <td>0.422525</td>\n",
       "      <td>-0.48</td>\n",
       "      <td>-0.3000</td>\n",
       "      <td>-0.150</td>\n",
       "      <td>-0.0350</td>\n",
       "      <td>2.68</td>\n",
       "    </tr>\n",
       "    <tr>\n",
       "      <th>Coal</th>\n",
       "      <td>4.0</td>\n",
       "      <td>-0.410000</td>\n",
       "      <td>0.434434</td>\n",
       "      <td>-0.67</td>\n",
       "      <td>-0.6250</td>\n",
       "      <td>-0.605</td>\n",
       "      <td>-0.3900</td>\n",
       "      <td>0.24</td>\n",
       "    </tr>\n",
       "    <tr>\n",
       "      <th>Communications &amp; Networking</th>\n",
       "      <td>40.0</td>\n",
       "      <td>-0.097750</td>\n",
       "      <td>0.350827</td>\n",
       "      <td>-0.61</td>\n",
       "      <td>-0.3050</td>\n",
       "      <td>-0.175</td>\n",
       "      <td>0.0125</td>\n",
       "      <td>1.22</td>\n",
       "    </tr>\n",
       "    <tr>\n",
       "      <th>Computers, Phones &amp; Household Electronics</th>\n",
       "      <td>22.0</td>\n",
       "      <td>-0.088182</td>\n",
       "      <td>0.312481</td>\n",
       "      <td>-0.49</td>\n",
       "      <td>-0.3275</td>\n",
       "      <td>-0.090</td>\n",
       "      <td>0.0275</td>\n",
       "      <td>0.78</td>\n",
       "    </tr>\n",
       "    <tr>\n",
       "      <th>Construction &amp; Engineering</th>\n",
       "      <td>23.0</td>\n",
       "      <td>-0.061739</td>\n",
       "      <td>0.254570</td>\n",
       "      <td>-0.55</td>\n",
       "      <td>-0.2250</td>\n",
       "      <td>-0.050</td>\n",
       "      <td>0.0750</td>\n",
       "      <td>0.50</td>\n",
       "    </tr>\n",
       "    <tr>\n",
       "      <th>Construction Materials</th>\n",
       "      <td>9.0</td>\n",
       "      <td>-0.173333</td>\n",
       "      <td>0.122678</td>\n",
       "      <td>-0.38</td>\n",
       "      <td>-0.2100</td>\n",
       "      <td>-0.120</td>\n",
       "      <td>-0.0900</td>\n",
       "      <td>-0.02</td>\n",
       "    </tr>\n",
       "    <tr>\n",
       "      <th>Containers &amp; Packaging</th>\n",
       "      <td>19.0</td>\n",
       "      <td>-0.096316</td>\n",
       "      <td>0.159903</td>\n",
       "      <td>-0.35</td>\n",
       "      <td>-0.2200</td>\n",
       "      <td>-0.090</td>\n",
       "      <td>-0.0100</td>\n",
       "      <td>0.23</td>\n",
       "    </tr>\n",
       "    <tr>\n",
       "      <th>Diversified Industrial Goods Wholesale</th>\n",
       "      <td>2.0</td>\n",
       "      <td>-0.085000</td>\n",
       "      <td>0.077782</td>\n",
       "      <td>-0.14</td>\n",
       "      <td>-0.1125</td>\n",
       "      <td>-0.085</td>\n",
       "      <td>-0.0575</td>\n",
       "      <td>-0.03</td>\n",
       "    </tr>\n",
       "    <tr>\n",
       "      <th>Diversified Retail</th>\n",
       "      <td>19.0</td>\n",
       "      <td>0.181579</td>\n",
       "      <td>0.742573</td>\n",
       "      <td>-0.70</td>\n",
       "      <td>-0.1500</td>\n",
       "      <td>0.000</td>\n",
       "      <td>0.4250</td>\n",
       "      <td>2.18</td>\n",
       "    </tr>\n",
       "    <tr>\n",
       "      <th>Electrical Utilities &amp; IPPs</th>\n",
       "      <td>36.0</td>\n",
       "      <td>-0.189722</td>\n",
       "      <td>0.144350</td>\n",
       "      <td>-0.43</td>\n",
       "      <td>-0.2850</td>\n",
       "      <td>-0.210</td>\n",
       "      <td>-0.1175</td>\n",
       "      <td>0.22</td>\n",
       "    </tr>\n",
       "    <tr>\n",
       "      <th>Electronic Equipment &amp; Parts</th>\n",
       "      <td>20.0</td>\n",
       "      <td>-0.061500</td>\n",
       "      <td>0.276848</td>\n",
       "      <td>-0.41</td>\n",
       "      <td>-0.2525</td>\n",
       "      <td>-0.085</td>\n",
       "      <td>0.1025</td>\n",
       "      <td>0.61</td>\n",
       "    </tr>\n",
       "    <tr>\n",
       "      <th>Food &amp; Drug Retailing</th>\n",
       "      <td>19.0</td>\n",
       "      <td>-0.074737</td>\n",
       "      <td>0.395676</td>\n",
       "      <td>-0.69</td>\n",
       "      <td>-0.3750</td>\n",
       "      <td>0.020</td>\n",
       "      <td>0.1450</td>\n",
       "      <td>0.98</td>\n",
       "    </tr>\n",
       "    <tr>\n",
       "      <th>Food &amp; Tobacco</th>\n",
       "      <td>54.0</td>\n",
       "      <td>-0.069444</td>\n",
       "      <td>0.293864</td>\n",
       "      <td>-0.70</td>\n",
       "      <td>-0.2500</td>\n",
       "      <td>-0.105</td>\n",
       "      <td>0.0550</td>\n",
       "      <td>0.99</td>\n",
       "    </tr>\n",
       "    <tr>\n",
       "      <th>Freight &amp; Logistics Services</th>\n",
       "      <td>39.0</td>\n",
       "      <td>0.133590</td>\n",
       "      <td>0.430987</td>\n",
       "      <td>-0.59</td>\n",
       "      <td>-0.0950</td>\n",
       "      <td>0.100</td>\n",
       "      <td>0.2450</td>\n",
       "      <td>1.79</td>\n",
       "    </tr>\n",
       "    <tr>\n",
       "      <th>Healthcare Equipment &amp; Supplies</th>\n",
       "      <td>130.0</td>\n",
       "      <td>0.295077</td>\n",
       "      <td>1.400220</td>\n",
       "      <td>-0.63</td>\n",
       "      <td>-0.2300</td>\n",
       "      <td>0.005</td>\n",
       "      <td>0.4650</td>\n",
       "      <td>14.23</td>\n",
       "    </tr>\n",
       "    <tr>\n",
       "      <th>Healthcare Providers &amp; Services</th>\n",
       "      <td>49.0</td>\n",
       "      <td>-0.041020</td>\n",
       "      <td>0.329509</td>\n",
       "      <td>-0.66</td>\n",
       "      <td>-0.2100</td>\n",
       "      <td>-0.090</td>\n",
       "      <td>0.0800</td>\n",
       "      <td>1.50</td>\n",
       "    </tr>\n",
       "    <tr>\n",
       "      <th>Holding Companies</th>\n",
       "      <td>3.0</td>\n",
       "      <td>-0.083333</td>\n",
       "      <td>0.410528</td>\n",
       "      <td>-0.43</td>\n",
       "      <td>-0.3100</td>\n",
       "      <td>-0.190</td>\n",
       "      <td>0.0900</td>\n",
       "      <td>0.37</td>\n",
       "    </tr>\n",
       "    <tr>\n",
       "      <th>Homebuilding &amp; Construction Supplies</th>\n",
       "      <td>43.0</td>\n",
       "      <td>0.065116</td>\n",
       "      <td>0.258359</td>\n",
       "      <td>-0.37</td>\n",
       "      <td>-0.1500</td>\n",
       "      <td>0.060</td>\n",
       "      <td>0.2250</td>\n",
       "      <td>0.66</td>\n",
       "    </tr>\n",
       "    <tr>\n",
       "      <th>Hotels &amp; Entertainment Services</th>\n",
       "      <td>75.0</td>\n",
       "      <td>-0.202400</td>\n",
       "      <td>0.369641</td>\n",
       "      <td>-0.76</td>\n",
       "      <td>-0.4050</td>\n",
       "      <td>-0.250</td>\n",
       "      <td>-0.0500</td>\n",
       "      <td>1.70</td>\n",
       "    </tr>\n",
       "    <tr>\n",
       "      <th>Household Goods</th>\n",
       "      <td>16.0</td>\n",
       "      <td>0.070625</td>\n",
       "      <td>0.551779</td>\n",
       "      <td>-0.64</td>\n",
       "      <td>-0.1650</td>\n",
       "      <td>-0.025</td>\n",
       "      <td>0.0700</td>\n",
       "      <td>1.88</td>\n",
       "    </tr>\n",
       "    <tr>\n",
       "      <th>Industrial Conglomerates</th>\n",
       "      <td>7.0</td>\n",
       "      <td>-0.197143</td>\n",
       "      <td>0.179696</td>\n",
       "      <td>-0.45</td>\n",
       "      <td>-0.3300</td>\n",
       "      <td>-0.130</td>\n",
       "      <td>-0.1000</td>\n",
       "      <td>0.06</td>\n",
       "    </tr>\n",
       "    <tr>\n",
       "      <th>Insurance</th>\n",
       "      <td>84.0</td>\n",
       "      <td>-0.190119</td>\n",
       "      <td>0.320273</td>\n",
       "      <td>-0.61</td>\n",
       "      <td>-0.3625</td>\n",
       "      <td>-0.275</td>\n",
       "      <td>-0.1400</td>\n",
       "      <td>0.97</td>\n",
       "    </tr>\n",
       "    <tr>\n",
       "      <th>Investment Banking &amp; Investment Services</th>\n",
       "      <td>67.0</td>\n",
       "      <td>-0.163582</td>\n",
       "      <td>0.239404</td>\n",
       "      <td>-0.66</td>\n",
       "      <td>-0.2750</td>\n",
       "      <td>-0.190</td>\n",
       "      <td>0.0250</td>\n",
       "      <td>0.40</td>\n",
       "    </tr>\n",
       "    <tr>\n",
       "      <th>Leisure Products</th>\n",
       "      <td>24.0</td>\n",
       "      <td>0.603333</td>\n",
       "      <td>1.766767</td>\n",
       "      <td>-0.66</td>\n",
       "      <td>-0.0300</td>\n",
       "      <td>0.085</td>\n",
       "      <td>0.3600</td>\n",
       "      <td>8.36</td>\n",
       "    </tr>\n",
       "    <tr>\n",
       "      <th>Machinery, Equipment &amp; Components</th>\n",
       "      <td>131.0</td>\n",
       "      <td>-0.134198</td>\n",
       "      <td>0.261337</td>\n",
       "      <td>-0.63</td>\n",
       "      <td>-0.2750</td>\n",
       "      <td>-0.150</td>\n",
       "      <td>-0.0100</td>\n",
       "      <td>1.06</td>\n",
       "    </tr>\n",
       "    <tr>\n",
       "      <th>Media &amp; Publishing</th>\n",
       "      <td>55.0</td>\n",
       "      <td>-0.187091</td>\n",
       "      <td>0.459495</td>\n",
       "      <td>-0.79</td>\n",
       "      <td>-0.4100</td>\n",
       "      <td>-0.290</td>\n",
       "      <td>-0.0700</td>\n",
       "      <td>2.43</td>\n",
       "    </tr>\n",
       "    <tr>\n",
       "      <th>Metals &amp; Mining</th>\n",
       "      <td>31.0</td>\n",
       "      <td>-0.218065</td>\n",
       "      <td>0.266000</td>\n",
       "      <td>-0.63</td>\n",
       "      <td>-0.4300</td>\n",
       "      <td>-0.210</td>\n",
       "      <td>-0.1050</td>\n",
       "      <td>0.39</td>\n",
       "    </tr>\n",
       "    <tr>\n",
       "      <th>Multiline Utilities</th>\n",
       "      <td>11.0</td>\n",
       "      <td>-0.223636</td>\n",
       "      <td>0.128396</td>\n",
       "      <td>-0.39</td>\n",
       "      <td>-0.3100</td>\n",
       "      <td>-0.270</td>\n",
       "      <td>-0.1350</td>\n",
       "      <td>-0.02</td>\n",
       "    </tr>\n",
       "    <tr>\n",
       "      <th>Natural Gas Utilities</th>\n",
       "      <td>11.0</td>\n",
       "      <td>-0.285455</td>\n",
       "      <td>0.110758</td>\n",
       "      <td>-0.44</td>\n",
       "      <td>-0.3950</td>\n",
       "      <td>-0.290</td>\n",
       "      <td>-0.1950</td>\n",
       "      <td>-0.13</td>\n",
       "    </tr>\n",
       "    <tr>\n",
       "      <th>Office Equipment</th>\n",
       "      <td>2.0</td>\n",
       "      <td>0.310000</td>\n",
       "      <td>0.084853</td>\n",
       "      <td>0.25</td>\n",
       "      <td>0.2800</td>\n",
       "      <td>0.310</td>\n",
       "      <td>0.3400</td>\n",
       "      <td>0.37</td>\n",
       "    </tr>\n",
       "    <tr>\n",
       "      <th>Oil &amp; Gas</th>\n",
       "      <td>51.0</td>\n",
       "      <td>-0.498824</td>\n",
       "      <td>0.310533</td>\n",
       "      <td>-0.90</td>\n",
       "      <td>-0.6850</td>\n",
       "      <td>-0.580</td>\n",
       "      <td>-0.4600</td>\n",
       "      <td>0.54</td>\n",
       "    </tr>\n",
       "    <tr>\n",
       "      <th>Oil &amp; Gas Related Equipment and Services</th>\n",
       "      <td>44.0</td>\n",
       "      <td>-0.528182</td>\n",
       "      <td>0.185576</td>\n",
       "      <td>-0.87</td>\n",
       "      <td>-0.6650</td>\n",
       "      <td>-0.520</td>\n",
       "      <td>-0.4050</td>\n",
       "      <td>-0.09</td>\n",
       "    </tr>\n",
       "    <tr>\n",
       "      <th>Paper &amp; Forest Products</th>\n",
       "      <td>8.0</td>\n",
       "      <td>-0.167500</td>\n",
       "      <td>0.382613</td>\n",
       "      <td>-0.56</td>\n",
       "      <td>-0.3875</td>\n",
       "      <td>-0.305</td>\n",
       "      <td>0.0025</td>\n",
       "      <td>0.63</td>\n",
       "    </tr>\n",
       "    <tr>\n",
       "      <th>Passenger Transportation Services</th>\n",
       "      <td>14.0</td>\n",
       "      <td>-0.502857</td>\n",
       "      <td>0.190078</td>\n",
       "      <td>-0.92</td>\n",
       "      <td>-0.5950</td>\n",
       "      <td>-0.520</td>\n",
       "      <td>-0.4075</td>\n",
       "      <td>-0.14</td>\n",
       "    </tr>\n",
       "    <tr>\n",
       "      <th>Personal &amp; Household Products &amp; Services</th>\n",
       "      <td>31.0</td>\n",
       "      <td>-0.137419</td>\n",
       "      <td>0.309763</td>\n",
       "      <td>-0.74</td>\n",
       "      <td>-0.3600</td>\n",
       "      <td>-0.110</td>\n",
       "      <td>0.0350</td>\n",
       "      <td>0.38</td>\n",
       "    </tr>\n",
       "    <tr>\n",
       "      <th>Pharmaceuticals</th>\n",
       "      <td>69.0</td>\n",
       "      <td>0.001449</td>\n",
       "      <td>0.505901</td>\n",
       "      <td>-0.88</td>\n",
       "      <td>-0.2900</td>\n",
       "      <td>-0.080</td>\n",
       "      <td>0.2000</td>\n",
       "      <td>2.12</td>\n",
       "    </tr>\n",
       "    <tr>\n",
       "      <th>Professional &amp; Commercial Services</th>\n",
       "      <td>111.0</td>\n",
       "      <td>-0.166036</td>\n",
       "      <td>0.323718</td>\n",
       "      <td>-0.81</td>\n",
       "      <td>-0.3850</td>\n",
       "      <td>-0.190</td>\n",
       "      <td>-0.0050</td>\n",
       "      <td>1.17</td>\n",
       "    </tr>\n",
       "    <tr>\n",
       "      <th>Real Estate Operations</th>\n",
       "      <td>21.0</td>\n",
       "      <td>0.003333</td>\n",
       "      <td>0.760318</td>\n",
       "      <td>-0.69</td>\n",
       "      <td>-0.4000</td>\n",
       "      <td>-0.270</td>\n",
       "      <td>-0.0400</td>\n",
       "      <td>2.30</td>\n",
       "    </tr>\n",
       "    <tr>\n",
       "      <th>Renewable Energy</th>\n",
       "      <td>15.0</td>\n",
       "      <td>1.040000</td>\n",
       "      <td>1.312506</td>\n",
       "      <td>-0.26</td>\n",
       "      <td>0.0200</td>\n",
       "      <td>0.700</td>\n",
       "      <td>1.5100</td>\n",
       "      <td>3.66</td>\n",
       "    </tr>\n",
       "    <tr>\n",
       "      <th>Residential &amp; Commercial REIT</th>\n",
       "      <td>194.0</td>\n",
       "      <td>-0.318402</td>\n",
       "      <td>0.249565</td>\n",
       "      <td>-0.88</td>\n",
       "      <td>-0.5200</td>\n",
       "      <td>-0.340</td>\n",
       "      <td>-0.1400</td>\n",
       "      <td>0.56</td>\n",
       "    </tr>\n",
       "    <tr>\n",
       "      <th>Semiconductors &amp; Semiconductor Equipment</th>\n",
       "      <td>66.0</td>\n",
       "      <td>0.008182</td>\n",
       "      <td>0.357766</td>\n",
       "      <td>-0.45</td>\n",
       "      <td>-0.1900</td>\n",
       "      <td>-0.060</td>\n",
       "      <td>0.1100</td>\n",
       "      <td>1.93</td>\n",
       "    </tr>\n",
       "    <tr>\n",
       "      <th>Software &amp; IT Services</th>\n",
       "      <td>213.0</td>\n",
       "      <td>0.328216</td>\n",
       "      <td>1.112396</td>\n",
       "      <td>-0.78</td>\n",
       "      <td>-0.1300</td>\n",
       "      <td>0.110</td>\n",
       "      <td>0.4300</td>\n",
       "      <td>9.19</td>\n",
       "    </tr>\n",
       "    <tr>\n",
       "      <th>Specialty Retailers</th>\n",
       "      <td>76.0</td>\n",
       "      <td>0.054605</td>\n",
       "      <td>0.499120</td>\n",
       "      <td>-0.86</td>\n",
       "      <td>-0.2150</td>\n",
       "      <td>-0.045</td>\n",
       "      <td>0.2650</td>\n",
       "      <td>1.75</td>\n",
       "    </tr>\n",
       "    <tr>\n",
       "      <th>Telecommunications Services</th>\n",
       "      <td>25.0</td>\n",
       "      <td>0.012000</td>\n",
       "      <td>0.410173</td>\n",
       "      <td>-0.60</td>\n",
       "      <td>-0.1800</td>\n",
       "      <td>-0.100</td>\n",
       "      <td>0.0200</td>\n",
       "      <td>1.54</td>\n",
       "    </tr>\n",
       "    <tr>\n",
       "      <th>Textiles &amp; Apparel</th>\n",
       "      <td>25.0</td>\n",
       "      <td>-0.202000</td>\n",
       "      <td>0.331273</td>\n",
       "      <td>-0.57</td>\n",
       "      <td>-0.4700</td>\n",
       "      <td>-0.310</td>\n",
       "      <td>0.0200</td>\n",
       "      <td>0.61</td>\n",
       "    </tr>\n",
       "    <tr>\n",
       "      <th>Transport Infrastructure</th>\n",
       "      <td>1.0</td>\n",
       "      <td>-0.590000</td>\n",
       "      <td>NaN</td>\n",
       "      <td>-0.59</td>\n",
       "      <td>-0.5900</td>\n",
       "      <td>-0.590</td>\n",
       "      <td>-0.5900</td>\n",
       "      <td>-0.59</td>\n",
       "    </tr>\n",
       "    <tr>\n",
       "      <th>Uranium</th>\n",
       "      <td>2.0</td>\n",
       "      <td>-0.060000</td>\n",
       "      <td>0.155563</td>\n",
       "      <td>-0.17</td>\n",
       "      <td>-0.1150</td>\n",
       "      <td>-0.060</td>\n",
       "      <td>-0.0050</td>\n",
       "      <td>0.05</td>\n",
       "    </tr>\n",
       "    <tr>\n",
       "      <th>Water Utilities</th>\n",
       "      <td>10.0</td>\n",
       "      <td>-0.159000</td>\n",
       "      <td>0.126091</td>\n",
       "      <td>-0.35</td>\n",
       "      <td>-0.1950</td>\n",
       "      <td>-0.175</td>\n",
       "      <td>-0.1325</td>\n",
       "      <td>0.12</td>\n",
       "    </tr>\n",
       "  </tbody>\n",
       "</table>\n",
       "</div>"
      ],
      "text/plain": [
       "                                           count      mean       std   min  \\\n",
       "industry                                                                     \n",
       "0                                            2.0 -0.075000  0.190919 -0.21   \n",
       "Aerospace & Defense                         29.0 -0.252414  0.265096 -0.76   \n",
       "Automobiles & Auto Parts                    31.0  0.135484  1.376108 -0.60   \n",
       "Banking Services                           317.0 -0.395710  0.173159 -0.74   \n",
       "Beverages                                   13.0  0.316923  0.939365 -0.39   \n",
       "Biotechnology & Medical Research           230.0  0.339652  2.210579 -0.75   \n",
       "Chemicals                                   55.0 -0.102727  0.422525 -0.48   \n",
       "Coal                                         4.0 -0.410000  0.434434 -0.67   \n",
       "Communications & Networking                 40.0 -0.097750  0.350827 -0.61   \n",
       "Computers, Phones & Household Electronics   22.0 -0.088182  0.312481 -0.49   \n",
       "Construction & Engineering                  23.0 -0.061739  0.254570 -0.55   \n",
       "Construction Materials                       9.0 -0.173333  0.122678 -0.38   \n",
       "Containers & Packaging                      19.0 -0.096316  0.159903 -0.35   \n",
       "Diversified Industrial Goods Wholesale       2.0 -0.085000  0.077782 -0.14   \n",
       "Diversified Retail                          19.0  0.181579  0.742573 -0.70   \n",
       "Electrical Utilities & IPPs                 36.0 -0.189722  0.144350 -0.43   \n",
       "Electronic Equipment & Parts                20.0 -0.061500  0.276848 -0.41   \n",
       "Food & Drug Retailing                       19.0 -0.074737  0.395676 -0.69   \n",
       "Food & Tobacco                              54.0 -0.069444  0.293864 -0.70   \n",
       "Freight & Logistics Services                39.0  0.133590  0.430987 -0.59   \n",
       "Healthcare Equipment & Supplies            130.0  0.295077  1.400220 -0.63   \n",
       "Healthcare Providers & Services             49.0 -0.041020  0.329509 -0.66   \n",
       "Holding Companies                            3.0 -0.083333  0.410528 -0.43   \n",
       "Homebuilding & Construction Supplies        43.0  0.065116  0.258359 -0.37   \n",
       "Hotels & Entertainment Services             75.0 -0.202400  0.369641 -0.76   \n",
       "Household Goods                             16.0  0.070625  0.551779 -0.64   \n",
       "Industrial Conglomerates                     7.0 -0.197143  0.179696 -0.45   \n",
       "Insurance                                   84.0 -0.190119  0.320273 -0.61   \n",
       "Investment Banking & Investment Services    67.0 -0.163582  0.239404 -0.66   \n",
       "Leisure Products                            24.0  0.603333  1.766767 -0.66   \n",
       "Machinery, Equipment & Components          131.0 -0.134198  0.261337 -0.63   \n",
       "Media & Publishing                          55.0 -0.187091  0.459495 -0.79   \n",
       "Metals & Mining                             31.0 -0.218065  0.266000 -0.63   \n",
       "Multiline Utilities                         11.0 -0.223636  0.128396 -0.39   \n",
       "Natural Gas Utilities                       11.0 -0.285455  0.110758 -0.44   \n",
       "Office Equipment                             2.0  0.310000  0.084853  0.25   \n",
       "Oil & Gas                                   51.0 -0.498824  0.310533 -0.90   \n",
       "Oil & Gas Related Equipment and Services    44.0 -0.528182  0.185576 -0.87   \n",
       "Paper & Forest Products                      8.0 -0.167500  0.382613 -0.56   \n",
       "Passenger Transportation Services           14.0 -0.502857  0.190078 -0.92   \n",
       "Personal & Household Products & Services    31.0 -0.137419  0.309763 -0.74   \n",
       "Pharmaceuticals                             69.0  0.001449  0.505901 -0.88   \n",
       "Professional & Commercial Services         111.0 -0.166036  0.323718 -0.81   \n",
       "Real Estate Operations                      21.0  0.003333  0.760318 -0.69   \n",
       "Renewable Energy                            15.0  1.040000  1.312506 -0.26   \n",
       "Residential & Commercial REIT              194.0 -0.318402  0.249565 -0.88   \n",
       "Semiconductors & Semiconductor Equipment    66.0  0.008182  0.357766 -0.45   \n",
       "Software & IT Services                     213.0  0.328216  1.112396 -0.78   \n",
       "Specialty Retailers                         76.0  0.054605  0.499120 -0.86   \n",
       "Telecommunications Services                 25.0  0.012000  0.410173 -0.60   \n",
       "Textiles & Apparel                          25.0 -0.202000  0.331273 -0.57   \n",
       "Transport Infrastructure                     1.0 -0.590000       NaN -0.59   \n",
       "Uranium                                      2.0 -0.060000  0.155563 -0.17   \n",
       "Water Utilities                             10.0 -0.159000  0.126091 -0.35   \n",
       "\n",
       "                                              25%    50%     75%    max  \n",
       "industry                                                                 \n",
       "0                                         -0.1425 -0.075 -0.0075   0.06  \n",
       "Aerospace & Defense                       -0.4400 -0.190 -0.0700   0.18  \n",
       "Automobiles & Auto Parts                  -0.3400 -0.210 -0.1100   6.48  \n",
       "Banking Services                          -0.4800 -0.430 -0.3500   1.07  \n",
       "Beverages                                 -0.1300 -0.020  0.2200   3.09  \n",
       "Biotechnology & Medical Research          -0.2900 -0.045  0.3675  24.55  \n",
       "Chemicals                                 -0.3000 -0.150 -0.0350   2.68  \n",
       "Coal                                      -0.6250 -0.605 -0.3900   0.24  \n",
       "Communications & Networking               -0.3050 -0.175  0.0125   1.22  \n",
       "Computers, Phones & Household Electronics -0.3275 -0.090  0.0275   0.78  \n",
       "Construction & Engineering                -0.2250 -0.050  0.0750   0.50  \n",
       "Construction Materials                    -0.2100 -0.120 -0.0900  -0.02  \n",
       "Containers & Packaging                    -0.2200 -0.090 -0.0100   0.23  \n",
       "Diversified Industrial Goods Wholesale    -0.1125 -0.085 -0.0575  -0.03  \n",
       "Diversified Retail                        -0.1500  0.000  0.4250   2.18  \n",
       "Electrical Utilities & IPPs               -0.2850 -0.210 -0.1175   0.22  \n",
       "Electronic Equipment & Parts              -0.2525 -0.085  0.1025   0.61  \n",
       "Food & Drug Retailing                     -0.3750  0.020  0.1450   0.98  \n",
       "Food & Tobacco                            -0.2500 -0.105  0.0550   0.99  \n",
       "Freight & Logistics Services              -0.0950  0.100  0.2450   1.79  \n",
       "Healthcare Equipment & Supplies           -0.2300  0.005  0.4650  14.23  \n",
       "Healthcare Providers & Services           -0.2100 -0.090  0.0800   1.50  \n",
       "Holding Companies                         -0.3100 -0.190  0.0900   0.37  \n",
       "Homebuilding & Construction Supplies      -0.1500  0.060  0.2250   0.66  \n",
       "Hotels & Entertainment Services           -0.4050 -0.250 -0.0500   1.70  \n",
       "Household Goods                           -0.1650 -0.025  0.0700   1.88  \n",
       "Industrial Conglomerates                  -0.3300 -0.130 -0.1000   0.06  \n",
       "Insurance                                 -0.3625 -0.275 -0.1400   0.97  \n",
       "Investment Banking & Investment Services  -0.2750 -0.190  0.0250   0.40  \n",
       "Leisure Products                          -0.0300  0.085  0.3600   8.36  \n",
       "Machinery, Equipment & Components         -0.2750 -0.150 -0.0100   1.06  \n",
       "Media & Publishing                        -0.4100 -0.290 -0.0700   2.43  \n",
       "Metals & Mining                           -0.4300 -0.210 -0.1050   0.39  \n",
       "Multiline Utilities                       -0.3100 -0.270 -0.1350  -0.02  \n",
       "Natural Gas Utilities                     -0.3950 -0.290 -0.1950  -0.13  \n",
       "Office Equipment                           0.2800  0.310  0.3400   0.37  \n",
       "Oil & Gas                                 -0.6850 -0.580 -0.4600   0.54  \n",
       "Oil & Gas Related Equipment and Services  -0.6650 -0.520 -0.4050  -0.09  \n",
       "Paper & Forest Products                   -0.3875 -0.305  0.0025   0.63  \n",
       "Passenger Transportation Services         -0.5950 -0.520 -0.4075  -0.14  \n",
       "Personal & Household Products & Services  -0.3600 -0.110  0.0350   0.38  \n",
       "Pharmaceuticals                           -0.2900 -0.080  0.2000   2.12  \n",
       "Professional & Commercial Services        -0.3850 -0.190 -0.0050   1.17  \n",
       "Real Estate Operations                    -0.4000 -0.270 -0.0400   2.30  \n",
       "Renewable Energy                           0.0200  0.700  1.5100   3.66  \n",
       "Residential & Commercial REIT             -0.5200 -0.340 -0.1400   0.56  \n",
       "Semiconductors & Semiconductor Equipment  -0.1900 -0.060  0.1100   1.93  \n",
       "Software & IT Services                    -0.1300  0.110  0.4300   9.19  \n",
       "Specialty Retailers                       -0.2150 -0.045  0.2650   1.75  \n",
       "Telecommunications Services               -0.1800 -0.100  0.0200   1.54  \n",
       "Textiles & Apparel                        -0.4700 -0.310  0.0200   0.61  \n",
       "Transport Infrastructure                  -0.5900 -0.590 -0.5900  -0.59  \n",
       "Uranium                                   -0.1150 -0.060 -0.0050   0.05  \n",
       "Water Utilities                           -0.1950 -0.175 -0.1325   0.12  "
      ]
     },
     "execution_count": 204,
     "metadata": {},
     "output_type": "execute_result"
    }
   ],
   "source": [
    "industry_stats = russell_3000.groupby('industry')['ytd_return'].describe()\n",
    "industry_stats"
   ]
  },
  {
   "cell_type": "code",
   "execution_count": 205,
   "metadata": {
    "extensions": {
     "jupyter_dashboards": {
      "version": 1,
      "views": {
       "grid_default": {},
       "report_default": {
        "hidden": false
       }
      }
     }
    }
   },
   "outputs": [
    {
     "data": {
      "text/plain": [
       "<matplotlib.axes._subplots.AxesSubplot at 0x7f4e2451e4e0>"
      ]
     },
     "execution_count": 205,
     "metadata": {},
     "output_type": "execute_result"
    },
    {
     "data": {
      "image/png": "[encoded data removed]",
      "text/plain": [
       "<Figure size 864x864 with 1 Axes>"
      ]
     },
     "metadata": {
      "needs_background": "light"
     },
     "output_type": "display_data"
    }
   ],
   "source": [
    "russell_3000.groupby('industry')['ytd_return'].mean().sort_values().plot(kind='barh', figsize=[12,12], legend=True)"
   ]
  },
  {
   "cell_type": "markdown",
   "metadata": {
    "extensions": {
     "jupyter_dashboards": {
      "version": 1,
      "views": {
       "grid_default": {},
       "report_default": {
        "hidden": false
       }
      }
     }
    }
   },
   "source": [
    "Industries? I put this here for reference, but it is obviously too much data to be worth examining in this notebook. I will save this for a later date and look at industry performance leading up to the election and follow up with how performance changed after the election (or not)."
   ]
  },
  {
   "cell_type": "markdown",
   "metadata": {
    "extensions": {
     "jupyter_dashboards": {
      "version": 1,
      "views": {
       "grid_default": {},
       "report_default": {
        "hidden": false
       }
      }
     }
    }
   },
   "source": [
    "Lets take one final look at another way to look at the market, but expand our analysis globally and include fixed income. For convenience, I created a CSV file that I use to break apart performance globally to see what has and has not worked with ETF's that represent a wide variety of styles, regions, and security types."
   ]
  },
  {
   "cell_type": "code",
   "execution_count": 206,
   "metadata": {
    "extensions": {
     "jupyter_dashboards": {
      "version": 1,
      "views": {
       "grid_default": {},
       "report_default": {
        "hidden": true
       }
      }
     }
    }
   },
   "outputs": [],
   "source": [
    "etfs_by_factor = pd.read_csv('etf_types.csv')"
   ]
  },
  {
   "cell_type": "code",
   "execution_count": 207,
   "metadata": {
    "extensions": {
     "jupyter_dashboards": {
      "version": 1,
      "views": {
       "grid_default": {},
       "report_default": {
        "hidden": true
       }
      }
     }
    }
   },
   "outputs": [],
   "source": [
    "factor_tickers = etfs_by_factor['ticker'].to_list()"
   ]
  },
  {
   "cell_type": "code",
   "execution_count": 208,
   "metadata": {
    "extensions": {
     "jupyter_dashboards": {
      "version": 1,
      "views": {
       "grid_default": {},
       "report_default": {
        "hidden": true
       }
      }
     }
    }
   },
   "outputs": [],
   "source": [
    "factor_adjusted_close = pd.DataFrame(columns=factor_tickers)\n",
    "null_tickers = []\n",
    "\n",
    "for ticker in factor_tickers:\n",
    "  try:\n",
    "    data_panel = web.DataReader([ticker], \"tiingo\").loc[ticker]['adjClose'].to_frame()\n",
    "    data_panel.columns = [ticker]\n",
    "    data_panel.index = pd.to_datetime(data_panel.index)\n",
    "    if data_panel.index.max().tz_localize(None) < datetime.today() - relativedelta(days=5):\n",
    "        print(\"{} most recent date is {}\".format(ticker, str(data_panel.index.max())))\n",
    "    else:\n",
    "        factor_adjusted_close[ticker] = data_panel[ticker]\n",
    "  except:\n",
    "    null_tickers.append(ticker)\n",
    "    print(\"{} not found\".format(ticker))"
   ]
  },
  {
   "cell_type": "code",
   "execution_count": 209,
   "metadata": {
    "extensions": {
     "jupyter_dashboards": {
      "version": 1,
      "views": {
       "grid_default": {},
       "report_default": {
        "hidden": true
       }
      }
     }
    }
   },
   "outputs": [],
   "source": [
    "filtered_factor_adjusted_close = factor_adjusted_close.loc['2019-12-31':]"
   ]
  },
  {
   "cell_type": "code",
   "execution_count": 210,
   "metadata": {
    "extensions": {
     "jupyter_dashboards": {
      "version": 1,
      "views": {
       "grid_default": {},
       "report_default": {
        "hidden": true
       }
      }
     }
    }
   },
   "outputs": [],
   "source": [
    "etfs_by_factor.set_index('ticker', inplace=True)"
   ]
  },
  {
   "cell_type": "code",
   "execution_count": 211,
   "metadata": {
    "extensions": {
     "jupyter_dashboards": {
      "version": 1,
      "views": {
       "grid_default": {},
       "report_default": {
        "hidden": true
       }
      }
     }
    }
   },
   "outputs": [],
   "source": [
    "for ticker in filtered_factor_adjusted_close.columns:\n",
    "    etfs_by_factor.loc[ticker, 'ytd_return'] = (filtered_factor_adjusted_close[ticker].iloc[-1] - filtered_factor_adjusted_close[ticker].iloc[0])/filtered_factor_adjusted_close[ticker].iloc[0]\n",
    "    etfs_by_factor.loc[ticker, 'peak_to_trough'] = (filtered_factor_adjusted_close[ticker].loc[trough] - filtered_factor_adjusted_close[ticker].loc[peak])/filtered_factor_adjusted_close[ticker].loc[peak]\n",
    "    etfs_by_factor.loc[ticker, 'trough_to_date'] = (filtered_factor_adjusted_close[ticker].iloc[-1] - filtered_factor_adjusted_close[ticker].loc[trough])/filtered_factor_adjusted_close[ticker].loc[trough]\n",
    "    etfs_by_factor.loc[ticker, 'start_to_peak'] = (filtered_factor_adjusted_close[ticker].loc[peak] - filtered_factor_adjusted_close[ticker].iloc[0])/filtered_factor_adjusted_close[ticker].iloc[0]"
   ]
  },
  {
   "cell_type": "code",
   "execution_count": 212,
   "metadata": {
    "extensions": {
     "jupyter_dashboards": {
      "version": 1,
      "views": {
       "grid_default": {},
       "report_default": {
        "hidden": false
       }
      }
     }
    }
   },
   "outputs": [
    {
     "data": {
      "text/html": [
       "<div>\n",
       "<style scoped>\n",
       "    .dataframe tbody tr th:only-of-type {\n",
       "        vertical-align: middle;\n",
       "    }\n",
       "\n",
       "    .dataframe tbody tr th {\n",
       "        vertical-align: top;\n",
       "    }\n",
       "\n",
       "    .dataframe thead th {\n",
       "        text-align: right;\n",
       "    }\n",
       "</style>\n",
       "<table border=\"1\" class=\"dataframe\">\n",
       "  <thead>\n",
       "    <tr style=\"text-align: right;\">\n",
       "      <th></th>\n",
       "      <th>asset_class</th>\n",
       "      <th>type</th>\n",
       "      <th>factor</th>\n",
       "      <th>ytd_return</th>\n",
       "      <th>peak_to_trough</th>\n",
       "      <th>trough_to_date</th>\n",
       "      <th>start_to_peak</th>\n",
       "    </tr>\n",
       "    <tr>\n",
       "      <th>ticker</th>\n",
       "      <th></th>\n",
       "      <th></th>\n",
       "      <th></th>\n",
       "      <th></th>\n",
       "      <th></th>\n",
       "      <th></th>\n",
       "      <th></th>\n",
       "    </tr>\n",
       "  </thead>\n",
       "  <tbody>\n",
       "    <tr>\n",
       "      <th>IPO</th>\n",
       "      <td>equity</td>\n",
       "      <td>qualitative</td>\n",
       "      <td>ipo</td>\n",
       "      <td>0.631696</td>\n",
       "      <td>-0.332509</td>\n",
       "      <td>1.164173</td>\n",
       "      <td>0.129540</td>\n",
       "    </tr>\n",
       "    <tr>\n",
       "      <th>TLT</th>\n",
       "      <td>fixed_income</td>\n",
       "      <td>us_treasury_duration</td>\n",
       "      <td>20_plus_year_treasury</td>\n",
       "      <td>0.227017</td>\n",
       "      <td>0.142357</td>\n",
       "      <td>-0.001726</td>\n",
       "      <td>0.075967</td>\n",
       "    </tr>\n",
       "    <tr>\n",
       "      <th>CWB</th>\n",
       "      <td>fixed_income</td>\n",
       "      <td>us_corporate_credit</td>\n",
       "      <td>convertibles</td>\n",
       "      <td>0.216678</td>\n",
       "      <td>-0.320608</td>\n",
       "      <td>0.643655</td>\n",
       "      <td>0.089543</td>\n",
       "    </tr>\n",
       "    <tr>\n",
       "      <th>IWF</th>\n",
       "      <td>equity</td>\n",
       "      <td>style</td>\n",
       "      <td>growth</td>\n",
       "      <td>0.184621</td>\n",
       "      <td>-0.315461</td>\n",
       "      <td>0.583214</td>\n",
       "      <td>0.093054</td>\n",
       "    </tr>\n",
       "    <tr>\n",
       "      <th>TLH</th>\n",
       "      <td>fixed_income</td>\n",
       "      <td>us_treasury_duration</td>\n",
       "      <td>10_20_year_treasury</td>\n",
       "      <td>0.175230</td>\n",
       "      <td>0.112517</td>\n",
       "      <td>0.002433</td>\n",
       "      <td>0.053807</td>\n",
       "    </tr>\n",
       "    <tr>\n",
       "      <th>IVW</th>\n",
       "      <td>equity</td>\n",
       "      <td>size_vs_value</td>\n",
       "      <td>large_cap_growth</td>\n",
       "      <td>0.152948</td>\n",
       "      <td>-0.313515</td>\n",
       "      <td>0.544389</td>\n",
       "      <td>0.087482</td>\n",
       "    </tr>\n",
       "    <tr>\n",
       "      <th>PLW</th>\n",
       "      <td>fixed_income</td>\n",
       "      <td>us_treasury_duration</td>\n",
       "      <td>laddered_treasury</td>\n",
       "      <td>0.151535</td>\n",
       "      <td>0.095514</td>\n",
       "      <td>0.005569</td>\n",
       "      <td>0.045316</td>\n",
       "    </tr>\n",
       "    <tr>\n",
       "      <th>MTUM</th>\n",
       "      <td>equity</td>\n",
       "      <td>style</td>\n",
       "      <td>momentum</td>\n",
       "      <td>0.128250</td>\n",
       "      <td>-0.340823</td>\n",
       "      <td>0.567762</td>\n",
       "      <td>0.091749</td>\n",
       "    </tr>\n",
       "    <tr>\n",
       "      <th>IEF</th>\n",
       "      <td>fixed_income</td>\n",
       "      <td>us_treasury_duration</td>\n",
       "      <td>7_10_year_treasury</td>\n",
       "      <td>0.115282</td>\n",
       "      <td>0.063763</td>\n",
       "      <td>0.017122</td>\n",
       "      <td>0.030783</td>\n",
       "    </tr>\n",
       "    <tr>\n",
       "      <th>GOVT</th>\n",
       "      <td>fixed_income</td>\n",
       "      <td>us_government_agencies</td>\n",
       "      <td>us_treasury</td>\n",
       "      <td>0.088712</td>\n",
       "      <td>0.057348</td>\n",
       "      <td>0.007121</td>\n",
       "      <td>0.022382</td>\n",
       "    </tr>\n",
       "  </tbody>\n",
       "</table>\n",
       "</div>"
      ],
      "text/plain": [
       "         asset_class                    type                 factor  \\\n",
       "ticker                                                                \n",
       "IPO           equity             qualitative                    ipo   \n",
       "TLT     fixed_income    us_treasury_duration  20_plus_year_treasury   \n",
       "CWB     fixed_income     us_corporate_credit           convertibles   \n",
       "IWF           equity                   style                 growth   \n",
       "TLH     fixed_income    us_treasury_duration    10_20_year_treasury   \n",
       "IVW           equity           size_vs_value       large_cap_growth   \n",
       "PLW     fixed_income    us_treasury_duration      laddered_treasury   \n",
       "MTUM          equity                   style               momentum   \n",
       "IEF     fixed_income    us_treasury_duration     7_10_year_treasury   \n",
       "GOVT    fixed_income  us_government_agencies            us_treasury   \n",
       "\n",
       "        ytd_return  peak_to_trough  trough_to_date  start_to_peak  \n",
       "ticker                                                             \n",
       "IPO       0.631696       -0.332509        1.164173       0.129540  \n",
       "TLT       0.227017        0.142357       -0.001726       0.075967  \n",
       "CWB       0.216678       -0.320608        0.643655       0.089543  \n",
       "IWF       0.184621       -0.315461        0.583214       0.093054  \n",
       "TLH       0.175230        0.112517        0.002433       0.053807  \n",
       "IVW       0.152948       -0.313515        0.544389       0.087482  \n",
       "PLW       0.151535        0.095514        0.005569       0.045316  \n",
       "MTUM      0.128250       -0.340823        0.567762       0.091749  \n",
       "IEF       0.115282        0.063763        0.017122       0.030783  \n",
       "GOVT      0.088712        0.057348        0.007121       0.022382  "
      ]
     },
     "execution_count": 212,
     "metadata": {},
     "output_type": "execute_result"
    }
   ],
   "source": [
    "etfs_by_factor.sort_values(by='ytd_return', ascending=False).head(10)"
   ]
  },
  {
   "cell_type": "markdown",
   "metadata": {
    "extensions": {
     "jupyter_dashboards": {
      "version": 1,
      "views": {
       "grid_default": {},
       "report_default": {
        "hidden": false
       }
      }
     }
    }
   },
   "source": [
    "The top ten performers year-to-date across these asset classes we examined are shown above. Roughly half are fixed income and the other half are equity. IPOs (as represented by the ETF with ticker IPO) has been the clear winner so far. I will dive deeper into that in a seperate piece. The second best performance has been from long-duration treasuries, which shouldn't be that surprising given the zero interest rate policy that the Fed put back in place in March of this year."
   ]
  },
  {
   "cell_type": "code",
   "execution_count": 213,
   "metadata": {
    "extensions": {
     "jupyter_dashboards": {
      "version": 1,
      "views": {
       "grid_default": {},
       "report_default": {
        "hidden": false
       }
      }
     }
    }
   },
   "outputs": [
    {
     "data": {
      "text/html": [
       "<div>\n",
       "<style scoped>\n",
       "    .dataframe tbody tr th:only-of-type {\n",
       "        vertical-align: middle;\n",
       "    }\n",
       "\n",
       "    .dataframe tbody tr th {\n",
       "        vertical-align: top;\n",
       "    }\n",
       "\n",
       "    .dataframe thead th {\n",
       "        text-align: right;\n",
       "    }\n",
       "</style>\n",
       "<table border=\"1\" class=\"dataframe\">\n",
       "  <thead>\n",
       "    <tr style=\"text-align: right;\">\n",
       "      <th></th>\n",
       "      <th>asset_class</th>\n",
       "      <th>type</th>\n",
       "      <th>factor</th>\n",
       "      <th>ytd_return</th>\n",
       "      <th>peak_to_trough</th>\n",
       "      <th>trough_to_date</th>\n",
       "      <th>start_to_peak</th>\n",
       "    </tr>\n",
       "    <tr>\n",
       "      <th>ticker</th>\n",
       "      <th></th>\n",
       "      <th></th>\n",
       "      <th></th>\n",
       "      <th></th>\n",
       "      <th></th>\n",
       "      <th></th>\n",
       "      <th></th>\n",
       "    </tr>\n",
       "  </thead>\n",
       "  <tbody>\n",
       "    <tr>\n",
       "      <th>VYM</th>\n",
       "      <td>equity</td>\n",
       "      <td>style</td>\n",
       "      <td>high_dividend_yield</td>\n",
       "      <td>-0.137354</td>\n",
       "      <td>-0.346374</td>\n",
       "      <td>0.316694</td>\n",
       "      <td>0.002348</td>\n",
       "    </tr>\n",
       "    <tr>\n",
       "      <th>PKW</th>\n",
       "      <td>equity</td>\n",
       "      <td>qualitative</td>\n",
       "      <td>buybacks</td>\n",
       "      <td>-0.140367</td>\n",
       "      <td>-0.396632</td>\n",
       "      <td>0.420605</td>\n",
       "      <td>0.002899</td>\n",
       "    </tr>\n",
       "    <tr>\n",
       "      <th>IVE</th>\n",
       "      <td>equity</td>\n",
       "      <td>size_vs_value</td>\n",
       "      <td>large_cap_value</td>\n",
       "      <td>-0.141397</td>\n",
       "      <td>-0.368233</td>\n",
       "      <td>0.346217</td>\n",
       "      <td>0.009532</td>\n",
       "    </tr>\n",
       "    <tr>\n",
       "      <th>IWD</th>\n",
       "      <td>equity</td>\n",
       "      <td>style</td>\n",
       "      <td>value</td>\n",
       "      <td>-0.141565</td>\n",
       "      <td>-0.383719</td>\n",
       "      <td>0.375592</td>\n",
       "      <td>0.012603</td>\n",
       "    </tr>\n",
       "    <tr>\n",
       "      <th>KNOW</th>\n",
       "      <td>equity</td>\n",
       "      <td>qualitative</td>\n",
       "      <td>insider_sentiment</td>\n",
       "      <td>-0.151528</td>\n",
       "      <td>-0.391635</td>\n",
       "      <td>0.394322</td>\n",
       "      <td>0.000254</td>\n",
       "    </tr>\n",
       "    <tr>\n",
       "      <th>CSD</th>\n",
       "      <td>equity</td>\n",
       "      <td>qualitative</td>\n",
       "      <td>spin_offs</td>\n",
       "      <td>-0.172612</td>\n",
       "      <td>-0.519009</td>\n",
       "      <td>0.742342</td>\n",
       "      <td>-0.012723</td>\n",
       "    </tr>\n",
       "    <tr>\n",
       "      <th>IJR</th>\n",
       "      <td>equity</td>\n",
       "      <td>style</td>\n",
       "      <td>small_cap</td>\n",
       "      <td>-0.184944</td>\n",
       "      <td>-0.412208</td>\n",
       "      <td>0.391620</td>\n",
       "      <td>-0.003578</td>\n",
       "    </tr>\n",
       "    <tr>\n",
       "      <th>EFV</th>\n",
       "      <td>equity</td>\n",
       "      <td>global_style</td>\n",
       "      <td>international_value</td>\n",
       "      <td>-0.191864</td>\n",
       "      <td>-0.363132</td>\n",
       "      <td>0.302040</td>\n",
       "      <td>-0.025436</td>\n",
       "    </tr>\n",
       "    <tr>\n",
       "      <th>IJJ</th>\n",
       "      <td>equity</td>\n",
       "      <td>size_vs_value</td>\n",
       "      <td>mid_cap_value</td>\n",
       "      <td>-0.224159</td>\n",
       "      <td>-0.452110</td>\n",
       "      <td>0.420628</td>\n",
       "      <td>-0.003221</td>\n",
       "    </tr>\n",
       "    <tr>\n",
       "      <th>IWN</th>\n",
       "      <td>equity</td>\n",
       "      <td>size_vs_value</td>\n",
       "      <td>small_cap_value</td>\n",
       "      <td>-0.245257</td>\n",
       "      <td>-0.430645</td>\n",
       "      <td>0.351788</td>\n",
       "      <td>-0.019365</td>\n",
       "    </tr>\n",
       "  </tbody>\n",
       "</table>\n",
       "</div>"
      ],
      "text/plain": [
       "       asset_class           type               factor  ytd_return  \\\n",
       "ticker                                                               \n",
       "VYM         equity          style  high_dividend_yield   -0.137354   \n",
       "PKW         equity    qualitative             buybacks   -0.140367   \n",
       "IVE         equity  size_vs_value      large_cap_value   -0.141397   \n",
       "IWD         equity          style                value   -0.141565   \n",
       "KNOW        equity    qualitative    insider_sentiment   -0.151528   \n",
       "CSD         equity    qualitative            spin_offs   -0.172612   \n",
       "IJR         equity          style            small_cap   -0.184944   \n",
       "EFV         equity   global_style  international_value   -0.191864   \n",
       "IJJ         equity  size_vs_value        mid_cap_value   -0.224159   \n",
       "IWN         equity  size_vs_value      small_cap_value   -0.245257   \n",
       "\n",
       "        peak_to_trough  trough_to_date  start_to_peak  \n",
       "ticker                                                 \n",
       "VYM          -0.346374        0.316694       0.002348  \n",
       "PKW          -0.396632        0.420605       0.002899  \n",
       "IVE          -0.368233        0.346217       0.009532  \n",
       "IWD          -0.383719        0.375592       0.012603  \n",
       "KNOW         -0.391635        0.394322       0.000254  \n",
       "CSD          -0.519009        0.742342      -0.012723  \n",
       "IJR          -0.412208        0.391620      -0.003578  \n",
       "EFV          -0.363132        0.302040      -0.025436  \n",
       "IJJ          -0.452110        0.420628      -0.003221  \n",
       "IWN          -0.430645        0.351788      -0.019365  "
      ]
     },
     "execution_count": 213,
     "metadata": {},
     "output_type": "execute_result"
    }
   ],
   "source": [
    "etfs_by_factor.sort_values(by='ytd_return', ascending=False).tail(10)"
   ]
  },
  {
   "cell_type": "markdown",
   "metadata": {
    "extensions": {
     "jupyter_dashboards": {
      "version": 1,
      "views": {
       "grid_default": {},
       "report_default": {
        "hidden": false
       }
      }
     }
    }
   },
   "source": [
    "The results here look fairly consistent with our previous analysis, where we found that the market has penalized Smaller Market Cap companies, and that it has also penalized low P/E (cheaper) companies. No surpise that if you were both a small company and had a cheap valuation, you were left in the dust performance wise. The worst performance year-to-date was in Small Cap Value, Mid Cap Value, and International Value which makes it look like the market penalized cheap companies more than small cap companies so far."
   ]
  },
  {
   "cell_type": "markdown",
   "metadata": {
    "extensions": {
     "jupyter_dashboards": {
      "version": 1,
      "views": {
       "grid_default": {},
       "report_default": {
        "hidden": false
       }
      }
     }
    }
   },
   "source": [
    "Now let's look at equity on it's own."
   ]
  },
  {
   "cell_type": "code",
   "execution_count": 214,
   "metadata": {
    "extensions": {
     "jupyter_dashboards": {
      "version": 1,
      "views": {
       "grid_default": {},
       "report_default": {
        "hidden": true
       }
      }
     }
    }
   },
   "outputs": [],
   "source": [
    "equity_factors = etfs_by_factor[etfs_by_factor['asset_class'] == 'equity']"
   ]
  },
  {
   "cell_type": "code",
   "execution_count": 215,
   "metadata": {
    "extensions": {
     "jupyter_dashboards": {
      "version": 1,
      "views": {
       "grid_default": {},
       "report_default": {
        "hidden": true
       }
      }
     }
    }
   },
   "outputs": [],
   "source": [
    "equity_factors.set_index('factor', inplace=True)"
   ]
  },
  {
   "cell_type": "code",
   "execution_count": 216,
   "metadata": {
    "extensions": {
     "jupyter_dashboards": {
      "version": 1,
      "views": {
       "grid_default": {},
       "report_default": {
        "hidden": false
       }
      }
     }
    }
   },
   "outputs": [
    {
     "data": {
      "text/plain": [
       "<matplotlib.axes._subplots.AxesSubplot at 0x7f4e243ae5c0>"
      ]
     },
     "execution_count": 216,
     "metadata": {},
     "output_type": "execute_result"
    },
    {
     "data": {
      "image/png": "[encoded data removed]",
      "text/plain": [
       "<Figure size 864x864 with 1 Axes>"
      ]
     },
     "metadata": {
      "needs_background": "light"
     },
     "output_type": "display_data"
    }
   ],
   "source": [
    "equity_factors['ytd_return'].sort_values().plot(kind='barh', figsize=[12,12], legend=True)"
   ]
  },
  {
   "cell_type": "markdown",
   "metadata": {
    "extensions": {
     "jupyter_dashboards": {
      "version": 1,
      "views": {
       "grid_default": {},
       "report_default": {
        "hidden": false
       }
      }
     }
    }
   },
   "source": [
    "The same pattern emerges...the smaller and cheaper companies were dominated by speculative or large cap companies year to date. The top 5 are either momentum based, growth, or IPOs. It almost leads me to conclude that most of the smart money is still on the sidelines, and investors-to-date have been treating the market as a substitute for not being able to gamble on sports or go to the casino (just speculating here).."
   ]
  },
  {
   "cell_type": "code",
   "execution_count": 217,
   "metadata": {
    "extensions": {
     "jupyter_dashboards": {
      "version": 1,
      "views": {
       "grid_default": {},
       "report_default": {
        "hidden": false
       }
      }
     }
    }
   },
   "outputs": [
    {
     "data": {
      "text/plain": [
       "<matplotlib.axes._subplots.AxesSubplot at 0x7f4e24511eb8>"
      ]
     },
     "execution_count": 217,
     "metadata": {},
     "output_type": "execute_result"
    },
    {
     "data": {
      "image/png": "[encoded data removed]",
      "text/plain": [
       "<Figure size 864x864 with 1 Axes>"
      ]
     },
     "metadata": {
      "needs_background": "light"
     },
     "output_type": "display_data"
    }
   ],
   "source": [
    "equity_factors['peak_to_trough'].sort_values().plot(kind='barh', figsize=[12,12], legend=True)"
   ]
  },
  {
   "cell_type": "markdown",
   "metadata": {
    "extensions": {
     "jupyter_dashboards": {
      "version": 1,
      "views": {
       "grid_default": {},
       "report_default": {
        "hidden": false
       }
      }
     }
    }
   },
   "source": [
    "From the market's peak in February to the trough in March of this year, small cap and value both were hit the hardest and sold off the most during the rapid market decline, while the same companies that have outperformed year-to-date were also penalized far less in the drawdown."
   ]
  },
  {
   "cell_type": "code",
   "execution_count": 218,
   "metadata": {
    "extensions": {
     "jupyter_dashboards": {
      "version": 1,
      "views": {
       "grid_default": {},
       "report_default": {
        "hidden": false
       }
      }
     }
    }
   },
   "outputs": [
    {
     "data": {
      "text/plain": [
       "<matplotlib.axes._subplots.AxesSubplot at 0x7f4e2427a080>"
      ]
     },
     "execution_count": 218,
     "metadata": {},
     "output_type": "execute_result"
    },
    {
     "data": {
      "image/png": "[encoded data removed]",
      "text/plain": [
       "<Figure size 864x864 with 1 Axes>"
      ]
     },
     "metadata": {
      "needs_background": "light"
     },
     "output_type": "display_data"
    }
   ],
   "source": [
    "equity_factors['trough_to_date'].sort_values().plot(kind='barh', figsize=[12,12], legend=True)"
   ]
  },
  {
   "cell_type": "markdown",
   "metadata": {
    "extensions": {
     "jupyter_dashboards": {
      "version": 1,
      "views": {
       "grid_default": {},
       "report_default": {
        "hidden": false
       }
      }
     }
    }
   },
   "source": [
    "From the market bottom in March to today, you see the same bunch that held up the best in the correction, have outperformed in the recovery (with the exception of the spin-offs, which were both hit the hardest and performed the best out of the trough of the market)."
   ]
  },
  {
   "cell_type": "code",
   "execution_count": 219,
   "metadata": {
    "extensions": {
     "jupyter_dashboards": {
      "version": 1,
      "views": {
       "grid_default": {},
       "report_default": {
        "hidden": false
       }
      }
     }
    }
   },
   "outputs": [
    {
     "data": {
      "text/plain": [
       "<matplotlib.axes._subplots.AxesSubplot at 0x7f4e24f44f28>"
      ]
     },
     "execution_count": 219,
     "metadata": {},
     "output_type": "execute_result"
    },
    {
     "data": {
      "image/png": "[encoded data removed]",
      "text/plain": [
       "<Figure size 864x864 with 1 Axes>"
      ]
     },
     "metadata": {
      "needs_background": "light"
     },
     "output_type": "display_data"
    }
   ],
   "source": [
    "equity_factors['start_to_peak'].sort_values().plot(kind='barh', figsize=[12,12], legend=True)"
   ]
  },
  {
   "cell_type": "markdown",
   "metadata": {
    "extensions": {
     "jupyter_dashboards": {
      "version": 1,
      "views": {
       "grid_default": {},
       "report_default": {
        "hidden": false
       }
      }
     }
    }
   },
   "source": [
    "The year started out very similarly, with the most expensive and largest companies as clear favorites leading up to the Februrary drawdown."
   ]
  },
  {
   "cell_type": "markdown",
   "metadata": {
    "extensions": {
     "jupyter_dashboards": {
      "version": 1,
      "views": {
       "grid_default": {},
       "report_default": {
        "hidden": false
       }
      }
     }
    }
   },
   "source": [
    "Finally, we take a look at fixed income by factors."
   ]
  },
  {
   "cell_type": "code",
   "execution_count": 220,
   "metadata": {
    "extensions": {
     "jupyter_dashboards": {
      "version": 1,
      "views": {
       "grid_default": {},
       "report_default": {
        "hidden": true
       }
      }
     }
    }
   },
   "outputs": [],
   "source": [
    "fixed_income_factors = etfs_by_factor[etfs_by_factor['asset_class'] == 'fixed_income']"
   ]
  },
  {
   "cell_type": "code",
   "execution_count": 221,
   "metadata": {
    "extensions": {
     "jupyter_dashboards": {
      "version": 1,
      "views": {
       "grid_default": {},
       "report_default": {
        "hidden": true
       }
      }
     }
    }
   },
   "outputs": [],
   "source": [
    "fixed_income_factors.set_index('factor', inplace=True)"
   ]
  },
  {
   "cell_type": "code",
   "execution_count": 222,
   "metadata": {
    "extensions": {
     "jupyter_dashboards": {
      "version": 1,
      "views": {
       "grid_default": {},
       "report_default": {
        "hidden": false
       }
      }
     }
    }
   },
   "outputs": [
    {
     "data": {
      "text/plain": [
       "<matplotlib.axes._subplots.AxesSubplot at 0x7f4e24ab0f98>"
      ]
     },
     "execution_count": 222,
     "metadata": {},
     "output_type": "execute_result"
    },
    {
     "data": {
      "image/png": "[encoded data removed]",
      "text/plain": [
       "<Figure size 864x864 with 1 Axes>"
      ]
     },
     "metadata": {
      "needs_background": "light"
     },
     "output_type": "display_data"
    }
   ],
   "source": [
    "fixed_income_factors['ytd_return'].sort_values().plot(kind='barh', figsize=[12,12], legend=True)"
   ]
  },
  {
   "cell_type": "code",
   "execution_count": 223,
   "metadata": {
    "extensions": {
     "jupyter_dashboards": {
      "version": 1,
      "views": {
       "grid_default": {},
       "report_default": {
        "hidden": false
       }
      }
     }
    }
   },
   "outputs": [
    {
     "data": {
      "text/plain": [
       "<matplotlib.axes._subplots.AxesSubplot at 0x7f4e24adb908>"
      ]
     },
     "execution_count": 223,
     "metadata": {},
     "output_type": "execute_result"
    },
    {
     "data": {
      "image/png": "[encoded data removed]",
      "text/plain": [
       "<Figure size 864x864 with 1 Axes>"
      ]
     },
     "metadata": {
      "needs_background": "light"
     },
     "output_type": "display_data"
    }
   ],
   "source": [
    "fixed_income_factors['peak_to_trough'].sort_values().plot(kind='barh', figsize=[12,12], legend=True)"
   ]
  },
  {
   "cell_type": "code",
   "execution_count": 224,
   "metadata": {
    "extensions": {
     "jupyter_dashboards": {
      "version": 1,
      "views": {
       "grid_default": {},
       "report_default": {
        "hidden": false
       }
      }
     }
    }
   },
   "outputs": [
    {
     "data": {
      "text/plain": [
       "<matplotlib.axes._subplots.AxesSubplot at 0x7f4e249ee7f0>"
      ]
     },
     "execution_count": 224,
     "metadata": {},
     "output_type": "execute_result"
    },
    {
     "data": {
      "image/png": "[encoded data removed]",
      "text/plain": [
       "<Figure size 864x864 with 1 Axes>"
      ]
     },
     "metadata": {
      "needs_background": "light"
     },
     "output_type": "display_data"
    }
   ],
   "source": [
    "fixed_income_factors['trough_to_date'].sort_values().plot(kind='barh', figsize=[12,12], legend=True)"
   ]
  },
  {
   "cell_type": "code",
   "execution_count": 225,
   "metadata": {
    "extensions": {
     "jupyter_dashboards": {
      "version": 1,
      "views": {
       "grid_default": {},
       "report_default": {
        "hidden": false
       }
      }
     }
    }
   },
   "outputs": [
    {
     "data": {
      "text/plain": [
       "<matplotlib.axes._subplots.AxesSubplot at 0x7f4e24241cf8>"
      ]
     },
     "execution_count": 225,
     "metadata": {},
     "output_type": "execute_result"
    },
    {
     "data": {
      "image/png": "[encoded data removed]",
      "text/plain": [
       "<Figure size 864x864 with 1 Axes>"
      ]
     },
     "metadata": {
      "needs_background": "light"
     },
     "output_type": "display_data"
    }
   ],
   "source": [
    "fixed_income_factors['start_to_peak'].sort_values().plot(kind='barh', figsize=[12,12], legend=True)"
   ]
  },
  {
   "cell_type": "markdown",
   "metadata": {
    "extensions": {
     "jupyter_dashboards": {
      "version": 1,
      "views": {
       "grid_default": {},
       "report_default": {
        "hidden": false
       }
      }
     }
    }
   },
   "source": [
    "I am not going to say too much here, but the convertible bond performance has been interesting. YTD it was the second best performer behind long duration treasuries, the worst performer during the drawdown in February, and was the best performer coming out of the bottom in the market, and was the leader from the start of the year up until the peak of the market in February. That one is worth exploring down the road and digging in a bit further to see what may or may not be driving that one."
   ]
  },
  {
   "cell_type": "markdown",
   "metadata": {
    "extensions": {
     "jupyter_dashboards": {
      "version": 1,
      "views": {
       "grid_default": {},
       "report_default": {
        "hidden": false
       }
      }
     }
    }
   },
   "source": [
    "In conclusion, it is hard to look at the performance in the equity markets and think the market internals are healthy at this point. The positive performance shown in the market-cap weighted indices year-to-date has been extremely top-heavy, with mega cap companies getting even larger and small cap companies getting smaller on a relative basis, and expensive companies have been getting more expensive, while cheap companies have been getting cheaper.\n",
    "\n",
    "I can't help but think that this may represent a once in a generation entry point for investors that need to deploy cash that is on the sidelines. The market is not trading based on fundamentals, which is nothing new, but at some point this will normalize. I am not sure what the catalyst will be, but I have to imagine the US will start to enforce Antitrust laws again at some point and force the top 10 companies by size to break up into smaller companies. Competition is one of the hallmarks of capitalism, and it appears to be on hiatus at the moment. Investors appear to have lost faith in the concept, and are shoveling money into expensive companies just because they are large and dominate their sectors or industries.\n",
    "\n",
    "The bright side is that for patient investors, their are a lot of bargains present in the market today, and even within the S&P 500 you can find relative value by avoiding the top 100 by market cap. There is a record amount of cash sitting on the sidelines and at some point, investors will be dissatisfied with earning close to 0% on their cash holdings, and I want to be on the right side of that trade."
   ]
  },
  {
   "cell_type": "markdown",
   "metadata": {
    "extensions": {
     "jupyter_dashboards": {
      "version": 1,
      "views": {
       "grid_default": {},
       "report_default": {
        "hidden": false
       }
      }
     }
    }
   },
   "source": [
    "Data sources used in this notebook: Finnhub (finnhub.io) and Tiingo (tiingo.com) APIs"
   ]
  },
  {
   "cell_type": "code",
   "execution_count": null,
   "metadata": {
    "extensions": {
     "jupyter_dashboards": {
      "version": 1,
      "views": {
       "grid_default": {},
       "report_default": {
        "hidden": true
       }
      }
     }
    }
   },
   "outputs": [],
   "source": []
  }
 ],
 "metadata": {
  "extensions": {
   "jupyter_dashboards": {
    "activeView": "report_default",
    "version": 1,
    "views": {
     "grid_default": {
      "name": "grid",
      "type": "grid"
     },
     "report_default": {
      "name": "report",
      "type": "report"
     }
    }
   }
  },
  "finalized": {
   "timestamp": 1596477489466,
   "trusted": true
  },
  "kernelspec": {
   "display_name": "Python 3",
   "language": "python",
   "name": "python3"
  },
  "language_info": {
   "codemirror_mode": {
    "name": "ipython",
    "version": 3
   },
   "file_extension": ".py",
   "mimetype": "text/x-python",
   "name": "python",
   "nbconvert_exporter": "python",
   "pygments_lexer": "ipython3",
   "version": "3.6.8"
  }
 },
 "nbformat": 4,
 "nbformat_minor": 4
}
