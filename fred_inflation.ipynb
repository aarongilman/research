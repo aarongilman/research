{
  "nbformat": 4,
  "nbformat_minor": 0,
  "metadata": {
    "kernelspec": {
      "display_name": "Python 3",
      "language": "python",
      "name": "python3"
    },
    "language_info": {
      "codemirror_mode": {
        "name": "ipython",
        "version": 3
      },
      "file_extension": ".py",
      "mimetype": "text/x-python",
      "name": "python",
      "nbconvert_exporter": "python",
      "pygments_lexer": "ipython3",
      "version": "3.6.8"
    },
    "colab": {
      "name": "fred-inflation.ipynb",
      "provenance": [],
      "collapsed_sections": [
        "VYavZYmCoI-a",
        "nhAPv_4koI-r"
      ],
      "toc_visible": true,
      "include_colab_link": true
    }
  },
  "cells": [
    {
      "cell_type": "markdown",
      "metadata": {
        "id": "view-in-github",
        "colab_type": "text"
      },
      "source": [
        "<a href=\"https://colab.research.google.com/github/aarongilman/research/blob/master/fred_inflation.ipynb\" target=\"_parent\"><img src=\"https://colab.research.google.com/assets/colab-badge.svg\" alt=\"Open In Colab\"/></a>"
      ]
    },
    {
      "cell_type": "markdown",
      "metadata": {
        "id": "Msr-E_FqoI9s",
        "colab_type": "text"
      },
      "source": [
        "## Analysis and Forecast of US Inflation\n",
        "\n",
        "**We examine inflation data: CPI and PCE, including the core versions, \n",
        "along with the 10-year BEI rate (break-even inflation). \n",
        "An unified inflation statistic *m4infl* is defined, \n",
        "and we make a univariate forecast using the Holt-Winters \n",
        "model with optimized robust parameters.\n",
        "The stochastic characteristics of *m4infl* are\n",
        "discussed, including its geometric mean rate.**\n",
        "\n",
        "Appendix 2 presents function `foreinfl()` which concisely \n",
        "implements the forecasting process derived in this notebook."
      ]
    },
    {
      "cell_type": "code",
      "metadata": {
        "id": "Hc68Kpf3oI9t",
        "colab_type": "code",
        "colab": {
          "base_uri": "https://localhost:8080/",
          "height": 105
        },
        "outputId": "6da19d23-a1bc-4c72-a760-f9eaa7a0e35b"
      },
      "source": [
        "!pip install --pre fecon236"
      ],
      "execution_count": 1,
      "outputs": [
        {
          "output_type": "stream",
          "text": [
            "Collecting fecon236\n",
            "\u001b[?25l  Downloading https://files.pythonhosted.org/packages/95/66/d7039d3ab2d27fa1d63b40eb8fee1b2cb6f7bad167cab21425b18197e24d/fecon236-10.8.0-py2.py3-none-any.whl (94kB)\n",
            "\r\u001b[K     |███▌                            | 10kB 16.9MB/s eta 0:00:01\r\u001b[K     |███████                         | 20kB 1.5MB/s eta 0:00:01\r\u001b[K     |██████████▍                     | 30kB 1.9MB/s eta 0:00:01\r\u001b[K     |█████████████▉                  | 40kB 2.2MB/s eta 0:00:01\r\u001b[K     |█████████████████▍              | 51kB 1.9MB/s eta 0:00:01\r\u001b[K     |████████████████████▉           | 61kB 2.1MB/s eta 0:00:01\r\u001b[K     |████████████████████████▎       | 71kB 2.3MB/s eta 0:00:01\r\u001b[K     |███████████████████████████▊    | 81kB 2.6MB/s eta 0:00:01\r\u001b[K     |███████████████████████████████▎| 92kB 2.8MB/s eta 0:00:01\r\u001b[K     |████████████████████████████████| 102kB 2.5MB/s \n",
            "\u001b[?25hInstalling collected packages: fecon236\n",
            "Successfully installed fecon236-10.8.0\n"
          ],
          "name": "stdout"
        }
      ]
    },
    {
      "cell_type": "code",
      "metadata": {
        "id": "_4F3w1xsoI9w",
        "colab_type": "code",
        "colab": {
          "base_uri": "https://localhost:8080/",
          "height": 52
        },
        "outputId": "3a5101c0-3509-41f1-90cc-76e8085c52c0"
      },
      "source": [
        "from fecon236 import *"
      ],
      "execution_count": 2,
      "outputs": [
        {
          "output_type": "stream",
          "text": [
            "/usr/local/lib/python3.6/dist-packages/statsmodels/tools/_testing.py:19: FutureWarning: pandas.util.testing is deprecated. Use the functions in the public API at pandas.testing instead.\n",
            "  import pandas.util.testing as tm\n"
          ],
          "name": "stderr"
        }
      ]
    },
    {
      "cell_type": "code",
      "metadata": {
        "id": "J_bDa6KFoI9z",
        "colab_type": "code",
        "colab": {
          "base_uri": "https://localhost:8080/",
          "height": 301
        },
        "outputId": "66cad8a8-3206-4f52-b818-116e07bd5cf2"
      },
      "source": [
        "#  PREAMBLE-p6.15.1223d :: Settings and system details\n",
        "from __future__ import absolute_import, print_function, division\n",
        "system.specs()\n",
        "pwd = system.getpwd()   # present working directory as variable.\n",
        "print(\" ::  $pwd:\", pwd)\n",
        "#  If a module is modified, automatically reload it:\n",
        "%load_ext autoreload\n",
        "%autoreload 2\n",
        "#       Use 0 to disable this feature.\n",
        "\n",
        "#  Notebook DISPLAY options:\n",
        "#      Represent pandas DataFrames as text; not HTML representation:\n",
        "import pandas as pd\n",
        "pd.set_option( 'display.notebook_repr_html', False )\n",
        "from IPython.display import HTML # useful for snippets\n",
        "#  e.g. HTML('<iframe src=http://en.mobile.wikipedia.org/?useformat=mobile width=700 height=350></iframe>')\n",
        "from IPython.display import Image \n",
        "#  e.g. Image(filename='holt-winters-equations.png', embed=True) # url= also works\n",
        "from IPython.display import YouTubeVideo\n",
        "#  e.g. YouTubeVideo('1j_HxD4iLn8', start='43', width=600, height=400)\n",
        "from IPython.core import page\n",
        "get_ipython().set_hook('show_in_pager', page.as_hook(page.display_page), 0)\n",
        "#  Or equivalently in config file: \"InteractiveShell.display_page = True\", \n",
        "#  which will display results in secondary notebook pager frame in a cell.\n",
        "\n",
        "#  Generate PLOTS inside notebook, \"inline\" generates static png:\n",
        "%matplotlib inline   \n",
        "#          \"notebook\" argument allows interactive zoom and resize."
      ],
      "execution_count": 3,
      "outputs": [
        {
          "output_type": "stream",
          "text": [
            " !:  Code for this project straddles python27 and python3.\n",
            " ::  Python 3.6.9\n",
            " ::  IPython None\n",
            " ::  jupyter_core None\n",
            " ::  notebook None\n",
            " ::  matplotlib None\n",
            " ::  numpy None\n",
            " ::  scipy None\n",
            " ::  statsmodels None\n",
            " ::  sympy None\n",
            " ::  pandas None\n",
            " ::  pandas_datareader None\n",
            " ::  fecon236 None\n",
            " ::  Repository: git_repo_None tag_None branch_None\n",
            " ::  Timestamp: 2020-09-16T15:55:58Z\n",
            " ::  $pwd: /content\n"
          ],
          "name": "stdout"
        }
      ]
    },
    {
      "cell_type": "markdown",
      "metadata": {
        "id": "Mze3Z3IboI92",
        "colab_type": "text"
      },
      "source": [
        "### Retrieving data\n",
        "\n",
        "Each economic time series has its own *\"fredcode\"* which is listed \n",
        "at the FRED site, see \n",
        "[yi_fred module](https://github.com/rsvp/fecon235/blob/master/lib/yi_fred.py) \n",
        "for details.\n",
        "\n",
        "Let's create a dictionary `ts` of time series in pandas DataFrame \n",
        "format from our codelists."
      ]
    },
    {
      "cell_type": "code",
      "metadata": {
        "id": "pFJWVj1ioI93",
        "colab_type": "code",
        "colab": {
          "base_uri": "https://localhost:8080/",
          "height": 52
        },
        "outputId": "3cfe7381-3407-4fd2-86cb-dc912c072324"
      },
      "source": [
        "print(ml_infl)\n",
        "print(ml_long)"
      ],
      "execution_count": 4,
      "outputs": [
        {
          "output_type": "stream",
          "text": [
            "['CPIAUCSL', 'CPILFESL', 'PCEPI', 'PCEPILFE']\n",
            "['GS10', 'FII10', 'm4spx']\n"
          ],
          "name": "stdout"
        }
      ]
    },
    {
      "cell_type": "code",
      "metadata": {
        "id": "XMjrNCMXoI95",
        "colab_type": "code",
        "colab": {
          "base_uri": "https://localhost:8080/",
          "height": 34
        },
        "outputId": "e20802d4-b5b7-4f54-be3f-4c347b63e9aa"
      },
      "source": [
        "#  Download updated inflation and bond statistics:\n",
        "ts = {}\n",
        "for i in ml_infl + ml_long:\n",
        "    ts[i] = get(i)"
      ],
      "execution_count": 5,
      "outputs": [
        {
          "output_type": "stream",
          "text": [
            " ::  S&P 500 for last 10 years (1957-archive not found).\n"
          ],
          "name": "stdout"
        }
      ]
    },
    {
      "cell_type": "code",
      "metadata": {
        "id": "bHdEoS3AoI98",
        "colab_type": "code",
        "colab": {}
      },
      "source": [
        "#  Collection of historical inflation levels:\n",
        "tsinf = [ ts[i] for i in ml_infl ]\n",
        "\n",
        "#  Then make a DataFrame consisting of those levels:\n",
        "inf_levels = paste( tsinf )\n",
        "#  ... paste() does a side-by-side mash-up\n",
        "#  of individual time series."
      ],
      "execution_count": 6,
      "outputs": []
    },
    {
      "cell_type": "code",
      "metadata": {
        "id": "qunSKiPwoI9-",
        "colab_type": "code",
        "colab": {}
      },
      "source": [
        "#  Label the column names:\n",
        "inf_levels.columns = ['CPI', 'CPIc', 'PCE', 'PCEc']"
      ],
      "execution_count": 7,
      "outputs": []
    },
    {
      "cell_type": "code",
      "metadata": {
        "id": "SKReBF3WoI-B",
        "colab_type": "code",
        "colab": {}
      },
      "source": [
        "#  Compute year-over-year inflation rates, expressed in percent:\n",
        "inf = pcent(inf_levels, 12).dropna()\n",
        "#  since data is monthly ^"
      ],
      "execution_count": 8,
      "outputs": []
    },
    {
      "cell_type": "code",
      "metadata": {
        "id": "MY3BZ5FloI-D",
        "colab_type": "code",
        "colab": {
          "base_uri": "https://localhost:8080/",
          "height": 298
        },
        "outputId": "e84b4a0c-5936-41b6-b939-52abbaf8005c"
      },
      "source": [
        "boxplot( inf, 'Inflation' )"
      ],
      "execution_count": 9,
      "outputs": [
        {
          "output_type": "display_data",
          "data": {
            "image/png": "[encoded data removed]",
            "text/plain": [
              "<Figure size 432x288 with 1 Axes>"
            ]
          },
          "metadata": {
            "tags": [],
            "needs_background": "light"
          }
        },
        {
          "output_type": "stream",
          "text": [
            " ::  Stand-by, saving, 140 DPI: img-boxplot-Inflation.png\n"
          ],
          "name": "stdout"
        }
      ]
    },
    {
      "cell_type": "markdown",
      "metadata": {
        "id": "1T1QCcBGoI-G",
        "colab_type": "text"
      },
      "source": [
        "**The small appended \"c\" denotes *core* version of headline versions of inflation. \n",
        "The red dot represents the most recent data point.**\n",
        "\n",
        "Our inflation rates go back to **1960-01-01**. \n",
        "CPI looks slightly more volatile than PCE versions."
      ]
    },
    {
      "cell_type": "markdown",
      "metadata": {
        "id": "AJiPL7_4oI-G",
        "colab_type": "text"
      },
      "source": [
        "### Re: Consumer Price Index and Personal Consumption Expenditures\n",
        "\n",
        "> \"Two different price indexes are popular for measuring inflation: the consumer price index (CPI) from the Bureau of Labor Statistics and the personal consumption expenditures price index (PCE) from the Bureau of Economic Analysis. [A]n accurate measure of inflation is important for both the U.S. federal government and the Federal Reserve's **Federal Open Market Committee** (FOMC), but they focus on different measures. For example, the federal government uses the CPI to make inflation adjustments to certain kinds of benefits, such as Social Security. In contrast, the **FOMC focuses on PCE inflation in its quarterly economic projections and also states its longer-run inflation goal in terms of headline PCE**. The FOMC focused on CPI inflation prior to 2000 but, after extensive analysis, changed to PCE inflation for three main reasons: The expenditure weights in the PCE can change as people substitute away from some goods and services toward others, the PCE includes more comprehensive coverage of goods and services, and historical PCE data can be revised (more than for seasonal factors only).\" --James Bullard, president of the Federal Reserve Bank of St. Louis. "
      ]
    },
    {
      "cell_type": "code",
      "metadata": {
        "id": "ETkxVNdtoI-H",
        "colab_type": "code",
        "colab": {
          "base_uri": "https://localhost:8080/",
          "height": 781
        },
        "outputId": "5c5cec36-8d8d-4b4d-c341-9927273c5cdb"
      },
      "source": [
        "stats(inf)"
      ],
      "execution_count": 10,
      "outputs": [
        {
          "output_type": "stream",
          "text": [
            "              CPI        CPIc         PCE        PCEc\n",
            "count  727.000000  727.000000  727.000000  727.000000\n",
            "mean     3.698789    3.687740    3.248277    3.205297\n",
            "std      2.828294    2.559234    2.434197    2.149177\n",
            "min     -1.958761    0.602718   -1.237341    0.902110\n",
            "25%      1.758568    1.988231    1.603916    1.621224\n",
            "50%      2.962963    2.699725    2.459607    2.200058\n",
            "75%      4.480185    4.623574    4.134898    4.286866\n",
            "max     14.592275   13.604488   11.593359   10.216285\n",
            "\n",
            " ::  Index on min:\n",
            "CPI    2009-07-01\n",
            "CPIc   2010-10-01\n",
            "PCE    2009-07-01\n",
            "PCEc   2010-12-01\n",
            "dtype: datetime64[ns]\n",
            "\n",
            " ::  Index on max:\n",
            "CPI    1980-03-01\n",
            "CPIc   1980-06-01\n",
            "PCE    1980-03-01\n",
            "PCEc   1975-02-01\n",
            "dtype: datetime64[ns]\n",
            "\n",
            " ::  Head:\n",
            "                 CPI      CPIc       PCE      PCEc\n",
            "T                                                 \n",
            "1960-01-01  1.240951  2.006689  1.692174  2.068512\n",
            "1960-02-01  1.413793  2.341137  1.703027  2.180406\n",
            "1960-03-01  1.518813  2.000000  1.689441  2.076496\n",
            " ::  Tail:\n",
            "                 CPI      CPIc       PCE      PCEc\n",
            "T                                                 \n",
            "2020-05-01  0.235532  1.236465  0.490339  0.952236\n",
            "2020-06-01  0.709470  1.194257  0.857541  1.067272\n",
            "2020-07-01  1.029338  1.566086  1.003253  1.254719\n",
            "\n",
            " ::  Correlation matrix:\n",
            "           CPI      CPIc       PCE      PCEc\n",
            "CPI   1.000000  0.929110  0.982415  0.917317\n",
            "CPIc  0.929110  1.000000  0.924610  0.965742\n",
            "PCE   0.982415  0.924610  1.000000  0.955348\n",
            "PCEc  0.917317  0.965742  0.955348  1.000000\n"
          ],
          "name": "stdout"
        }
      ]
    },
    {
      "cell_type": "markdown",
      "metadata": {
        "id": "Iail9Ds4oI-J",
        "colab_type": "text"
      },
      "source": [
        "### Unified inflation\n",
        "\n",
        "The numbers confirm the core version is less volatile than headline inflation. \n",
        "Moreover, headline versions are most correlated. \n",
        "Note how the dates of the minimum and maximum values do not coincide.\n",
        "\n",
        "So what is the appropriate inflation rate among the contenders? \n",
        "We shall take the *average of the contenders* to arrive at **unified inflation**."
      ]
    },
    {
      "cell_type": "code",
      "metadata": {
        "id": "ntZ8w-BDoI-J",
        "colab_type": "code",
        "colab": {}
      },
      "source": [
        "#  Compute unified inflation:\n",
        "inf_av = todf(( inf['CPI'] + inf['CPIc'] + inf['PCE'] + inf['PCEc'] ) / 4 )"
      ],
      "execution_count": 11,
      "outputs": []
    },
    {
      "cell_type": "code",
      "metadata": {
        "id": "kI3KxhWroI-M",
        "colab_type": "code",
        "colab": {
          "base_uri": "https://localhost:8080/",
          "height": 621
        },
        "outputId": "75539300-e2bc-4df5-fcf4-c0e5489a6e58"
      },
      "source": [
        "stats( inf_av )"
      ],
      "execution_count": 12,
      "outputs": [
        {
          "output_type": "stream",
          "text": [
            "                Y\n",
            "count  727.000000\n",
            "mean     3.460026\n",
            "std      2.441337\n",
            "min     -0.189304\n",
            "25%      1.734267\n",
            "50%      2.608131\n",
            "75%      4.378253\n",
            "max     12.035391\n",
            "\n",
            " ::  Index on min:\n",
            "Y   2009-07-01\n",
            "dtype: datetime64[ns]\n",
            "\n",
            " ::  Index on max:\n",
            "Y   1980-03-01\n",
            "dtype: datetime64[ns]\n",
            "\n",
            " ::  Head:\n",
            "                   Y\n",
            "T                   \n",
            "1960-01-01  1.752082\n",
            "1960-02-01  1.909591\n",
            "1960-03-01  1.821187\n",
            " ::  Tail:\n",
            "                   Y\n",
            "T                   \n",
            "2020-05-01  0.728643\n",
            "2020-06-01  0.957135\n",
            "2020-07-01  1.213349\n",
            "\n",
            " ::  Correlation matrix:\n",
            "     Y\n",
            "Y  1.0\n"
          ],
          "name": "stdout"
        }
      ]
    },
    {
      "cell_type": "markdown",
      "metadata": {
        "id": "1XSOIfZvoI-O",
        "colab_type": "text"
      },
      "source": [
        "Speaking of unified inflation rates, we can now say \n",
        "that the maximum occurred in March 1980 at 12%, \n",
        "and that minimum occurred in July 2009 during the \n",
        "Great Recession at -0.16% (slight deflation)."
      ]
    },
    {
      "cell_type": "code",
      "metadata": {
        "id": "gyakTJrqoI-O",
        "colab_type": "code",
        "colab": {}
      },
      "source": [
        "#  The shortest of our time series under consideration, m4tips10, \n",
        "#  starts at 2003-01-01, so let\n",
        "start = '2003-01-01'"
      ],
      "execution_count": 13,
      "outputs": []
    },
    {
      "cell_type": "code",
      "metadata": {
        "id": "A13PqCLpoI-Q",
        "colab_type": "code",
        "colab": {
          "base_uri": "https://localhost:8080/",
          "height": 296
        },
        "outputId": "bb8be923-73da-4493-8bb0-3814e55da4fe"
      },
      "source": [
        "#  Plot unified inflation, given start:\n",
        "plot( inf_av[start:] )"
      ],
      "execution_count": 14,
      "outputs": [
        {
          "output_type": "display_data",
          "data": {
            "image/png": "[encoded data removed]",
            "text/plain": [
              "<Figure size 432x288 with 1 Axes>"
            ]
          },
          "metadata": {
            "tags": [],
            "needs_background": "light"
          }
        }
      ]
    },
    {
      "cell_type": "markdown",
      "metadata": {
        "id": "_WaONoxDoI-S",
        "colab_type": "text"
      },
      "source": [
        "We can see the dramatic drop in the unified inflation rate \n",
        "during the Great Recession."
      ]
    },
    {
      "cell_type": "markdown",
      "metadata": {
        "id": "yGoB8o5moI-T",
        "colab_type": "text"
      },
      "source": [
        "## Break-even inflation \n",
        "\n",
        "BEI is computed using only data from the bond market. \n",
        "The key BEI uses 10-year US government bonds, \n",
        "taking the difference in rates between the \n",
        "usual on-the-run bond and the TIPS issue. \n",
        "TIPS is an abbreviation for \"Treasury Inflation Protected Security.\"\n",
        "\n",
        "TIPS allow us to observe *real* interest rates\n",
        "being traded in the market. \n",
        "(Notebook https://git.io/gold makes a conjecture \n",
        "that real gold prices is a stationary time-series \n",
        "bound by real interest rates.) "
      ]
    },
    {
      "cell_type": "code",
      "metadata": {
        "id": "t_kHTrFzoI-T",
        "colab_type": "code",
        "colab": {}
      },
      "source": [
        "bei = todf( ts[m4bond10] - ts[m4tips10] )"
      ],
      "execution_count": 15,
      "outputs": []
    },
    {
      "cell_type": "code",
      "metadata": {
        "id": "j9HMTmhNoI-W",
        "colab_type": "code",
        "colab": {
          "base_uri": "https://localhost:8080/",
          "height": 296
        },
        "outputId": "656619a5-e2f6-4dbd-9742-696db5d82dee"
      },
      "source": [
        "#  Plot Break-even inflation rate\n",
        "plot( bei[start:] )"
      ],
      "execution_count": 16,
      "outputs": [
        {
          "output_type": "display_data",
          "data": {
            "image/png": "[encoded data removed]",
            "text/plain": [
              "<Figure size 432x288 with 1 Axes>"
            ]
          },
          "metadata": {
            "tags": [],
            "needs_background": "light"
          }
        }
      ]
    },
    {
      "cell_type": "code",
      "metadata": {
        "id": "8n0KaQrroI-Y",
        "colab_type": "code",
        "colab": {
          "base_uri": "https://localhost:8080/",
          "height": 176
        },
        "outputId": "3277344c-2aff-496b-8586-54aa0ff87094"
      },
      "source": [
        "tail(bei)"
      ],
      "execution_count": 17,
      "outputs": [
        {
          "output_type": "execute_result",
          "data": {
            "text/plain": [
              "               Y\n",
              "T               \n",
              "2020-02-01  1.61\n",
              "2020-03-01  0.99\n",
              "2020-04-01  1.11\n",
              "2020-05-01  1.11\n",
              "2020-06-01  1.27\n",
              "2020-07-01  1.45\n",
              "2020-08-01  1.66"
            ]
          },
          "metadata": {
            "tags": []
          },
          "execution_count": 17
        }
      ]
    },
    {
      "cell_type": "markdown",
      "metadata": {
        "id": "VYavZYmCoI-a",
        "colab_type": "text"
      },
      "source": [
        "Studies comparing forward-looking BEI and realized inflation generally show \n",
        "*BEI overestimates realized inflation*. \n",
        "\n",
        "What is the correlation between BEI and average inflation? \n",
        "Not much. BEI seems to lead unified inflation, cf. circa 2009. \n",
        "Also, BEI appears more stable relative to unified inflation.\n",
        "\n",
        "It is worth emphasizing that \n",
        "**unified inflation is a \"rear view\"** while ***BEI is \"forward looking.\"*** \n",
        "Real money bets are made on the spread of the latter. \n",
        "\n",
        "#### Present: unified inflation and BEI\n",
        "\n",
        "Let us mix the rear and forward views equally at arrive at a **\"present view\"**, \n",
        "`bei_inf_av`."
      ]
    },
    {
      "cell_type": "code",
      "metadata": {
        "id": "23jSM1ySoI-b",
        "colab_type": "code",
        "colab": {}
      },
      "source": [
        "bei_inf_av = todf((bei + inf_av) / 2) "
      ],
      "execution_count": 18,
      "outputs": []
    },
    {
      "cell_type": "code",
      "metadata": {
        "id": "goezmDt4oI-d",
        "colab_type": "code",
        "colab": {
          "base_uri": "https://localhost:8080/",
          "height": 0
        },
        "outputId": "c49724a1-fb8b-4a82-be2b-3ed856f0c095"
      },
      "source": [
        "#  Plot present view:\n",
        "plot( bei_inf_av[start:] )"
      ],
      "execution_count": 19,
      "outputs": [
        {
          "output_type": "display_data",
          "data": {
            "image/png": "[encoded data removed]",
            "text/plain": [
              "<Figure size 432x288 with 1 Axes>"
            ]
          },
          "metadata": {
            "tags": [],
            "needs_background": "light"
          }
        }
      ]
    },
    {
      "cell_type": "code",
      "metadata": {
        "id": "6zWP7h0qoI-e",
        "colab_type": "code",
        "colab": {
          "base_uri": "https://localhost:8080/",
          "height": 0
        },
        "outputId": "fcbbd51e-7a9b-4f29-d479-3c5b2d97a45e"
      },
      "source": [
        "#  Probably the best accessment of current inflation:\n",
        "tail(bei_inf_av)"
      ],
      "execution_count": 20,
      "outputs": [
        {
          "output_type": "execute_result",
          "data": {
            "text/plain": [
              "                   Y\n",
              "T                   \n",
              "2020-01-01  1.907899\n",
              "2020-02-01  1.854774\n",
              "2020-03-01  1.321217\n",
              "2020-04-01  0.952630\n",
              "2020-05-01  0.919322\n",
              "2020-06-01  1.113567\n",
              "2020-07-01  1.331674"
            ]
          },
          "metadata": {
            "tags": []
          },
          "execution_count": 20
        }
      ]
    },
    {
      "cell_type": "markdown",
      "metadata": {
        "id": "Sn2M3T1roI-g",
        "colab_type": "text"
      },
      "source": [
        "Our present inflation measure consisting of 1 part each of \n",
        "CPI, CPI core, PCE, PCE core -- plus 4 parts of BEI. \n",
        "It does have strong correlation with the Fed's favored inflation measure, \n",
        "see Appendix 1."
      ]
    },
    {
      "cell_type": "markdown",
      "metadata": {
        "id": "10JVqle0oI-h",
        "colab_type": "text"
      },
      "source": [
        "## Unified inflation *level*\n",
        "\n",
        "To readily access our findings above in other studies, \n",
        "we developed the synthetic pre-fabricated **m4infl** series. \n",
        "Each measure of inflation *levels* is first rescaled such that \n",
        "the most recent point is equal to 1. \n",
        "This eliminates the base year problem and the \n",
        "arbitrarily set level of 100 somewhere in time. \n",
        "Then we can take the average among inflation levels which \n",
        "will be by mathematical construction, *equally weighted*. \n",
        "The levels originate from fredcodes: \n",
        "`['CPIAUCSL', 'CPILFESL', 'PCEPI', 'PCEPILFE']`.\n",
        "\n",
        "As a very convenient by-product, the recipricol of m4infl \n",
        "yields *multiplicative factors useful for deflating prices*, see **m4defl**.\n",
        "\n",
        "(API note: The average between backward and forward-looking inflation *rates* \n",
        "is codified as **m4inflbei**.)"
      ]
    },
    {
      "cell_type": "code",
      "metadata": {
        "id": "GtTtqOP0oI-h",
        "colab_type": "code",
        "colab": {}
      },
      "source": [
        "infl = get(m4infl)\n",
        "\n",
        "#  m4infl represents unified inflation level, synthesized\n",
        "#  from four different US government time-series."
      ],
      "execution_count": 21,
      "outputs": []
    },
    {
      "cell_type": "code",
      "metadata": {
        "id": "Gj7CuWOmoI-j",
        "colab_type": "code",
        "colab": {
          "base_uri": "https://localhost:8080/",
          "height": 176
        },
        "outputId": "d807c40f-4cff-47e1-b12c-4987d76feeab"
      },
      "source": [
        "#  Latest levels of unified inflation:\n",
        "tail(infl)"
      ],
      "execution_count": 22,
      "outputs": [
        {
          "output_type": "execute_result",
          "data": {
            "text/plain": [
              "                   Y\n",
              "T                   \n",
              "2020-01-01  0.995411\n",
              "2020-02-01  0.996782\n",
              "2020-03-01  0.994564\n",
              "2020-04-01  0.988999\n",
              "2020-05-01  0.989468\n",
              "2020-06-01  0.993461\n",
              "2020-07-01  0.998118"
            ]
          },
          "metadata": {
            "tags": []
          },
          "execution_count": 22
        }
      ]
    },
    {
      "cell_type": "code",
      "metadata": {
        "id": "bbDDfd_ZoI-m",
        "colab_type": "code",
        "colab": {}
      },
      "source": [
        "#  From the level, we compute annual rates:\n",
        "inflrate = pcent(infl, 12)"
      ],
      "execution_count": 23,
      "outputs": []
    },
    {
      "cell_type": "code",
      "metadata": {
        "id": "WMr8hOJKoI-o",
        "colab_type": "code",
        "colab": {
          "base_uri": "https://localhost:8080/",
          "height": 887
        },
        "outputId": "da3f622a-aa36-421e-8483-6f5eb2a6e3fd"
      },
      "source": [
        "#  VERIFY if our two methods agree, by linear regression:\n",
        "stat2( inf_av['Y'], inflrate['Y'] )\n",
        "#  (Think of this as an unit test, visible in a notebook.)\n",
        "#  'Y' is the default column label."
      ],
      "execution_count": 24,
      "outputs": [
        {
          "output_type": "stream",
          "text": [
            " ::  FIRST variable:\n",
            "count    727.000000\n",
            "mean       3.460026\n",
            "std        2.441337\n",
            "min       -0.189304\n",
            "25%        1.734267\n",
            "50%        2.608131\n",
            "75%        4.378253\n",
            "max       12.035391\n",
            "Name: Y, dtype: float64\n",
            "\n",
            " ::  SECOND variable:\n",
            "count    727.000000\n",
            "mean       3.442063\n",
            "std        2.418909\n",
            "min       -0.217823\n",
            "25%        1.734721\n",
            "50%        2.598858\n",
            "75%        4.363663\n",
            "max       11.889298\n",
            "Name: Y, dtype: float64\n",
            "\n",
            " ::  CORRELATION\n",
            "0.9999558152481136\n",
            "                            OLS Regression Results                            \n",
            "==============================================================================\n",
            "Dep. Variable:                      Y   R-squared:                       1.000\n",
            "Model:                            OLS   Adj. R-squared:                  1.000\n",
            "Method:                 Least Squares   F-statistic:                 8.204e+06\n",
            "Date:                Wed, 16 Sep 2020   Prob (F-statistic):               0.00\n",
            "Time:                        15:56:05   Log-Likelihood:                 1713.0\n",
            "No. Observations:                 727   AIC:                            -3422.\n",
            "Df Residuals:                     725   BIC:                            -3413.\n",
            "Df Model:                           1                                         \n",
            "Covariance Type:            nonrobust                                         \n",
            "==============================================================================\n",
            "                 coef    std err          t      P>|t|      [0.025      0.975]\n",
            "------------------------------------------------------------------------------\n",
            "Intercept     -0.0138      0.001     -9.310      0.000      -0.017      -0.011\n",
            "X              1.0092      0.000   2864.200      0.000       1.009       1.010\n",
            "==============================================================================\n",
            "Omnibus:                       61.025   Durbin-Watson:                   0.149\n",
            "Prob(Omnibus):                  0.000   Jarque-Bera (JB):              308.102\n",
            "Skew:                           0.108   Prob(JB):                     1.25e-67\n",
            "Kurtosis:                       6.182   Cond. No.                         7.60\n",
            "==============================================================================\n",
            "\n",
            "Warnings:\n",
            "[1] Standard Errors assume that the covariance matrix of the errors is correctly specified.\n"
          ],
          "name": "stdout"
        }
      ]
    },
    {
      "cell_type": "markdown",
      "metadata": {
        "id": "7erSU5nRoI-r",
        "colab_type": "text"
      },
      "source": [
        "The result shows perfect correlation since 1960 (full dataset), \n",
        "thus our synthetic series **m4infl** works as intended."
      ]
    },
    {
      "cell_type": "markdown",
      "metadata": {
        "id": "nhAPv_4koI-r",
        "colab_type": "text"
      },
      "source": [
        "### Geometric mean rate of unified inflation\n",
        "\n",
        "The level form of unified inflation allows us to \n",
        "directly use the tools developed for financial assets."
      ]
    },
    {
      "cell_type": "code",
      "metadata": {
        "id": "jY2XokbuoI-r",
        "colab_type": "code",
        "colab": {
          "base_uri": "https://localhost:8080/",
          "height": 0
        },
        "outputId": "bbe9c204-76a2-45d4-e299-9cd50de34925"
      },
      "source": [
        "gemrat(infl[start:], yearly=12)"
      ],
      "execution_count": 25,
      "outputs": [
        {
          "output_type": "execute_result",
          "data": {
            "text/plain": [
              "[1.830957266081179,\n",
              " 1.8323541358954774,\n",
              " 0.5333431197431664,\n",
              " 10.291349842366099,\n",
              " 12,\n",
              " 210]"
            ]
          },
          "metadata": {
            "tags": []
          },
          "execution_count": 25
        }
      ]
    },
    {
      "cell_type": "markdown",
      "metadata": {
        "id": "hiLEWtHkoI-t",
        "colab_type": "text"
      },
      "source": [
        "The geometric mean rate of unified inflation is 1.83% \n",
        "since `start`, the volatility is 0.53%, \n",
        "thus a 50 basis point move in a year would not be surprising. \n",
        "The most interesting statistic reveals that *inflation is leptokurtotic*."
      ]
    },
    {
      "cell_type": "markdown",
      "metadata": {
        "id": "vKGdkaYYoI-t",
        "colab_type": "text"
      },
      "source": [
        "## Holt-Winters forecast for inflation\n",
        "\n",
        "For predicting inflation, it is preferable to use levels, rather than rates, \n",
        "as primary form of time-series due to linearity considerations \n",
        "(see plot in the next cell).\n",
        "\n",
        "Forecasting will be covered in detail in another notebook. \n",
        "But here we demonstrate the **Holt-Winters model**."
      ]
    },
    {
      "cell_type": "code",
      "metadata": {
        "id": "Ju9jxWpcoI-u",
        "colab_type": "code",
        "colab": {
          "base_uri": "https://localhost:8080/",
          "height": 296
        },
        "outputId": "ae7bd25b-f803-4d3e-d58f-e0064b914afa"
      },
      "source": [
        "#  Visualize unified inflation levels:\n",
        "plot(infl[start:])"
      ],
      "execution_count": 26,
      "outputs": [
        {
          "output_type": "display_data",
          "data": {
            "image/png": "[encoded data removed]",
            "text/plain": [
              "<Figure size 432x288 with 1 Axes>"
            ]
          },
          "metadata": {
            "tags": [],
            "needs_background": "light"
          }
        }
      ]
    },
    {
      "cell_type": "code",
      "metadata": {
        "id": "admlihBKoI-v",
        "colab_type": "code",
        "colab": {
          "base_uri": "https://localhost:8080/",
          "height": 380
        },
        "outputId": "4d2a2276-97bd-41b5-bc74-97c2f2b7fd48"
      },
      "source": [
        "Image(url='https://github.com/rsvp/fecon235/raw/master/nb/holt-winters-equations.png', embed=True)"
      ],
      "execution_count": 33,
      "outputs": [
        {
          "output_type": "execute_result",
          "data": {
            "image/png": "[encoded data removed]",
            "text/plain": [
              "<IPython.core.display.Image object>"
            ]
          },
          "metadata": {
            "tags": []
          },
          "execution_count": 33
        }
      ]
    },
    {
      "cell_type": "markdown",
      "metadata": {
        "id": "-roqo7CkoI-x",
        "colab_type": "text"
      },
      "source": [
        "We can safely ignore the seasonal portion of the model \n",
        "since the relevant data has been deseasonalized at the upstream source.\n",
        "\n",
        "Two important parameters, $\\alpha$ and $\\beta$, must estimated. \n",
        "We developed a robust L1 estimation technique which \n",
        "minimizes one-step ahead forecast errors, \n",
        "conditional on specific data. See \n",
        "[ys_opt_holt module](https://github.com/rsvp/fecon235/blob/master/lib/ys_opt_holt.py) \n",
        "for details."
      ]
    },
    {
      "cell_type": "code",
      "metadata": {
        "id": "ck0x9IQzoI-y",
        "colab_type": "code",
        "colab": {
          "base_uri": "https://localhost:8080/",
          "height": 52
        },
        "outputId": "48c11702-6dd2-47df-9544-82df0d66e72e"
      },
      "source": [
        "#  This optimization procedure may be computationally intense, \n",
        "#  depending on data size and the number of grids.\n",
        "from fecon236.tsa.holtwinters import optimize_holt\n",
        "ab = optimize_holt( infl, grids=50 )\n",
        "\n",
        "ab"
      ],
      "execution_count": 34,
      "outputs": [
        {
          "output_type": "stream",
          "text": [
            " !.  WARNING: ipykernel_launcher.py Optimizing Holt-Winters alphabetaloss may take TIME!\n"
          ],
          "name": "stderr"
        },
        {
          "output_type": "execute_result",
          "data": {
            "text/plain": [
              "[1.0, 0.4082, 0.0303, 0.00030252114508022565]"
            ]
          },
          "metadata": {
            "tags": []
          },
          "execution_count": 34
        }
      ]
    },
    {
      "cell_type": "markdown",
      "metadata": {
        "id": "PCOhAH_2oI-0",
        "colab_type": "text"
      },
      "source": [
        "The first two elements in the `ab` list are $\\alpha$ and $\\beta$ respectively. \n",
        "The third element gives the median absolute loss as percent for an \n",
        "one-step ahead forecast given those parameters. \n",
        "The fourth element is the median absolute loss \n",
        "(due to our L1 loss function for robust optimization).\n",
        "\n",
        "The median absolute loss is 0.00031 \n",
        "which gives us confidence that the model has performed well.\n",
        "\n",
        "Using the estimated parameters, we can now proceed to \n",
        "generate our 12-step ahead forecast."
      ]
    },
    {
      "cell_type": "code",
      "metadata": {
        "id": "YFqlbMEVoI-0",
        "colab_type": "code",
        "colab": {
          "base_uri": "https://localhost:8080/",
          "height": 265
        },
        "outputId": "623b26a1-2d39-47fc-bc49-3b3af77a6cfd"
      },
      "source": [
        "from fecon236.tsa.holtwinters import holtforecast, holt\n",
        "\n",
        "holtdf = holt( infl, alpha=ab[0], beta=ab[1] )\n",
        "holtforecast( holtdf, h=12 )"
      ],
      "execution_count": 35,
      "outputs": [
        {
          "output_type": "execute_result",
          "data": {
            "text/plain": [
              "    Forecast\n",
              "0   0.998118\n",
              "1   1.000584\n",
              "2   1.003050\n",
              "3   1.005516\n",
              "4   1.007981\n",
              "5   1.010447\n",
              "6   1.012913\n",
              "7   1.015379\n",
              "8   1.017845\n",
              "9   1.020311\n",
              "10  1.022777\n",
              "11  1.025243\n",
              "12  1.027709"
            ]
          },
          "metadata": {
            "tags": []
          },
          "execution_count": 35
        }
      ]
    },
    {
      "cell_type": "markdown",
      "metadata": {
        "id": "Gi3fRqwDoI-3",
        "colab_type": "text"
      },
      "source": [
        "Since the most current level of unified inflation \n",
        "is 1.00 by construction, it is easy to discern that: \n",
        "***the 12-months ahead forecast implies an annualized inflation rate of 2.78%.***"
      ]
    },
    {
      "cell_type": "markdown",
      "metadata": {
        "id": "MV3WollRoI-3",
        "colab_type": "text"
      },
      "source": [
        "## Forecasting summary\n",
        "\n",
        "Forecasting is an art. \n",
        "A pearl of wisdom is to combine orthogonal methods \n",
        "to arrive at excellence.\n",
        "\n",
        "Here are three non-related ways which characterized inflation:\n",
        "\n",
        "- BEI, Break-even Inflation: a long-term forecast implied by the bond market\n",
        "- Geometric mean rate: internal growth rate of a stochastic trend\n",
        "- Holt-Winters model: projection obtained by robust prediction error minimization\n",
        "\n",
        "The respective results are simply averaged..."
      ]
    },
    {
      "cell_type": "code",
      "metadata": {
        "id": "e8f1aDN8oI-3",
        "colab_type": "code",
        "colab": {
          "base_uri": "https://localhost:8080/",
          "height": 34
        },
        "outputId": "f33a2ff2-46f0-430e-ac8a-6dd70b502226"
      },
      "source": [
        "( 1.33 + 1.83 + 2.78 ) / 3"
      ],
      "execution_count": 36,
      "outputs": [
        {
          "output_type": "execute_result",
          "data": {
            "text/plain": [
              "1.9799999999999998"
            ]
          },
          "metadata": {
            "tags": []
          },
          "execution_count": 36
        }
      ]
    },
    {
      "cell_type": "markdown",
      "metadata": {
        "id": "xS7yVqcRoI-7",
        "colab_type": "text"
      },
      "source": [
        "There are many sorts of inflation measures, \n",
        "but we devised a mathematically unified version. \n",
        "The bond market has its own version, \n",
        "so for the **one-year ahead forecast**, \n",
        "all in all, we shall settle for:\n",
        "**1.98%**."
      ]
    },
    {
      "cell_type": "markdown",
      "metadata": {
        "id": "8XRr2hQzoI-7",
        "colab_type": "text"
      },
      "source": [
        "---\n",
        "\n",
        "## Appendix 1:  Overall Correlations"
      ]
    },
    {
      "cell_type": "code",
      "metadata": {
        "id": "dGohVtCMoI-8",
        "colab_type": "code",
        "colab": {}
      },
      "source": [
        "#  Conversions to dataframe with label before paste:\n",
        "dfa = todf( inf_av, 'Iav')\n",
        "dfb = todf( bei, 'BEI' )\n",
        "dfc = todf( bei_inf_av, 'BEI_Iav')"
      ],
      "execution_count": 37,
      "outputs": []
    },
    {
      "cell_type": "code",
      "metadata": {
        "id": "WJLBiEmRoI--",
        "colab_type": "code",
        "colab": {}
      },
      "source": [
        "#  Mother of all annualized inflation rates:\n",
        "infall = paste( [inf, dfa, dfb, dfc] )"
      ],
      "execution_count": 38,
      "outputs": []
    },
    {
      "cell_type": "code",
      "metadata": {
        "id": "HBylioA0oI_A",
        "colab_type": "code",
        "colab": {
          "base_uri": "https://localhost:8080/",
          "height": 158
        },
        "outputId": "5fc3a0bb-fb6e-48c4-bfe3-7c666f7c963c"
      },
      "source": [
        "#  CORRELATION matrix going back to 2003-01-01 (start of BEI):\n",
        "cormatrix(infall)"
      ],
      "execution_count": 39,
      "outputs": [
        {
          "output_type": "execute_result",
          "data": {
            "text/plain": [
              "              CPI      CPIc       PCE      PCEc       Iav       BEI   BEI_Iav\n",
              "CPI      1.000000  0.403975  0.988748  0.763334  0.975121  0.596305  0.925095\n",
              "CPIc     0.403975  1.000000  0.363323  0.753368  0.570935  0.141022  0.455942\n",
              "PCE      0.988748  0.363323  1.000000  0.794651  0.971954  0.644729  0.942829\n",
              "PCEc     0.763334  0.753368  0.794651  1.000000  0.884079  0.565973  0.849159\n",
              "Iav      0.975121  0.570935  0.971954  0.884079  1.000000  0.600728  0.944254\n",
              "BEI      0.596305  0.141022  0.644729  0.565973  0.600728  1.000000  0.830435\n",
              "BEI_Iav  0.925095  0.455942  0.942829  0.849159  0.944254  0.830435  1.000000"
            ]
          },
          "metadata": {
            "tags": []
          },
          "execution_count": 39
        }
      ]
    },
    {
      "cell_type": "markdown",
      "metadata": {
        "id": "O0AYrsJ3oI_C",
        "colab_type": "text"
      },
      "source": [
        "CPI and PCE are tightly correlated, as are CPIc and PCEc. \n",
        "Surprisingly, CPI and CPIc are only moderately correlated, only 40%. \n",
        "Recall that headline inflation includes food and energy, \n",
        "whereas core inflation excludes those components.\n",
        "\n",
        "The market traded BEI break-even inflation is modestly correlated \n",
        "with government-released statistics of inflation."
      ]
    },
    {
      "cell_type": "markdown",
      "metadata": {
        "id": "XLeYJqyCoI_C",
        "colab_type": "text"
      },
      "source": [
        "#### Most recent computed data\n",
        "\n",
        "Given in annualized percentage form:"
      ]
    },
    {
      "cell_type": "code",
      "metadata": {
        "id": "CsujixxfoI_D",
        "colab_type": "code",
        "colab": {
          "base_uri": "https://localhost:8080/",
          "height": 265
        },
        "outputId": "fb9f5c06-5455-4f4c-f40a-e971aa04ef9d"
      },
      "source": [
        "#  Inflation RATES\n",
        "tail(infall, n=12)"
      ],
      "execution_count": 40,
      "outputs": [
        {
          "output_type": "execute_result",
          "data": {
            "text/plain": [
              "                 CPI      CPIc       PCE      PCEc       Iav   BEI   BEI_Iav\n",
              "T                                                                           \n",
              "2019-08-01  1.742323  2.369558  1.522164  1.865451  1.874874  1.59  1.732437\n",
              "2019-09-01  1.717269  2.349520  1.385962  1.721905  1.793664  1.59  1.691832\n",
              "2019-10-01  1.761236  2.314348  1.434532  1.737116  1.811808  1.56  1.685904\n",
              "2019-11-01  2.043046  2.317256  1.439946  1.584707  1.846239  1.64  1.743119\n",
              "2019-12-01  2.292076  2.248583  1.644670  1.621393  1.951681  1.72  1.835840\n",
              "2020-01-01  2.482677  2.268139  1.878353  1.754022  2.095798  1.72  1.907899\n",
              "2020-02-01  2.318104  2.365675  1.844903  1.869512  2.099549  1.61  1.854774\n",
              "2020-03-01  1.518330  2.096304  1.340937  1.654164  1.652434  0.99  1.321217\n",
              "2020-04-01  0.376163  1.438310  0.457992  0.908577  0.795260  1.11  0.952630\n",
              "2020-05-01  0.235532  1.236465  0.490339  0.952236  0.728643  1.11  0.919322\n",
              "2020-06-01  0.709470  1.194257  0.857541  1.067272  0.957135  1.27  1.113567\n",
              "2020-07-01  1.029338  1.566086  1.003253  1.254719  1.213349  1.45  1.331674"
            ]
          },
          "metadata": {
            "tags": []
          },
          "execution_count": 40
        }
      ]
    },
    {
      "cell_type": "markdown",
      "metadata": {
        "id": "ogPIwn8VoI_F",
        "colab_type": "text"
      },
      "source": [
        "## Appendix 2: Forecasting process as a function\n",
        "\n",
        "We can think of this notebook as the documentation \n",
        "which encapsulates its findings and process \n",
        "into a single function: `foreinfl()`."
      ]
    },
    {
      "cell_type": "code",
      "metadata": {
        "id": "xtnyKZhooI_F",
        "colab_type": "code",
        "colab": {
          "base_uri": "https://localhost:8080/",
          "height": 621
        },
        "outputId": "84f455ea-d36e-4bca-ee4e-b79bfea0e2fd"
      },
      "source": [
        "#  Query into its details:\n",
        "foreinfl??"
      ],
      "execution_count": 41,
      "outputs": [
        {
          "output_type": "display_data",
          "data": {
            "text/plain": [
              "\u001b[0;31mSignature:\u001b[0m \u001b[0mforeinfl\u001b[0m\u001b[0;34m(\u001b[0m\u001b[0mn\u001b[0m\u001b[0;34m=\u001b[0m\u001b[0;36m120\u001b[0m\u001b[0;34m,\u001b[0m \u001b[0malpha\u001b[0m\u001b[0;34m=\u001b[0m\u001b[0;36m1.0\u001b[0m\u001b[0;34m,\u001b[0m \u001b[0mbeta\u001b[0m\u001b[0;34m=\u001b[0m\u001b[0;36m0.3673\u001b[0m\u001b[0;34m)\u001b[0m\u001b[0;34m\u001b[0m\u001b[0;34m\u001b[0m\u001b[0m\n",
              "\u001b[0;31mSource:\u001b[0m   \n",
              "\u001b[0;32mdef\u001b[0m \u001b[0mforeinfl\u001b[0m\u001b[0;34m(\u001b[0m\u001b[0mn\u001b[0m\u001b[0;34m=\u001b[0m\u001b[0;36m120\u001b[0m\u001b[0;34m,\u001b[0m \u001b[0malpha\u001b[0m\u001b[0;34m=\u001b[0m\u001b[0;36m1.0\u001b[0m\u001b[0;34m,\u001b[0m \u001b[0mbeta\u001b[0m\u001b[0;34m=\u001b[0m\u001b[0;36m0.3673\u001b[0m\u001b[0;34m)\u001b[0m\u001b[0;34m:\u001b[0m\u001b[0;34m\u001b[0m\n",
              "\u001b[0;34m\u001b[0m    \u001b[0;34m'''Forecast Unified Inflation 1-year ahead per https://git.io/infl\u001b[0m\n",
              "\u001b[0;34m       which a rendering of fecon235/nb/fred-inflation.ipynb.\u001b[0m\n",
              "\u001b[0;34m       SUMMARY output: [Average, \"infl-date\", GMR, HW, BEI]\u001b[0m\n",
              "\u001b[0;34m       e.g.  [2.2528, '2018-01-01', 1.5793, 3.0791, 2.1000]\u001b[0m\n",
              "\u001b[0;34m       where Average is the mean of three orthogonal methods:\u001b[0m\n",
              "\u001b[0;34m       GMR for geometric mean rate, HW for Holt-Winters time-series,\u001b[0m\n",
              "\u001b[0;34m       and BEI for Break-even Inflation from the Treasury bond market.\u001b[0m\n",
              "\u001b[0;34m       Default n denotes 120-month history, i.e. last 10 years.\u001b[0m\n",
              "\u001b[0;34m    '''\u001b[0m\u001b[0;34m\u001b[0m\n",
              "\u001b[0;34m\u001b[0m    \u001b[0;31m#  Holt-Winters parameters alpha and beta are optimized\u001b[0m\u001b[0;34m\u001b[0m\n",
              "\u001b[0;34m\u001b[0m    \u001b[0;31m#  from the 1960-2018 dataset, consisting of 697 monthly points.\u001b[0m\u001b[0;34m\u001b[0m\n",
              "\u001b[0;34m\u001b[0m    \u001b[0;31m#  Each \"way\" is an orthogonal method, to be averaged into way[0].\u001b[0m\u001b[0;34m\u001b[0m\n",
              "\u001b[0;34m\u001b[0m    \u001b[0mway\u001b[0m \u001b[0;34m=\u001b[0m \u001b[0;34m[\u001b[0m\u001b[0;34m-\u001b[0m\u001b[0;36m9\u001b[0m\u001b[0;34m,\u001b[0m \u001b[0;34m-\u001b[0m\u001b[0;36m9\u001b[0m\u001b[0;34m,\u001b[0m \u001b[0;34m-\u001b[0m\u001b[0;36m9\u001b[0m\u001b[0;34m,\u001b[0m \u001b[0;34m-\u001b[0m\u001b[0;36m9\u001b[0m\u001b[0;34m,\u001b[0m \u001b[0;34m-\u001b[0m\u001b[0;36m9\u001b[0m\u001b[0;34m]\u001b[0m  \u001b[0;31m# dummy placeholders.\u001b[0m\u001b[0;34m\u001b[0m\n",
              "\u001b[0;34m\u001b[0m    \u001b[0minflall\u001b[0m \u001b[0;34m=\u001b[0m \u001b[0mget\u001b[0m\u001b[0;34m(\u001b[0m\u001b[0mm4infl\u001b[0m\u001b[0;34m)\u001b[0m       \u001b[0;31m# synthetic Unified Inflation, monthly.\u001b[0m\u001b[0;34m\u001b[0m\n",
              "\u001b[0;34m\u001b[0m    \u001b[0minfl\u001b[0m \u001b[0;34m=\u001b[0m \u001b[0mtail\u001b[0m\u001b[0;34m(\u001b[0m\u001b[0minflall\u001b[0m\u001b[0;34m,\u001b[0m \u001b[0mn\u001b[0m\u001b[0;34m)\u001b[0m\u001b[0;34m\u001b[0m\n",
              "\u001b[0;34m\u001b[0m    \u001b[0mway\u001b[0m\u001b[0;34m[\u001b[0m\u001b[0;36m1\u001b[0m\u001b[0;34m]\u001b[0m \u001b[0;34m=\u001b[0m \u001b[0mstr\u001b[0m\u001b[0;34m(\u001b[0m\u001b[0minfl\u001b[0m\u001b[0;34m.\u001b[0m\u001b[0mindex\u001b[0m\u001b[0;34m[\u001b[0m\u001b[0;34m-\u001b[0m\u001b[0;36m1\u001b[0m\u001b[0;34m]\u001b[0m\u001b[0;34m)\u001b[0m\u001b[0;34m.\u001b[0m\u001b[0mreplace\u001b[0m\u001b[0;34m(\u001b[0m\u001b[0;34m\" 00:00:00\"\u001b[0m\u001b[0;34m,\u001b[0m \u001b[0;34m\"\"\u001b[0m\u001b[0;34m)\u001b[0m\u001b[0;34m\u001b[0m\n",
              "\u001b[0;34m\u001b[0m    \u001b[0;31m#                ^Most recent month for CPI, CPIc, PCE, PCEc data.\u001b[0m\u001b[0;34m\u001b[0m\n",
              "\u001b[0;34m\u001b[0m    \u001b[0mgm\u001b[0m \u001b[0;34m=\u001b[0m \u001b[0mgemrat\u001b[0m\u001b[0;34m(\u001b[0m\u001b[0minfl\u001b[0m\u001b[0;34m,\u001b[0m \u001b[0myearly\u001b[0m\u001b[0;34m=\u001b[0m\u001b[0;36m12\u001b[0m\u001b[0;34m)\u001b[0m\u001b[0;34m\u001b[0m\n",
              "\u001b[0;34m\u001b[0m    \u001b[0mway\u001b[0m\u001b[0;34m[\u001b[0m\u001b[0;36m2\u001b[0m\u001b[0;34m]\u001b[0m \u001b[0;34m=\u001b[0m \u001b[0mgm\u001b[0m\u001b[0;34m[\u001b[0m\u001b[0;36m0\u001b[0m\u001b[0;34m]\u001b[0m   \u001b[0;31m# Geometric Mean Rate over n months.\u001b[0m\u001b[0;34m\u001b[0m\n",
              "\u001b[0;34m\u001b[0m    \u001b[0mhw\u001b[0m \u001b[0;34m=\u001b[0m \u001b[0mforeholt\u001b[0m\u001b[0;34m(\u001b[0m\u001b[0minfl\u001b[0m\u001b[0;34m,\u001b[0m \u001b[0;36m12\u001b[0m\u001b[0;34m,\u001b[0m \u001b[0malpha\u001b[0m\u001b[0;34m,\u001b[0m \u001b[0mbeta\u001b[0m\u001b[0;34m)\u001b[0m  \u001b[0;31m# Holt-Winters model.\u001b[0m\u001b[0;34m\u001b[0m\n",
              "\u001b[0;34m\u001b[0m    \u001b[0mway\u001b[0m\u001b[0;34m[\u001b[0m\u001b[0;36m3\u001b[0m\u001b[0;34m]\u001b[0m \u001b[0;34m=\u001b[0m \u001b[0;34m(\u001b[0m\u001b[0mtailvalue\u001b[0m\u001b[0;34m(\u001b[0m\u001b[0mhw\u001b[0m\u001b[0;34m)\u001b[0m \u001b[0;34m-\u001b[0m \u001b[0;36m1\u001b[0m\u001b[0;34m)\u001b[0m \u001b[0;34m*\u001b[0m \u001b[0;36m100\u001b[0m    \u001b[0;31m# Convert forecasted level to rate.\u001b[0m\u001b[0;34m\u001b[0m\n",
              "\u001b[0;34m\u001b[0m    \u001b[0mbond10\u001b[0m \u001b[0;34m=\u001b[0m \u001b[0mget\u001b[0m\u001b[0;34m(\u001b[0m\u001b[0mm4bond10\u001b[0m\u001b[0;34m)\u001b[0m\u001b[0;34m\u001b[0m\n",
              "\u001b[0;34m\u001b[0m    \u001b[0mtips10\u001b[0m \u001b[0;34m=\u001b[0m \u001b[0mget\u001b[0m\u001b[0;34m(\u001b[0m\u001b[0mm4tips10\u001b[0m\u001b[0;34m)\u001b[0m\u001b[0;34m\u001b[0m\n",
              "\u001b[0;34m\u001b[0m    \u001b[0mbei\u001b[0m \u001b[0;34m=\u001b[0m \u001b[0mtodf\u001b[0m\u001b[0;34m(\u001b[0m\u001b[0mbond10\u001b[0m \u001b[0;34m-\u001b[0m \u001b[0mtips10\u001b[0m\u001b[0;34m)\u001b[0m           \u001b[0;31m# 10-year BEI Break-even Inflation.\u001b[0m\u001b[0;34m\u001b[0m\n",
              "\u001b[0;34m\u001b[0m    \u001b[0;31m#         ^Treasury bond market data will be much more recent than m4infl.\u001b[0m\u001b[0;34m\u001b[0m\n",
              "\u001b[0;34m\u001b[0m    \u001b[0mway\u001b[0m\u001b[0;34m[\u001b[0m\u001b[0;36m4\u001b[0m\u001b[0;34m]\u001b[0m \u001b[0;34m=\u001b[0m \u001b[0mtailvalue\u001b[0m\u001b[0;34m(\u001b[0m\u001b[0mbei\u001b[0m\u001b[0;34m)\u001b[0m\u001b[0;34m\u001b[0m\n",
              "\u001b[0;34m\u001b[0m    \u001b[0;31m#  Final forecast is the AVERAGE of three orthogonal methods:\u001b[0m\u001b[0;34m\u001b[0m\n",
              "\u001b[0;34m\u001b[0m    \u001b[0mway\u001b[0m\u001b[0;34m[\u001b[0m\u001b[0;36m0\u001b[0m\u001b[0;34m]\u001b[0m \u001b[0;34m=\u001b[0m \u001b[0msum\u001b[0m\u001b[0;34m(\u001b[0m\u001b[0mway\u001b[0m\u001b[0;34m[\u001b[0m\u001b[0;36m2\u001b[0m\u001b[0;34m:\u001b[0m\u001b[0;34m]\u001b[0m\u001b[0;34m)\u001b[0m \u001b[0;34m/\u001b[0m \u001b[0mlen\u001b[0m\u001b[0;34m(\u001b[0m\u001b[0mway\u001b[0m\u001b[0;34m[\u001b[0m\u001b[0;36m2\u001b[0m\u001b[0;34m:\u001b[0m\u001b[0;34m]\u001b[0m\u001b[0;34m)\u001b[0m\u001b[0;34m\u001b[0m\n",
              "\u001b[0;34m\u001b[0m    \u001b[0;32mreturn\u001b[0m \u001b[0mway\u001b[0m\u001b[0;34m\u001b[0m\u001b[0;34m\u001b[0m\u001b[0m\n",
              "\u001b[0;31mFile:\u001b[0m      /usr/local/lib/python3.6/dist-packages/fecon236/econ/infl.py\n",
              "\u001b[0;31mType:\u001b[0m      function\n"
            ]
          },
          "metadata": {
            "tags": []
          }
        }
      ]
    },
    {
      "cell_type": "code",
      "metadata": {
        "id": "Z-zPQy7NoI_H",
        "colab_type": "code",
        "colab": {
          "base_uri": "https://localhost:8080/",
          "height": 105
        },
        "outputId": "a83d355c-ac2e-4a3f-c322-c62d5f768eab"
      },
      "source": [
        "#  See it in action:\n",
        "foreinfl()"
      ],
      "execution_count": 42,
      "outputs": [
        {
          "output_type": "execute_result",
          "data": {
            "text/plain": [
              "[1.941973346614384,\n",
              " '2020-07-01',\n",
              " 1.6893430973556,\n",
              " 2.4765769424875517,\n",
              " 1.6600000000000001]"
            ]
          },
          "metadata": {
            "tags": []
          },
          "execution_count": 42
        }
      ]
    },
    {
      "cell_type": "markdown",
      "metadata": {
        "id": "2zfb4KLcoI_K",
        "colab_type": "text"
      },
      "source": [
        "There are slight variations from the notebook derivation.\n",
        "\n",
        "- Instead of `start` we use a rolling window of `n` monthly datapoints.\n",
        "- By default, `n` is set to 120, i.e. the last ten years.\n",
        "- Given new data, we do not re-optimize the Holt-Winters parameters, since that would be computationally expensive. The default values for alpha and beta are battle-tested using data dating back to 1960.\n",
        "- Bond market data does not suffer from release lag, unlike inflation statistics, so the most *current* BEI is used in the `foreinfl()` function.\n",
        "\n",
        "To obtain an inflation forecast in practice, \n",
        "executing a single Python function is far more convenient \n",
        "than re-running a Jupyter notebook. \n",
        "The list output also gives a summary from the orthogonal methods \n",
        "which were utilized."
      ]
    }
  ]
}