{
  "nbformat": 4,
  "nbformat_minor": 0,
  "metadata": {
    "kernelspec": {
      "display_name": "Python 3",
      "language": "python",
      "name": "python3"
    },
    "language_info": {
      "codemirror_mode": {
        "name": "ipython",
        "version": 3
      },
      "file_extension": ".py",
      "mimetype": "text/x-python",
      "name": "python",
      "nbconvert_exporter": "python",
      "pygments_lexer": "ipython3",
      "version": "3.6.8"
    },
    "colab": {
      "name": "Copy of fred-infl-velocity.ipynb",
      "provenance": [],
      "include_colab_link": true
    }
  },
  "cells": [
    {
      "cell_type": "markdown",
      "metadata": {
        "id": "view-in-github",
        "colab_type": "text"
      },
      "source": [
        "<a href=\"https://colab.research.google.com/github/aarongilman/research/blob/master/fred_infl_velocity.ipynb\" target=\"_parent\"><img src=\"https://colab.research.google.com/assets/colab-badge.svg\" alt=\"Open In Colab\"/></a>"
      ]
    },
    {
      "cell_type": "markdown",
      "metadata": {
        "id": "dykhyXninZb8",
        "colab_type": "text"
      },
      "source": [
        "# Inflation, money velocity, and interest rates"
      ]
    },
    {
      "cell_type": "markdown",
      "metadata": {
        "id": "xrIG-n_JnZb-",
        "colab_type": "text"
      },
      "source": [
        "We examine and attempt to replicate the results of two interesting articles by **Yi Wen**, Economist at the St. Louis Federal Reserve Bank, and **Maria A. Arias**:\n",
        "\n",
        "*What Does Money Velocity Tell Us about Low Inflation in the U.S.?*, 9/1/14 http://www.stlouisfed.org/on-the-economy/what-does-money-velocity-tell-us-about-low-inflation-in-the-u-s/\n",
        "\n",
        "*The Liquidity Trap: An Alternative Explanation for Today's Low Inflation*, April 2014, http://www.stlouisfed.org/publications/re/articles/?id=2505\n",
        "\n",
        "from which we shall quote and edit extensively. \n",
        "\n",
        "Along the way, we take a detour and explore the connection between money velocity and bond rates. This will tie together their relationship with GDP and the money supply in a fitted equation."
      ]
    },
    {
      "cell_type": "code",
      "metadata": {
        "id": "nWLrgDzmnZb_",
        "colab_type": "code",
        "colab": {
          "base_uri": "https://localhost:8080/",
          "height": 105
        },
        "outputId": "cc344ba4-b5ff-46c6-8bd3-4561a5845d39"
      },
      "source": [
        "!pip install --pre fecon236"
      ],
      "execution_count": null,
      "outputs": [
        {
          "output_type": "stream",
          "text": [
            "Collecting fecon236\n",
            "\u001b[?25l  Downloading https://files.pythonhosted.org/packages/95/66/d7039d3ab2d27fa1d63b40eb8fee1b2cb6f7bad167cab21425b18197e24d/fecon236-10.8.0-py2.py3-none-any.whl (94kB)\n",
            "\r\u001b[K     |███▌                            | 10kB 17.0MB/s eta 0:00:01\r\u001b[K     |███████                         | 20kB 1.8MB/s eta 0:00:01\r\u001b[K     |██████████▍                     | 30kB 2.3MB/s eta 0:00:01\r\u001b[K     |█████████████▉                  | 40kB 2.6MB/s eta 0:00:01\r\u001b[K     |█████████████████▍              | 51kB 2.1MB/s eta 0:00:01\r\u001b[K     |████████████████████▉           | 61kB 2.4MB/s eta 0:00:01\r\u001b[K     |████████████████████████▎       | 71kB 2.7MB/s eta 0:00:01\r\u001b[K     |███████████████████████████▊    | 81kB 2.9MB/s eta 0:00:01\r\u001b[K     |███████████████████████████████▎| 92kB 3.1MB/s eta 0:00:01\r\u001b[K     |████████████████████████████████| 102kB 2.7MB/s \n",
            "\u001b[?25hInstalling collected packages: fecon236\n",
            "Successfully installed fecon236-10.8.0\n"
          ],
          "name": "stdout"
        }
      ]
    },
    {
      "cell_type": "code",
      "metadata": {
        "jupyter": {
          "outputs_hidden": false
        },
        "id": "1a2RSgS0nZcD",
        "colab_type": "code",
        "colab": {
          "base_uri": "https://localhost:8080/",
          "height": 34
        },
        "outputId": "3e6a259f-3334-4e63-a377-7717994b3f10"
      },
      "source": [
        "#  Automatically reload modified modules:\n",
        "%load_ext autoreload\n",
        "%autoreload 2   \n",
        "#           0 will disable autoreload.\n",
        "#  Generate plots inside notebook:\n",
        "%matplotlib inline\n",
        "\n",
        "#  DISPLAY options\n",
        "from IPython.display import Image \n",
        "#  e.g. Image(filename='holt-winters-equations.png', embed=True)\n",
        "from IPython.display import YouTubeVideo\n",
        "#  e.g. YouTubeVideo('1j_HxD4iLn8')\n",
        "from IPython.display import HTML # useful for snippets\n",
        "#  e.g. HTML('<iframe src=http://en.mobile.wikipedia.org/?useformat=mobile width=700 height=350></iframe>')\n",
        "import pandas as pd\n",
        "#      pandas DataFrames are represented as text by default; enable HTML representation:\n",
        "#      [Deprecated: pd.core.format.set_printoptions( notebook_repr_html=True ) ]\n",
        "pd.set_option( 'display.notebook_repr_html', False )\n",
        "\n",
        "#  MATH display, use %%latex, rather than the following:\n",
        "#                from IPython.display import Math\n",
        "#                from IPython.display import Latex\n",
        "from IPython.core import page\n",
        "get_ipython().set_hook('show_in_pager', page.as_hook(page.display_page), 0)\n",
        "\n",
        "workd, = !pwd\n",
        "print(workd)"
      ],
      "execution_count": null,
      "outputs": [
        {
          "output_type": "stream",
          "text": [
            "/content\n"
          ],
          "name": "stdout"
        }
      ]
    },
    {
      "cell_type": "code",
      "metadata": {
        "id": "n05GulO1nZcG",
        "colab_type": "code",
        "colab": {
          "base_uri": "https://localhost:8080/",
          "height": 52
        },
        "outputId": "770b5001-e1a6-4a64-83f3-00fa67fb7d2d"
      },
      "source": [
        "from fecon236 import *"
      ],
      "execution_count": null,
      "outputs": [
        {
          "output_type": "stream",
          "text": [
            "/usr/local/lib/python3.6/dist-packages/statsmodels/tools/_testing.py:19: FutureWarning: pandas.util.testing is deprecated. Use the functions in the public API at pandas.testing instead.\n",
            "  import pandas.util.testing as tm\n"
          ],
          "name": "stderr"
        }
      ]
    },
    {
      "cell_type": "code",
      "metadata": {
        "jupyter": {
          "outputs_hidden": false
        },
        "id": "a2N4Mup3nZcJ",
        "colab_type": "code",
        "colab": {}
      },
      "source": [
        "from fecon236.util import system\n",
        "from fecon236.tool import todf, tail, tailvalue\n",
        "from fecon236.host.fred import m4infl, m4bond10, m4tips10\n",
        "from fecon236.host.hostess import get\n",
        "from fecon236.tsa.holtwinters import foreholt\n",
        "from fecon236.dst.gaussmix import gemrat"
      ],
      "execution_count": null,
      "outputs": []
    },
    {
      "cell_type": "markdown",
      "metadata": {
        "id": "4DOz6BMYnZcL",
        "colab_type": "text"
      },
      "source": [
        "# Quick intro to monetarist theory"
      ]
    },
    {
      "cell_type": "markdown",
      "metadata": {
        "id": "B6NDaeCQnZcM",
        "colab_type": "text"
      },
      "source": [
        "One of the most important theories to explain inflation is the monetarist view: according to Milton Friedman, “Inflation is always and everywhere a monetary phenomenon.” In other words, inflation occurs because there is too much money available to buy the same amount of goods and services produced in the economy. This view can also be represented by the so-called “**quantity theory of money**,” which relates the general price level, the total goods and services produced in a given period, the total money supply and the speed (velocity) at which money circulates in the economy in facilitating transactions in the following equation:\n",
        "\n",
        "    M V = P Q\n",
        "\n",
        "where:\n",
        "\n",
        "    M stands for money.\n",
        "    V stands for the velocity of money (or the rate at which people spend money).\n",
        "    P stands for the general price level (not the rate of its growth).\n",
        "    Q stands for the quantity of goods and services produced (in real terms, e.g. real GDP).\n",
        "\n",
        "Based on this equation, *holding the money velocity constant,* if the money supply (M) increases at a faster rate than real economic output (Q), the price level (P) must increase to make up the difference.\n",
        "\n",
        "[See details in David Colander, 2010, *Macroeconomics*, pp. 387ff for theories of inflation where the tautological equation becomes interpreted as bi-causal given added assumptions.]\n",
        "\n",
        "[For small percentage changes, we can thus write the so-called *inflation identity*:\n",
        "\n",
        "$ \\Delta P = \\Delta M + \\Delta V - \\Delta Q $ \n",
        "\n",
        "where ΔP represents the inflation rate. This equation is only useful if ΔV follows regular behavior (studied below). It also loses usefulness if the central bank lacks control over ΔM.]\n",
        "\n",
        "In equilibrium, real money demand is understood to be Q/V."
      ]
    },
    {
      "cell_type": "markdown",
      "metadata": {
        "id": "w4zBXMl2nZcN",
        "colab_type": "text"
      },
      "source": [
        "## Money expanded enormously due to QE \"quantitative easing\" during the Great Recession, yet inflation did not rage upwards\n",
        "\n",
        "From January 2009 to December 2013, the Federal Reserve's balance sheet grew by approximately $3.5 trillion due to the large-scale asset purchase (LSAP) policies implemented to aid the ailing economy after the Great Recession. These unconventional monetary policies, also known as quantitative easing (QE), increased credit availability in the private lending markets and put downward pressure on real interest rates.\n",
        "\n",
        "*According to the monetarist view, inflation in the U.S. should have been about 31 percent per year between 2008 and 2013, when the money supply grew at an average pace of 33 percent per year and output grew at an average pace around 2 percent.* \n",
        "\n",
        "# Question:  **Why, then, has inflation remained persistently low (below 2%) during this period (\"Great Recession\")?** \n",
        "\n",
        "[\"Normal times\" (1960-2007) shall refer to the postwar period prior to the Great Recession.]"
      ]
    },
    {
      "cell_type": "code",
      "metadata": {
        "jupyter": {
          "outputs_hidden": false
        },
        "id": "9JttkFKOnZcN",
        "colab_type": "code",
        "colab": {}
      },
      "source": [
        "#  Define our start of the Great Recession:\n",
        "recession = '2006-12-31'\n",
        "#                ^this would include 2007-Q1 data.\n",
        "\n",
        "#  According to the U.S. National Bureau of Economic Research \n",
        "#  (the official arbiter) the US recession began in December 2007. \n",
        "#  But the emergence of sub-prime loan losses in 2007 \n",
        "#  began the global crisis. \n",
        "#  Lehman Brothers went bankrupt during September 2008."
      ],
      "execution_count": null,
      "outputs": []
    },
    {
      "cell_type": "code",
      "metadata": {
        "jupyter": {
          "outputs_hidden": false
        },
        "id": "OTAJo9T1nZcP",
        "colab_type": "code",
        "colab": {}
      },
      "source": [
        "#  Let us look at headline price levels averaged, including core versions:\n",
        "P = getfred( m4infl )\n",
        "\n",
        "#  Compute YoY percentage change for INFLATION:\n",
        "Prate = pcent(P, 12)"
      ],
      "execution_count": null,
      "outputs": []
    },
    {
      "cell_type": "code",
      "metadata": {
        "jupyter": {
          "outputs_hidden": false
        },
        "id": "YKrLQp_dnZcS",
        "colab_type": "code",
        "colab": {
          "base_uri": "https://localhost:8080/",
          "height": 314
        },
        "outputId": "95924c7f-5c0b-4cf7-e423-f95db98fee96"
      },
      "source": [
        "#  Plot INFLATION rate:\n",
        "plot( Prate, 'Infl rate' )"
      ],
      "execution_count": null,
      "outputs": [
        {
          "output_type": "display_data",
          "data": {
            "image/png": "[encoded data removed]",
            "text/plain": [
              "<Figure size 432x288 with 1 Axes>"
            ]
          },
          "metadata": {
            "tags": [],
            "needs_background": "light"
          }
        },
        {
          "output_type": "stream",
          "text": [
            " ::  Stand-by, saving, 140 DPI: img-plotdf-Infl_rate.png\n"
          ],
          "name": "stdout"
        }
      ]
    },
    {
      "cell_type": "code",
      "metadata": {
        "jupyter": {
          "outputs_hidden": false
        },
        "id": "NWjOtpsonZcW",
        "colab_type": "code",
        "colab": {
          "base_uri": "https://localhost:8080/",
          "height": 34
        },
        "outputId": "ed1ac6a3-bd1a-4a13-ab64-e01cdb201ab8"
      },
      "source": [
        "#  Before Great Recession, our so-called \"normal times\":\n",
        "georet( P[:recession], 12 )"
      ],
      "execution_count": null,
      "outputs": [
        {
          "output_type": "execute_result",
          "data": {
            "text/plain": [
              "[3.8, 3.8, 0.79, 12, 576, '1959-01-01', '2006-12-01']"
            ]
          },
          "metadata": {
            "tags": []
          },
          "execution_count": 8
        }
      ]
    },
    {
      "cell_type": "code",
      "metadata": {
        "jupyter": {
          "outputs_hidden": false
        },
        "id": "PuUBBLEgnZca",
        "colab_type": "code",
        "colab": {
          "base_uri": "https://localhost:8080/",
          "height": 34
        },
        "outputId": "0e2cb56d-a200-47d6-a0f5-819e3fa93a8a"
      },
      "source": [
        "#  Great Recession through the present:\n",
        "georet( P[recession:], 12 )"
      ],
      "execution_count": null,
      "outputs": [
        {
          "output_type": "execute_result",
          "data": {
            "text/plain": [
              "[1.69, 1.69, 0.54, 12, 163, '2007-01-01', '2020-07-01']"
            ]
          },
          "metadata": {
            "tags": []
          },
          "execution_count": 9
        }
      ]
    },
    {
      "cell_type": "markdown",
      "metadata": {
        "id": "4N5FjjZvnZcc",
        "colab_type": "text"
      },
      "source": [
        "2015-03-21 The geometric mean return for prices is more than double for \"normal times\" 3.78% vs. \"Great Recession\" 1.64%. \n",
        "\n",
        "**Several reasons have been provided for the persistently low inflation.** For example, Janet Yellen said in 2009 that inflation would not take hold during a recession because of *little pressure for prices and wages to increase given that resources through the economy were underused.* \n",
        "\n",
        "Others say the unusually low inflation stems from the weakening of the money multiplier, as *banks continue to hold excess reserves instead of extending more credit through loans.* \n",
        "\n",
        "While others point to the FOMC's increased communications and forward guidance in anchoring future inflation expectations, as well as to the knowledge that the LSAPs will eventually be reversed.\n",
        "\n",
        "Andolfatto and Li note when describing the effect of QE in Japan during the 2000s, **\"even large changes in the monetary base are not likely to have any inflationary consequences if people generally believe the program will be reversed at some future date.\"** (*\"Quantitative Easing in Japan: Past and Present.\"* Federal Reserve Bank of St. Louis Economic Synopses, 2014, No. 1, Jan. 10, 2014. See http://research.stlouisfed.org/publications/es/article/10024 )"
      ]
    },
    {
      "cell_type": "markdown",
      "metadata": {
        "id": "AAiqNYbnnZcd",
        "colab_type": "text"
      },
      "source": [
        "# Answer: Velocity has not been constant, in fact, declining...\n",
        "\n",
        "The issue has to do with the velocity of money, which has never been constant, as can be seen below. **If for some reason the money velocity declines rapidly during an expansionary monetary policy period, it can offset the increase in money supply and even lead to deflation instead of inflation.**\n",
        "\n",
        "*The velocity of money can be calculated as the ratio of nominal gross domestic product (GDP) to the money supply (V=PQ/M), which can be used to gauge the economy’s strength or people’s willingness to spend money.* When there are more transactions being made throughout the economy, velocity increases, and the economy is likely to expand. The opposite is also true: Money velocity decreases when fewer transactions are being made; therefore the economy is likely to shrink.\n",
        "\n",
        "    G := P*Q i.e. nominal GDP \n",
        "    \n",
        "To measure money supply, we use the monetary base which includes notes and coins in circulation as well as bank reserves.    "
      ]
    },
    {
      "cell_type": "code",
      "metadata": {
        "jupyter": {
          "outputs_hidden": false
        },
        "id": "gdK0fX9JnZcd",
        "colab_type": "code",
        "colab": {}
      },
      "source": [
        "#  M used in the article is the St. Louis Adjusted Monetary Base:\n",
        "M = getfred( 'BOGMBASE' )\n",
        "\n",
        "#  Monetary base is traditionally the most liquid measure of the money supply.\n",
        "#  Note that bank reserves are not included in \"M1\" \n",
        "#  which is another measure of the money supply.\n",
        "#  Ref: https://en.wikipedia.org/wiki/Money_supply"
      ],
      "execution_count": null,
      "outputs": []
    },
    {
      "cell_type": "code",
      "metadata": {
        "jupyter": {
          "outputs_hidden": false
        },
        "id": "1DyRPhyfnZcg",
        "colab_type": "code",
        "colab": {
          "base_uri": "https://localhost:8080/",
          "height": 314
        },
        "outputId": "502210c8-9540-42a2-97da-d30cedac8fec"
      },
      "source": [
        "#  Data for M goes back to 1960:\n",
        "plot( M['1960':], 'Mbase' )"
      ],
      "execution_count": null,
      "outputs": [
        {
          "output_type": "display_data",
          "data": {
            "image/png": "[encoded data removed]",
            "text/plain": [
              "<Figure size 432x288 with 1 Axes>"
            ]
          },
          "metadata": {
            "tags": [],
            "needs_background": "light"
          }
        },
        {
          "output_type": "stream",
          "text": [
            " ::  Stand-by, saving, 140 DPI: img-plotdf-Mbase.png\n"
          ],
          "name": "stdout"
        }
      ]
    },
    {
      "cell_type": "code",
      "metadata": {
        "jupyter": {
          "outputs_hidden": false
        },
        "id": "NXbmikjxnZci",
        "colab_type": "code",
        "colab": {
          "base_uri": "https://localhost:8080/",
          "height": 296
        },
        "outputId": "a52cf0d1-a0e5-4fa7-9286-82c7333430d6"
      },
      "source": [
        "#  Plot for log( M ):\n",
        "plot( np.log( M['1960':] ))"
      ],
      "execution_count": null,
      "outputs": [
        {
          "output_type": "display_data",
          "data": {
            "image/png": "[encoded data removed]",
            "text/plain": [
              "<Figure size 432x288 with 1 Axes>"
            ]
          },
          "metadata": {
            "tags": [],
            "needs_background": "light"
          }
        }
      ]
    },
    {
      "cell_type": "code",
      "metadata": {
        "jupyter": {
          "outputs_hidden": false
        },
        "id": "39MxpkBmnZck",
        "colab_type": "code",
        "colab": {
          "base_uri": "https://localhost:8080/",
          "height": 34
        },
        "outputId": "75a37e8e-2c8b-4a92-a95d-d78a00671943"
      },
      "source": [
        "#  M goes parabolic after the Great Recession due to quantitative easing:\n",
        "georet( M[recession:], 12)"
      ],
      "execution_count": null,
      "outputs": [
        {
          "output_type": "execute_result",
          "data": {
            "text/plain": [
              "[12.95, 14.13, 15.39, 12, 164, '2007-01-01', '2020-08-01']"
            ]
          },
          "metadata": {
            "tags": []
          },
          "execution_count": 13
        }
      ]
    },
    {
      "cell_type": "markdown",
      "metadata": {
        "id": "FO7e1Qp4nZcn",
        "colab_type": "text"
      },
      "source": [
        "2015-03-22: As of the Great Recession, the money supply, per M the monetary base, has exploded at an annual geometric rate of 19%"
      ]
    },
    {
      "cell_type": "markdown",
      "metadata": {
        "id": "tMXDicDwnZcn",
        "colab_type": "text"
      },
      "source": [
        "## \"How The Economic Machine Works\""
      ]
    },
    {
      "cell_type": "markdown",
      "metadata": {
        "id": "4w5DHZoanZco",
        "colab_type": "text"
      },
      "source": [
        "For background information, we embed a 30-minute video by Ray Dalio (founder of the largest hedge fund, Bridgewater), which shows the fundamental importance of *transactions* both from the money and credit standpoint. This sets the stage for **velocity** which is a way of quantifying transactional turnovers in the economy."
      ]
    },
    {
      "cell_type": "code",
      "metadata": {
        "jupyter": {
          "outputs_hidden": false
        },
        "id": "YkuxpsGdnZco",
        "colab_type": "code",
        "colab": {
          "base_uri": "https://localhost:8080/",
          "height": 321
        },
        "outputId": "9bb1d6f7-31df-442c-e14a-44c85aee669a"
      },
      "source": [
        "YouTubeVideo( 'PHe0bXAIuk0' )"
      ],
      "execution_count": null,
      "outputs": [
        {
          "output_type": "execute_result",
          "data": {
            "text/html": [
              "\n",
              "        <iframe\n",
              "            width=\"400\"\n",
              "            height=\"300\"\n",
              "            src=\"https://www.youtube.com/embed/PHe0bXAIuk0\"\n",
              "            frameborder=\"0\"\n",
              "            allowfullscreen\n",
              "        ></iframe>\n",
              "        "
            ],
            "text/plain": [
              "<IPython.lib.display.YouTubeVideo at 0x7fe1e7979a58>"
            ],
            "image/jpeg": "[encoded data removed]"
          },
          "metadata": {
            "tags": []
          },
          "execution_count": 14
        }
      ]
    },
    {
      "cell_type": "markdown",
      "metadata": {
        "id": "7RLexA0QnZcq",
        "colab_type": "text"
      },
      "source": [
        "## Velocity computed and plotted"
      ]
    },
    {
      "cell_type": "code",
      "metadata": {
        "jupyter": {
          "outputs_hidden": false
        },
        "id": "wGmGgW8JnZcr",
        "colab_type": "code",
        "colab": {}
      },
      "source": [
        "#  Nominal GDP, resampled monthly:\n",
        "G = getfred( m4gdpus )"
      ],
      "execution_count": null,
      "outputs": []
    },
    {
      "cell_type": "code",
      "metadata": {
        "jupyter": {
          "outputs_hidden": false
        },
        "id": "WDerJJa_nZct",
        "colab_type": "code",
        "colab": {}
      },
      "source": [
        "V = todf( G / M )"
      ],
      "execution_count": null,
      "outputs": []
    },
    {
      "cell_type": "code",
      "metadata": {
        "jupyter": {
          "outputs_hidden": false
        },
        "id": "ZUzyu2tKnZcw",
        "colab_type": "code",
        "colab": {
          "base_uri": "https://localhost:8080/",
          "height": 314
        },
        "outputId": "fdec542c-8e53-4cc0-fa9a-ecc83be2661e"
      },
      "source": [
        "plot( V, 'Velocity Mbase' )"
      ],
      "execution_count": null,
      "outputs": [
        {
          "output_type": "display_data",
          "data": {
            "image/png": "[encoded data removed]",
            "text/plain": [
              "<Figure size 432x288 with 1 Axes>"
            ]
          },
          "metadata": {
            "tags": [],
            "needs_background": "light"
          }
        },
        {
          "output_type": "stream",
          "text": [
            " ::  Stand-by, saving, 140 DPI: img-plotdf-Velocity_Mbase.png\n"
          ],
          "name": "stdout"
        }
      ]
    },
    {
      "cell_type": "markdown",
      "metadata": {
        "id": "Yb-_AGjInZcz",
        "colab_type": "text"
      },
      "source": [
        "**Clearly velocity is not constant over time. The plunge after 2008 Q1 is very dramatic and  significant.**"
      ]
    },
    {
      "cell_type": "code",
      "metadata": {
        "jupyter": {
          "outputs_hidden": false
        },
        "id": "o6oBan1OnZcz",
        "colab_type": "code",
        "colab": {
          "base_uri": "https://localhost:8080/",
          "height": 621
        },
        "outputId": "6248bc6f-48da-468f-bea9-f5f574c172f5"
      },
      "source": [
        "stats( V )"
      ],
      "execution_count": null,
      "outputs": [
        {
          "output_type": "stream",
          "text": [
            "                Y\n",
            "count  736.000000\n",
            "mean     0.014553\n",
            "std      0.004874\n",
            "min      0.004022\n",
            "25%      0.011960\n",
            "50%      0.016300\n",
            "75%      0.018120\n",
            "max      0.021235\n",
            "\n",
            " ::  Index on min:\n",
            "Y   2020-04-01\n",
            "dtype: datetime64[ns]\n",
            "\n",
            " ::  Index on max:\n",
            "Y   1985-02-01\n",
            "dtype: datetime64[ns]\n",
            "\n",
            " ::  Head:\n",
            "                   Y\n",
            "T                   \n",
            "1959-01-01  0.010113\n",
            "1959-02-01  0.010329\n",
            "1959-03-01  0.010427\n",
            " ::  Tail:\n",
            "                   Y\n",
            "T                   \n",
            "2020-02-01  0.006041\n",
            "2020-03-01  0.005196\n",
            "2020-04-01  0.004022\n",
            "\n",
            " ::  Correlation matrix:\n",
            "     Y\n",
            "Y  1.0\n"
          ],
          "name": "stdout"
        }
      ]
    },
    {
      "cell_type": "markdown",
      "metadata": {
        "id": "YT7Dj1JinZc1",
        "colab_type": "text"
      },
      "source": [
        "During the second quarter of 2014, the velocity of the monetary base was at 4.4, its slowest pace on record. This means that every dollar in the monetary base was spent only 4.4 times in the economy, severely down from 17.2 times just prior to the Great Recession. \n",
        "\n",
        "This implies that the unprecedented monetary base increase driven by the Fed’s large money injections through its large-scale [QE] asset purchase programs has failed to cause at least a one-for-one proportional increase in nominal GDP. Thus, **it is precisely the sharp decline in velocity that has offset the sharp increase in money supply, leading to the almost no change in nominal GDP** (either P or Q)."
      ]
    },
    {
      "cell_type": "code",
      "metadata": {
        "jupyter": {
          "outputs_hidden": false
        },
        "id": "WrLmYfbonZc1",
        "colab_type": "code",
        "colab": {
          "base_uri": "https://localhost:8080/",
          "height": 296
        },
        "outputId": "e113cfa2-72cc-4795-8af1-21a6cf533ae8"
      },
      "source": [
        "#  Okay, so let's look at nominal GDP:\n",
        "plot( G[recession:] )"
      ],
      "execution_count": null,
      "outputs": [
        {
          "output_type": "display_data",
          "data": {
            "image/png": "[encoded data removed]",
            "text/plain": [
              "<Figure size 432x288 with 1 Axes>"
            ]
          },
          "metadata": {
            "tags": [],
            "needs_background": "light"
          }
        }
      ]
    },
    {
      "cell_type": "code",
      "metadata": {
        "jupyter": {
          "outputs_hidden": false
        },
        "id": "TF3BpaflnZc3",
        "colab_type": "code",
        "colab": {
          "base_uri": "https://localhost:8080/",
          "height": 34
        },
        "outputId": "b2bcc250-ce78-497e-a2ac-a4334787dc7d"
      },
      "source": [
        "#  Well, their research needs correction, for there's is indeed change in nominal GDP. \n",
        "\n",
        "georet( G[recession:], 12 )\n",
        "\n",
        "#  2015-03-22: about +2.8% per annum since 2007:"
      ],
      "execution_count": null,
      "outputs": [
        {
          "output_type": "execute_result",
          "data": {
            "text/plain": [
              "[2.39, 2.4, 1.87, 12, 160, '2007-01-01', '2020-04-01']"
            ]
          },
          "metadata": {
            "tags": []
          },
          "execution_count": 20
        }
      ]
    },
    {
      "cell_type": "code",
      "metadata": {
        "jupyter": {
          "outputs_hidden": false
        },
        "id": "pPlBQ1DwnZc5",
        "colab_type": "code",
        "colab": {
          "base_uri": "https://localhost:8080/",
          "height": 265
        },
        "outputId": "d875d635-830c-45f1-8897-7f4e05668012"
      },
      "source": [
        "from fecon236.tsa.holtwinters import *\n",
        "\n",
        "#  So where is velocity heading in the next 12 months?\n",
        "holtfred( V, 12 )"
      ],
      "execution_count": null,
      "outputs": [
        {
          "output_type": "execute_result",
          "data": {
            "text/plain": [
              "    Forecast\n",
              "0   0.004022\n",
              "1   0.005307\n",
              "2   0.005118\n",
              "3   0.004929\n",
              "4   0.004740\n",
              "5   0.004551\n",
              "6   0.004362\n",
              "7   0.004173\n",
              "8   0.003984\n",
              "9   0.003795\n",
              "10  0.003606\n",
              "11  0.003417\n",
              "12  0.003228"
            ]
          },
          "metadata": {
            "tags": []
          },
          "execution_count": 21
        }
      ]
    },
    {
      "cell_type": "code",
      "metadata": {
        "jupyter": {
          "outputs_hidden": false
        },
        "id": "t8PxLUSYnZc8",
        "colab_type": "code",
        "colab": {
          "base_uri": "https://localhost:8080/",
          "height": 34
        },
        "outputId": "8ee1433d-7f89-4757-ebd5-d0ae0c54f71d"
      },
      "source": [
        "#  If M and Q are held fixed, then the \n",
        "#  change in V should predict the change in P,\n",
        "#  i.e. the inflation rate:\n",
        "\n",
        "(3.228 / 4.022) - 1\n",
        "#  as of 2020-09-16 = -19.74% which is very deflationary, \n",
        "#  even given modest GDP growth. "
      ],
      "execution_count": null,
      "outputs": [
        {
          "output_type": "execute_result",
          "data": {
            "text/plain": [
              "-0.19741422178020884"
            ]
          },
          "metadata": {
            "tags": []
          },
          "execution_count": 35
        }
      ]
    },
    {
      "cell_type": "markdown",
      "metadata": {
        "id": "DSSyRonGnZc-",
        "colab_type": "text"
      },
      "source": [
        "## Near zero rates lead many to hoard money, thus the decline in velocity\n",
        "\n",
        "So why did the monetary base increase not cause a proportionate increase in either the general price level or GDP? The answer lies in the private sector’s dramatic increase in their willingness to hoard money instead of spend it. **Why would people suddenly decide to hoard money instead of spending it?** A possible answer lies in the combination of two issues:\n",
        "\n",
        "- **A glooming economy after the financial crisis**\n",
        "    \n",
        "- **The dramatic decrease in interest rates (to zero) that has forced investors to readjust their portfolios toward liquid money and away from interest-bearing assets such as government bonds**\n",
        "\n",
        "In this regard, the unconventional monetary policy has reinforced the recession by stimulating the private sector’s money demand through pursuing an excessively low interest rate policy (i.e., the zero-interest rate policy, ZIRP). Indeed, during the pre-recession period, for every 1 percentage point decrease in 10-year Treasury note interest rates, the velocity of the monetary base decreased 0.17 points, based on a linear regression model of the velocity onto interest rates. Since 10-year interest rates declined by about 0.5 percentage points between 2008 and 2013, the velocity of the monetary base should have decreased by about 0.085 points. But the actual velocity has gone down by 5.85 points, 69 times larger than predicted. This happened because *the nominal interest rate on short-term bonds has declined essentially to zero, and, in this case, **the best form of risk-free liquid asset is no longer the short-term government bonds, but money.** * \n",
        "\n",
        "*Notes:*\n",
        "\n",
        "- [Bond rates can be expected to drop *ceteris paribus* if economic transactions decline. But the numbers provided in the last paragraph need to be double-checked -- which we will do next. ]\n",
        "\n",
        "- [In a negative interest rate environment, there's even talk of starting ETFs which buys currency notes and stores them in a vault as an investment. Such notes can be considered as zero-coupon perpetual bearer bonds at 0%.] \n",
        "\n",
        "- [Since the Great Recession, qualification for credit has become extremely strict, which would of course diminish consumer spending. The financial instruments used to manage credit risk have become heavily regulated and discouraged under the Volker rule.]"
      ]
    },
    {
      "cell_type": "markdown",
      "metadata": {
        "id": "clgNhSHxnZc_",
        "colab_type": "text"
      },
      "source": [
        "# Velocity as a function of bond rates?"
      ]
    },
    {
      "cell_type": "code",
      "metadata": {
        "jupyter": {
          "outputs_hidden": false
        },
        "id": "IvDXuTUTnZc_",
        "colab_type": "code",
        "colab": {}
      },
      "source": [
        "#  We try replicate the findings above:\n",
        "bond = getfred( m4bond10 )\n",
        "#  Yields for 10-year Treasuries, resampled monthly."
      ],
      "execution_count": null,
      "outputs": []
    },
    {
      "cell_type": "code",
      "metadata": {
        "jupyter": {
          "outputs_hidden": false
        },
        "id": "XRVj7mqCnZdB",
        "colab_type": "code",
        "colab": {
          "base_uri": "https://localhost:8080/",
          "height": 296
        },
        "outputId": "d8c7cc17-1820-4788-8e54-616eb81343ba"
      },
      "source": [
        "#  Actual yields (not the model):\n",
        "plot( bond )"
      ],
      "execution_count": null,
      "outputs": [
        {
          "output_type": "display_data",
          "data": {
            "image/png": "[encoded data removed]",
            "text/plain": [
              "<Figure size 432x288 with 1 Axes>"
            ]
          },
          "metadata": {
            "tags": [],
            "needs_background": "light"
          }
        }
      ]
    },
    {
      "cell_type": "code",
      "metadata": {
        "jupyter": {
          "outputs_hidden": false
        },
        "id": "nrP8QnWhnZdD",
        "colab_type": "code",
        "colab": {
          "base_uri": "https://localhost:8080/",
          "height": 887
        },
        "outputId": "61db6444-574d-44bd-d05c-cb555a3f6459"
      },
      "source": [
        "#   First before the Great Recession:\n",
        "stat2( V['Y'][:recession], bond['Y'][:recession] )"
      ],
      "execution_count": null,
      "outputs": [
        {
          "output_type": "stream",
          "text": [
            " ::  FIRST variable:\n",
            "count    576.000000\n",
            "mean       0.016517\n",
            "std        0.002816\n",
            "min        0.010113\n",
            "25%        0.014040\n",
            "50%        0.017147\n",
            "75%        0.018797\n",
            "max        0.021235\n",
            "Name: Y, dtype: float64\n",
            "\n",
            " ::  SECOND variable:\n",
            "count    645.000000\n",
            "mean       6.496310\n",
            "std        2.693331\n",
            "min        2.290000\n",
            "25%        4.260000\n",
            "50%        6.110000\n",
            "75%        7.900000\n",
            "max       15.320000\n",
            "Name: Y, dtype: float64\n",
            "\n",
            " ::  CORRELATION\n",
            "0.6843855853547094\n",
            "                            OLS Regression Results                            \n",
            "==============================================================================\n",
            "Dep. Variable:                      Y   R-squared:                       0.468\n",
            "Model:                            OLS   Adj. R-squared:                  0.467\n",
            "Method:                 Least Squares   F-statistic:                     505.7\n",
            "Date:                Wed, 16 Sep 2020   Prob (F-statistic):           8.57e-81\n",
            "Time:                        16:07:33   Log-Likelihood:                 2747.7\n",
            "No. Observations:                 576   AIC:                            -5491.\n",
            "Df Residuals:                     574   BIC:                            -5483.\n",
            "Df Model:                           1                                         \n",
            "Covariance Type:            nonrobust                                         \n",
            "==============================================================================\n",
            "                 coef    std err          t      P>|t|      [0.025      0.975]\n",
            "------------------------------------------------------------------------------\n",
            "Intercept      0.0113      0.000     45.611      0.000       0.011       0.012\n",
            "X              0.0008   3.36e-05     22.488      0.000       0.001       0.001\n",
            "==============================================================================\n",
            "Omnibus:                     1958.729   Durbin-Watson:                   0.017\n",
            "Prob(Omnibus):                  0.000   Jarque-Bera (JB):               46.281\n",
            "Skew:                          -0.174   Prob(JB):                     8.92e-11\n",
            "Kurtosis:                       1.656   Cond. No.                         21.6\n",
            "==============================================================================\n",
            "\n",
            "Warnings:\n",
            "[1] Standard Errors assume that the covariance matrix of the errors is correctly specified.\n"
          ],
          "name": "stdout"
        }
      ]
    },
    {
      "cell_type": "markdown",
      "metadata": {
        "id": "5EpkvE1lnZdF",
        "colab_type": "text"
      },
      "source": [
        "For 55 years before the Great Recession, there is nice relationship between bond rates and velocity ($R^2 = 0.80$). A 100 basis point change in yield translated to 0.97 velocity points. \n",
        "\n",
        "$ V = 0.97 B + 10.96 $\n",
        "\n",
        "The bond rate B can be approximated as follows (before QE):\n",
        "\n",
        "$ B \\approx (PQ/M) - 10.72 $\n",
        "\n"
      ]
    },
    {
      "cell_type": "markdown",
      "metadata": {
        "id": "LDrzEbblnZdG",
        "colab_type": "text"
      },
      "source": [
        "## Bond rates in terms of money supply and nominal GDP"
      ]
    },
    {
      "cell_type": "markdown",
      "metadata": {
        "id": "HBYpXBOmnZdG",
        "colab_type": "text"
      },
      "source": [
        "Now we can see how the ratio of nominal GDP to money supply influences bond rates.  "
      ]
    },
    {
      "cell_type": "code",
      "metadata": {
        "jupyter": {
          "outputs_hidden": false
        },
        "id": "eT3Xc4cWnZdH",
        "colab_type": "code",
        "colab": {
          "base_uri": "https://localhost:8080/",
          "height": 296
        },
        "outputId": "281a5c0b-4153-4616-a486-02fda9365ed9"
      },
      "source": [
        "#  Recall that P*Q is our variable G for nominal GDP.\n",
        "bondmodel = todf((G / M) - 10.7242)\n",
        "\n",
        "#  We plot the DEVIATIONS for our bond rate model:\n",
        "#  (actual - model) through today.\n",
        "bonddev = todf( bond - bondmodel )\n",
        "\n",
        "plot( bonddev )"
      ],
      "execution_count": null,
      "outputs": [
        {
          "output_type": "display_data",
          "data": {
            "image/png": "[encoded data removed]",
            "text/plain": [
              "<Figure size 432x288 with 1 Axes>"
            ]
          },
          "metadata": {
            "tags": [],
            "needs_background": "light"
          }
        }
      ]
    },
    {
      "cell_type": "code",
      "metadata": {
        "jupyter": {
          "outputs_hidden": false
        },
        "id": "2rw8JKW2nZdJ",
        "colab_type": "code",
        "colab": {
          "base_uri": "https://localhost:8080/",
          "height": 296
        },
        "outputId": "e7871690-b9c8-4a78-ca92-d5ff55d44aa2"
      },
      "source": [
        "#  Let's plot the model itself, i.e. bond rate approximations:\n",
        "plot( bondmodel )"
      ],
      "execution_count": null,
      "outputs": [
        {
          "output_type": "display_data",
          "data": {
            "image/png": "[encoded data removed]",
            "text/plain": [
              "<Figure size 432x288 with 1 Axes>"
            ]
          },
          "metadata": {
            "tags": [],
            "needs_background": "light"
          }
        }
      ]
    },
    {
      "cell_type": "code",
      "metadata": {
        "jupyter": {
          "outputs_hidden": false
        },
        "id": "j1CUmpV-nZdL",
        "colab_type": "code",
        "colab": {
          "base_uri": "https://localhost:8080/",
          "height": 176
        },
        "outputId": "5e420181-8dc9-4f6a-bc39-5c64479d0b16"
      },
      "source": [
        "#  Deviations before the Great Recession\n",
        "bonddev[:recession].describe()"
      ],
      "execution_count": null,
      "outputs": [
        {
          "output_type": "execute_result",
          "data": {
            "text/plain": [
              "                Y\n",
              "count  576.000000\n",
              "mean    17.617544\n",
              "std      2.546991\n",
              "min     14.038140\n",
              "25%     15.455147\n",
              "50%     17.206287\n",
              "75%     18.770095\n",
              "max     26.024319"
            ]
          },
          "metadata": {
            "tags": []
          },
          "execution_count": 28
        }
      ]
    },
    {
      "cell_type": "markdown",
      "metadata": {
        "id": "Fx1XdebgnZdN",
        "colab_type": "text"
      },
      "source": [
        "**The bond rate model seems to work $\\pm$ 128 basis points per one standard deviation for almost six decades until the Great Recession wacks it out-of-order.** It was a very broad-stroke model anyways, not fine enough for trading bonds -- but adequate to show a definite change in interest rate regime.\n",
        "\n",
        "(The constant 10.7242 was adjusted until we got *zero mean* for bonddev before the Great Recession.)\n",
        "\n",
        "2015-03-23: The \"normal\" bond rate model estimates a 10-year Treasury rate 900 basis points *below* the current yield of +2%, i.e. a negative yield around -7%. This of course is due to the upward explosion in the monetary base M in a dampened inflation environment. (Notice the negative rates during the 1950's as projected by the the model.)\n",
        "\n",
        "*Next we look at the relationship since the Great Recession:*"
      ]
    },
    {
      "cell_type": "code",
      "metadata": {
        "jupyter": {
          "outputs_hidden": false
        },
        "id": "RITjWVTDnZdO",
        "colab_type": "code",
        "colab": {
          "base_uri": "https://localhost:8080/",
          "height": 887
        },
        "outputId": "54fcccf2-af1e-46ef-ea9b-3bc1d075b2e4"
      },
      "source": [
        "#   Since the Great Recession:\n",
        "stat2( V['Y'][recession:], bond['Y'][recession:] )"
      ],
      "execution_count": null,
      "outputs": [
        {
          "output_type": "stream",
          "text": [
            " ::  FIRST variable:\n",
            "count    160.000000\n",
            "mean       0.007483\n",
            "std        0.004108\n",
            "min        0.004022\n",
            "25%        0.005064\n",
            "50%        0.006046\n",
            "75%        0.007518\n",
            "max        0.017833\n",
            "Name: Y, dtype: float64\n",
            "\n",
            " ::  SECOND variable:\n",
            "count    164.000000\n",
            "mean       2.650976\n",
            "std        0.915311\n",
            "min        0.620000\n",
            "25%        1.980000\n",
            "50%        2.530000\n",
            "75%        3.222500\n",
            "max        5.100000\n",
            "Name: Y, dtype: float64\n",
            "\n",
            " ::  CORRELATION\n",
            "0.7776093826883606\n",
            "                            OLS Regression Results                            \n",
            "==============================================================================\n",
            "Dep. Variable:                      Y   R-squared:                       0.605\n",
            "Model:                            OLS   Adj. R-squared:                  0.602\n",
            "Method:                 Least Squares   F-statistic:                     241.7\n",
            "Date:                Wed, 16 Sep 2020   Prob (F-statistic):           1.17e-33\n",
            "Time:                        16:07:33   Log-Likelihood:                 726.90\n",
            "No. Observations:                 160   AIC:                            -1450.\n",
            "Df Residuals:                     158   BIC:                            -1444.\n",
            "Df Model:                           1                                         \n",
            "Covariance Type:            nonrobust                                         \n",
            "==============================================================================\n",
            "                 coef    std err          t      P>|t|      [0.025      0.975]\n",
            "------------------------------------------------------------------------------\n",
            "Intercept     -0.0024      0.001     -3.627      0.000      -0.004      -0.001\n",
            "X              0.0037      0.000     15.546      0.000       0.003       0.004\n",
            "==============================================================================\n",
            "Omnibus:                        8.750   Durbin-Watson:                   0.093\n",
            "Prob(Omnibus):                  0.013   Jarque-Bera (JB):                9.309\n",
            "Skew:                           0.582   Prob(JB):                      0.00952\n",
            "Kurtosis:                       2.801   Cond. No.                         10.3\n",
            "==============================================================================\n",
            "\n",
            "Warnings:\n",
            "[1] Standard Errors assume that the covariance matrix of the errors is correctly specified.\n"
          ],
          "name": "stdout"
        }
      ]
    },
    {
      "cell_type": "markdown",
      "metadata": {
        "id": "zYwFvRoPnZdQ",
        "colab_type": "text"
      },
      "source": [
        "2015-03-23: Since the Great Recession, the relationship between bond rates and velocity has deteriorated ($R^2 = 0.61$). A 100 basis point change in yield now translates to 4.00 velocity points -- which is about four times \"normal.\" But the relationship in this period is not very significant, and **also QE obviously distorted market yields for bonds**. "
      ]
    },
    {
      "cell_type": "markdown",
      "metadata": {
        "id": "dMPETFYynZdQ",
        "colab_type": "text"
      },
      "source": [
        "# Alternative explanation for low inflation: the *liquidity trap*"
      ]
    },
    {
      "cell_type": "markdown",
      "metadata": {
        "id": "Lx6JSHwMnZdQ",
        "colab_type": "text"
      },
      "source": [
        "Conventionally, the expansion of the money supply will generate inflation as more money is chasing after the same amount of goods available. **During a liquidity trap, however, increases in money supply are fully absorbed by excess demand for money (liquidity); investors hoard the increased money instead of spending it because the opportunity cost of holding cash — the forgone earnings from interest — is zero when the nominal interest rate is zero.** *Even worse, if the increased money supply is through LSAPs on long-term debts (as is the case under QE), investors are prompted to further shift their portfolio holdings from interest-bearing assets to cash.*\n",
        "\n",
        "On one hand, if the increase in money demand is proportional to the increase in money supply, inflation remains stable. On the other hand, if money demand increases more than proportionally to the change in money supply due to the downward pressure LSAPs exert on the interest rate, the price level must fall to absorb the difference between the supply and demand of money. That is, *the increase in aggregate demand for real money balances then has to be accommodated by an overall decrease in the price level for any given money supply in the goods market. Therefore, the lower the interest rate through LSAPs, the lower the price level (due to the disproportionately higher money demand). The Fed's policy to pay positive interest rates on reserves can only reinforce the problem by making cash more attractive as a store of value.*\n",
        "\n",
        "Yi Wen showed in 2013 that large-scale asset purchases by the Fed could reduce the real interest rate by 2 percentage points, but would have an insignificant effect on aggregate employment and fixed capital investment, would reduce the aggregate price level significantly, and would put severe downward pressure on the inflation rate — thanks to firms' portfolio adjustments between cash and financial assets in a liquidity trap.\n",
        "\n",
        "### Risks of Declining Inflation\n",
        "\n",
        "Not only high inflation, but low inflation can be bad for the economy. Low inflation makes cash more attractive to investors as a store of value, everything else being equal. This makes the liquidity trap easier to occur and gives the Fed less room to reduce the real interest rate as desired during a recession. Furthermore, quantitative easing through LSAPs can reinforce the liquidity trap by further reducing the long-term interest rate. In other words, *more monetary injections during a liquidity trap can only reinforce the liquidity trap by keeping the inflation rate low* (or the real return to money high).\n",
        "\n",
        "Therefore, the correct monetary policy during a liquidity trap is not to further increase money supply or reduce the interest rate but to *raise inflation expectations by raising the nominal interest rate.* If LSAP policies are reversed and the money supply decreases as the Fed sells assets in the marketplace, the nominal interest rate will increase and investors will be more likely to shift their portfolios away from cash toward interest-bearing assets. If demand for money decreases more than proportional to the decrease in money supply due to upward pressure on the interest rate, inflation will increase. In other words, **only when financial assets become more attractive than cash can the aggregate price level increase.**\n",
        "\n"
      ]
    },
    {
      "cell_type": "markdown",
      "metadata": {
        "id": "vKWVY8sUnZdR",
        "colab_type": "text"
      },
      "source": [
        "*Notes*\n",
        "\n",
        "- [Keynesians have pointed to a major example of ineffectiveness of Fed's open market operations on managing the money supply during the Great Recession. Short-term interest rates went as low as they could go in nominal terms, but no more monetary stimulus could occur. This zero bound problem has been called the liquidity trap or *\"pushing on a string\"* (the pusher being the central bank and the string being the real economy).]"
      ]
    },
    {
      "cell_type": "code",
      "metadata": {
        "jupyter": {
          "outputs_hidden": false
        },
        "id": "lctNcL1pnZdR",
        "colab_type": "code",
        "colab": {}
      },
      "source": [
        "#  Flow has obviously shifted to equities (record highs), \n",
        "#  but let's look at the classic risk-free financial asset:\n",
        "#  90-day T-bills\n",
        "bills = getfred( m4bills )"
      ],
      "execution_count": null,
      "outputs": []
    },
    {
      "cell_type": "code",
      "metadata": {
        "jupyter": {
          "outputs_hidden": false
        },
        "id": "t5M05lr-nZdT",
        "colab_type": "code",
        "colab": {
          "base_uri": "https://localhost:8080/",
          "height": 296
        },
        "outputId": "89cf3ea0-21aa-4037-af47-c8a45ed94bf0"
      },
      "source": [
        "plot( bills[recession:] )"
      ],
      "execution_count": null,
      "outputs": [
        {
          "output_type": "display_data",
          "data": {
            "image/png": "[encoded data removed]",
            "text/plain": [
              "<Figure size 432x288 with 1 Axes>"
            ]
          },
          "metadata": {
            "tags": [],
            "needs_background": "light"
          }
        }
      ]
    },
    {
      "cell_type": "code",
      "metadata": {
        "jupyter": {
          "outputs_hidden": false
        },
        "id": "WA3tu1UGnZdV",
        "colab_type": "code",
        "colab": {
          "base_uri": "https://localhost:8080/",
          "height": 621
        },
        "outputId": "64ad358d-169c-4f99-bc7b-35a9f8d4a83f"
      },
      "source": [
        "#  T-bill stats since 2010:\n",
        "stats(bills['2010':])"
      ],
      "execution_count": null,
      "outputs": [
        {
          "output_type": "stream",
          "text": [
            "                Y\n",
            "count  128.000000\n",
            "mean     0.562422\n",
            "std      0.771339\n",
            "min      0.010000\n",
            "25%      0.047500\n",
            "50%      0.130000\n",
            "75%      0.987500\n",
            "max      2.400000\n",
            "\n",
            " ::  Index on min:\n",
            "Y   2011-09-01\n",
            "dtype: datetime64[ns]\n",
            "\n",
            " ::  Index on max:\n",
            "Y   2019-03-01\n",
            "dtype: datetime64[ns]\n",
            "\n",
            " ::  Head:\n",
            "               Y\n",
            "T               \n",
            "2010-01-01  0.06\n",
            "2010-02-01  0.11\n",
            "2010-03-01  0.15\n",
            " ::  Tail:\n",
            "               Y\n",
            "T               \n",
            "2020-06-01  0.16\n",
            "2020-07-01  0.13\n",
            "2020-08-01  0.10\n",
            "\n",
            " ::  Correlation matrix:\n",
            "     Y\n",
            "Y  1.0\n"
          ],
          "name": "stdout"
        }
      ]
    },
    {
      "cell_type": "markdown",
      "metadata": {
        "id": "JfI01SepnZdX",
        "colab_type": "text"
      },
      "source": [
        "2020-09-16: The annual average return for Treasury bills since 2010 is a mere 56 basis points. So 100,000 only yields 560 annually -- and, any reasonable fees would certainly wipe out interest income!"
      ]
    },
    {
      "cell_type": "markdown",
      "metadata": {
        "id": "VtSFv45tnZdX",
        "colab_type": "text"
      },
      "source": [
        "## Concluding remarks"
      ]
    },
    {
      "cell_type": "markdown",
      "metadata": {
        "id": "L8C4PbBhnZdY",
        "colab_type": "text"
      },
      "source": [
        "Of course, this type of *policy-reinforced liquidity trap would take place only if the economy is in a deep recession in the first place. If the economy is not in a recession, monetary injections should lead to more inflation instead of less inflation because a lower interest rate generally reduces people's incentive to save and increases their incentive to spend.*\n",
        "\n",
        "The irony is that expansionary monetary policy is often called for only when the economy is in a recession. This policy dilemma makes economics a dismal science. One way to escape from it is to use expansionary fiscal policy (as suggested by the economist John Maynard Keynes). However, with the already high level of government debt across industrial countries, it takes courage and vision to implement bold expansionary fiscal policies."
      ]
    },
    {
      "cell_type": "markdown",
      "metadata": {
        "id": "CIbAer8SnZdY",
        "colab_type": "text"
      },
      "source": [
        "## Addendum"
      ]
    },
    {
      "cell_type": "markdown",
      "metadata": {
        "id": "YRV5-WUXnZdY",
        "colab_type": "text"
      },
      "source": [
        "- **On 29 October 2014, the Federal Reserve announced it would stop its sprawling six-year-old stimulus program, known as quantitative easing (a.k.a. QE or LSAP).** The Fed’s balance sheet was under \\$1 trillion when it started buying bonds through QE -- currently its balance sheet is over \\$4 trillion. To get back to \"normal,\" the Fed will need find an orderly way to sell lots of bonds (without market panic). "
      ]
    }
  ]
}